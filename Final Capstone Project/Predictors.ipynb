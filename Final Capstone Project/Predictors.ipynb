{
  "nbformat": 4,
  "nbformat_minor": 0,
  "metadata": {
    "colab": {
      "provenance": [],
      "gpuType": "T4"
    },
    "kernelspec": {
      "name": "python3",
      "display_name": "Python 3"
    },
    "language_info": {
      "name": "python"
    },
    "accelerator": "GPU",
    "widgets": {
      "application/vnd.jupyter.widget-state+json": {
        "128c2e346fe748eb99a049ed07188117": {
          "model_module": "@jupyter-widgets/controls",
          "model_name": "HBoxModel",
          "model_module_version": "1.5.0",
          "state": {
            "_dom_classes": [],
            "_model_module": "@jupyter-widgets/controls",
            "_model_module_version": "1.5.0",
            "_model_name": "HBoxModel",
            "_view_count": null,
            "_view_module": "@jupyter-widgets/controls",
            "_view_module_version": "1.5.0",
            "_view_name": "HBoxView",
            "box_style": "",
            "children": [
              "IPY_MODEL_5ab5d49558ab4899b4670ea047d2e9e0",
              "IPY_MODEL_6ffe289a9d584220a1fa03f002e4e720",
              "IPY_MODEL_b8d4706ee144426aafde7cc9d1842b21"
            ],
            "layout": "IPY_MODEL_5e53f2d60a2b49e3a2b4a27681b4b73a"
          }
        },
        "5ab5d49558ab4899b4670ea047d2e9e0": {
          "model_module": "@jupyter-widgets/controls",
          "model_name": "HTMLModel",
          "model_module_version": "1.5.0",
          "state": {
            "_dom_classes": [],
            "_model_module": "@jupyter-widgets/controls",
            "_model_module_version": "1.5.0",
            "_model_name": "HTMLModel",
            "_view_count": null,
            "_view_module": "@jupyter-widgets/controls",
            "_view_module_version": "1.5.0",
            "_view_name": "HTMLView",
            "description": "",
            "description_tooltip": null,
            "layout": "IPY_MODEL_46088c1bcef246b79e88675ce84091f5",
            "placeholder": "​",
            "style": "IPY_MODEL_32aad8cb4c4545b2b5e79a8aff897803",
            "value": "100%"
          }
        },
        "6ffe289a9d584220a1fa03f002e4e720": {
          "model_module": "@jupyter-widgets/controls",
          "model_name": "FloatProgressModel",
          "model_module_version": "1.5.0",
          "state": {
            "_dom_classes": [],
            "_model_module": "@jupyter-widgets/controls",
            "_model_module_version": "1.5.0",
            "_model_name": "FloatProgressModel",
            "_view_count": null,
            "_view_module": "@jupyter-widgets/controls",
            "_view_module_version": "1.5.0",
            "_view_name": "ProgressView",
            "bar_style": "success",
            "description": "",
            "description_tooltip": null,
            "layout": "IPY_MODEL_e3af3b4e02e244cebab977dcb13a6639",
            "max": 250,
            "min": 0,
            "orientation": "horizontal",
            "style": "IPY_MODEL_fa8c8909094740319e84200983c93b20",
            "value": 250
          }
        },
        "b8d4706ee144426aafde7cc9d1842b21": {
          "model_module": "@jupyter-widgets/controls",
          "model_name": "HTMLModel",
          "model_module_version": "1.5.0",
          "state": {
            "_dom_classes": [],
            "_model_module": "@jupyter-widgets/controls",
            "_model_module_version": "1.5.0",
            "_model_name": "HTMLModel",
            "_view_count": null,
            "_view_module": "@jupyter-widgets/controls",
            "_view_module_version": "1.5.0",
            "_view_name": "HTMLView",
            "description": "",
            "description_tooltip": null,
            "layout": "IPY_MODEL_59c0b9e023894303af4ab08589f0d13d",
            "placeholder": "​",
            "style": "IPY_MODEL_a1d4a7b3dd9848c988bb58ad4011eca5",
            "value": " 250/250 [05:06&lt;00:00,  1.26s/it]"
          }
        },
        "5e53f2d60a2b49e3a2b4a27681b4b73a": {
          "model_module": "@jupyter-widgets/base",
          "model_name": "LayoutModel",
          "model_module_version": "1.2.0",
          "state": {
            "_model_module": "@jupyter-widgets/base",
            "_model_module_version": "1.2.0",
            "_model_name": "LayoutModel",
            "_view_count": null,
            "_view_module": "@jupyter-widgets/base",
            "_view_module_version": "1.2.0",
            "_view_name": "LayoutView",
            "align_content": null,
            "align_items": null,
            "align_self": null,
            "border": null,
            "bottom": null,
            "display": null,
            "flex": null,
            "flex_flow": null,
            "grid_area": null,
            "grid_auto_columns": null,
            "grid_auto_flow": null,
            "grid_auto_rows": null,
            "grid_column": null,
            "grid_gap": null,
            "grid_row": null,
            "grid_template_areas": null,
            "grid_template_columns": null,
            "grid_template_rows": null,
            "height": null,
            "justify_content": null,
            "justify_items": null,
            "left": null,
            "margin": null,
            "max_height": null,
            "max_width": null,
            "min_height": null,
            "min_width": null,
            "object_fit": null,
            "object_position": null,
            "order": null,
            "overflow": null,
            "overflow_x": null,
            "overflow_y": null,
            "padding": null,
            "right": null,
            "top": null,
            "visibility": null,
            "width": null
          }
        },
        "46088c1bcef246b79e88675ce84091f5": {
          "model_module": "@jupyter-widgets/base",
          "model_name": "LayoutModel",
          "model_module_version": "1.2.0",
          "state": {
            "_model_module": "@jupyter-widgets/base",
            "_model_module_version": "1.2.0",
            "_model_name": "LayoutModel",
            "_view_count": null,
            "_view_module": "@jupyter-widgets/base",
            "_view_module_version": "1.2.0",
            "_view_name": "LayoutView",
            "align_content": null,
            "align_items": null,
            "align_self": null,
            "border": null,
            "bottom": null,
            "display": null,
            "flex": null,
            "flex_flow": null,
            "grid_area": null,
            "grid_auto_columns": null,
            "grid_auto_flow": null,
            "grid_auto_rows": null,
            "grid_column": null,
            "grid_gap": null,
            "grid_row": null,
            "grid_template_areas": null,
            "grid_template_columns": null,
            "grid_template_rows": null,
            "height": null,
            "justify_content": null,
            "justify_items": null,
            "left": null,
            "margin": null,
            "max_height": null,
            "max_width": null,
            "min_height": null,
            "min_width": null,
            "object_fit": null,
            "object_position": null,
            "order": null,
            "overflow": null,
            "overflow_x": null,
            "overflow_y": null,
            "padding": null,
            "right": null,
            "top": null,
            "visibility": null,
            "width": null
          }
        },
        "32aad8cb4c4545b2b5e79a8aff897803": {
          "model_module": "@jupyter-widgets/controls",
          "model_name": "DescriptionStyleModel",
          "model_module_version": "1.5.0",
          "state": {
            "_model_module": "@jupyter-widgets/controls",
            "_model_module_version": "1.5.0",
            "_model_name": "DescriptionStyleModel",
            "_view_count": null,
            "_view_module": "@jupyter-widgets/base",
            "_view_module_version": "1.2.0",
            "_view_name": "StyleView",
            "description_width": ""
          }
        },
        "e3af3b4e02e244cebab977dcb13a6639": {
          "model_module": "@jupyter-widgets/base",
          "model_name": "LayoutModel",
          "model_module_version": "1.2.0",
          "state": {
            "_model_module": "@jupyter-widgets/base",
            "_model_module_version": "1.2.0",
            "_model_name": "LayoutModel",
            "_view_count": null,
            "_view_module": "@jupyter-widgets/base",
            "_view_module_version": "1.2.0",
            "_view_name": "LayoutView",
            "align_content": null,
            "align_items": null,
            "align_self": null,
            "border": null,
            "bottom": null,
            "display": null,
            "flex": null,
            "flex_flow": null,
            "grid_area": null,
            "grid_auto_columns": null,
            "grid_auto_flow": null,
            "grid_auto_rows": null,
            "grid_column": null,
            "grid_gap": null,
            "grid_row": null,
            "grid_template_areas": null,
            "grid_template_columns": null,
            "grid_template_rows": null,
            "height": null,
            "justify_content": null,
            "justify_items": null,
            "left": null,
            "margin": null,
            "max_height": null,
            "max_width": null,
            "min_height": null,
            "min_width": null,
            "object_fit": null,
            "object_position": null,
            "order": null,
            "overflow": null,
            "overflow_x": null,
            "overflow_y": null,
            "padding": null,
            "right": null,
            "top": null,
            "visibility": null,
            "width": null
          }
        },
        "fa8c8909094740319e84200983c93b20": {
          "model_module": "@jupyter-widgets/controls",
          "model_name": "ProgressStyleModel",
          "model_module_version": "1.5.0",
          "state": {
            "_model_module": "@jupyter-widgets/controls",
            "_model_module_version": "1.5.0",
            "_model_name": "ProgressStyleModel",
            "_view_count": null,
            "_view_module": "@jupyter-widgets/base",
            "_view_module_version": "1.2.0",
            "_view_name": "StyleView",
            "bar_color": null,
            "description_width": ""
          }
        },
        "59c0b9e023894303af4ab08589f0d13d": {
          "model_module": "@jupyter-widgets/base",
          "model_name": "LayoutModel",
          "model_module_version": "1.2.0",
          "state": {
            "_model_module": "@jupyter-widgets/base",
            "_model_module_version": "1.2.0",
            "_model_name": "LayoutModel",
            "_view_count": null,
            "_view_module": "@jupyter-widgets/base",
            "_view_module_version": "1.2.0",
            "_view_name": "LayoutView",
            "align_content": null,
            "align_items": null,
            "align_self": null,
            "border": null,
            "bottom": null,
            "display": null,
            "flex": null,
            "flex_flow": null,
            "grid_area": null,
            "grid_auto_columns": null,
            "grid_auto_flow": null,
            "grid_auto_rows": null,
            "grid_column": null,
            "grid_gap": null,
            "grid_row": null,
            "grid_template_areas": null,
            "grid_template_columns": null,
            "grid_template_rows": null,
            "height": null,
            "justify_content": null,
            "justify_items": null,
            "left": null,
            "margin": null,
            "max_height": null,
            "max_width": null,
            "min_height": null,
            "min_width": null,
            "object_fit": null,
            "object_position": null,
            "order": null,
            "overflow": null,
            "overflow_x": null,
            "overflow_y": null,
            "padding": null,
            "right": null,
            "top": null,
            "visibility": null,
            "width": null
          }
        },
        "a1d4a7b3dd9848c988bb58ad4011eca5": {
          "model_module": "@jupyter-widgets/controls",
          "model_name": "DescriptionStyleModel",
          "model_module_version": "1.5.0",
          "state": {
            "_model_module": "@jupyter-widgets/controls",
            "_model_module_version": "1.5.0",
            "_model_name": "DescriptionStyleModel",
            "_view_count": null,
            "_view_module": "@jupyter-widgets/base",
            "_view_module_version": "1.2.0",
            "_view_name": "StyleView",
            "description_width": ""
          }
        },
        "41b79624ca284adbab30d390f7047ddb": {
          "model_module": "@jupyter-widgets/controls",
          "model_name": "HBoxModel",
          "model_module_version": "1.5.0",
          "state": {
            "_dom_classes": [],
            "_model_module": "@jupyter-widgets/controls",
            "_model_module_version": "1.5.0",
            "_model_name": "HBoxModel",
            "_view_count": null,
            "_view_module": "@jupyter-widgets/controls",
            "_view_module_version": "1.5.0",
            "_view_name": "HBoxView",
            "box_style": "",
            "children": [
              "IPY_MODEL_f52f1399d3ab40fd855a6e52d0fda962",
              "IPY_MODEL_a4996974a32142f38bac7fc40dc99b3e",
              "IPY_MODEL_bfbba4120bd045a4a97c1bb15cf68e30"
            ],
            "layout": "IPY_MODEL_7173bffd5ce846e7a993f666dda33783"
          }
        },
        "f52f1399d3ab40fd855a6e52d0fda962": {
          "model_module": "@jupyter-widgets/controls",
          "model_name": "HTMLModel",
          "model_module_version": "1.5.0",
          "state": {
            "_dom_classes": [],
            "_model_module": "@jupyter-widgets/controls",
            "_model_module_version": "1.5.0",
            "_model_name": "HTMLModel",
            "_view_count": null,
            "_view_module": "@jupyter-widgets/controls",
            "_view_module_version": "1.5.0",
            "_view_name": "HTMLView",
            "description": "",
            "description_tooltip": null,
            "layout": "IPY_MODEL_e40e9a557b9b4faa967ecc1db301e174",
            "placeholder": "​",
            "style": "IPY_MODEL_22cde57127114f3fbca0bec6989d4f7d",
            "value": "100%"
          }
        },
        "a4996974a32142f38bac7fc40dc99b3e": {
          "model_module": "@jupyter-widgets/controls",
          "model_name": "FloatProgressModel",
          "model_module_version": "1.5.0",
          "state": {
            "_dom_classes": [],
            "_model_module": "@jupyter-widgets/controls",
            "_model_module_version": "1.5.0",
            "_model_name": "FloatProgressModel",
            "_view_count": null,
            "_view_module": "@jupyter-widgets/controls",
            "_view_module_version": "1.5.0",
            "_view_name": "ProgressView",
            "bar_style": "success",
            "description": "",
            "description_tooltip": null,
            "layout": "IPY_MODEL_ccc4c162b1a44d07ae96cbe2c849cddf",
            "max": 250,
            "min": 0,
            "orientation": "horizontal",
            "style": "IPY_MODEL_bdba600d17ee48a6b777a6288edd3a09",
            "value": 250
          }
        },
        "bfbba4120bd045a4a97c1bb15cf68e30": {
          "model_module": "@jupyter-widgets/controls",
          "model_name": "HTMLModel",
          "model_module_version": "1.5.0",
          "state": {
            "_dom_classes": [],
            "_model_module": "@jupyter-widgets/controls",
            "_model_module_version": "1.5.0",
            "_model_name": "HTMLModel",
            "_view_count": null,
            "_view_module": "@jupyter-widgets/controls",
            "_view_module_version": "1.5.0",
            "_view_name": "HTMLView",
            "description": "",
            "description_tooltip": null,
            "layout": "IPY_MODEL_d3b181c439ea49289740a0cfaeb56d45",
            "placeholder": "​",
            "style": "IPY_MODEL_58ff60893f3c4a399584e72ddff02fb2",
            "value": " 250/250 [00:28&lt;00:00,  8.94it/s]"
          }
        },
        "7173bffd5ce846e7a993f666dda33783": {
          "model_module": "@jupyter-widgets/base",
          "model_name": "LayoutModel",
          "model_module_version": "1.2.0",
          "state": {
            "_model_module": "@jupyter-widgets/base",
            "_model_module_version": "1.2.0",
            "_model_name": "LayoutModel",
            "_view_count": null,
            "_view_module": "@jupyter-widgets/base",
            "_view_module_version": "1.2.0",
            "_view_name": "LayoutView",
            "align_content": null,
            "align_items": null,
            "align_self": null,
            "border": null,
            "bottom": null,
            "display": null,
            "flex": null,
            "flex_flow": null,
            "grid_area": null,
            "grid_auto_columns": null,
            "grid_auto_flow": null,
            "grid_auto_rows": null,
            "grid_column": null,
            "grid_gap": null,
            "grid_row": null,
            "grid_template_areas": null,
            "grid_template_columns": null,
            "grid_template_rows": null,
            "height": null,
            "justify_content": null,
            "justify_items": null,
            "left": null,
            "margin": null,
            "max_height": null,
            "max_width": null,
            "min_height": null,
            "min_width": null,
            "object_fit": null,
            "object_position": null,
            "order": null,
            "overflow": null,
            "overflow_x": null,
            "overflow_y": null,
            "padding": null,
            "right": null,
            "top": null,
            "visibility": null,
            "width": null
          }
        },
        "e40e9a557b9b4faa967ecc1db301e174": {
          "model_module": "@jupyter-widgets/base",
          "model_name": "LayoutModel",
          "model_module_version": "1.2.0",
          "state": {
            "_model_module": "@jupyter-widgets/base",
            "_model_module_version": "1.2.0",
            "_model_name": "LayoutModel",
            "_view_count": null,
            "_view_module": "@jupyter-widgets/base",
            "_view_module_version": "1.2.0",
            "_view_name": "LayoutView",
            "align_content": null,
            "align_items": null,
            "align_self": null,
            "border": null,
            "bottom": null,
            "display": null,
            "flex": null,
            "flex_flow": null,
            "grid_area": null,
            "grid_auto_columns": null,
            "grid_auto_flow": null,
            "grid_auto_rows": null,
            "grid_column": null,
            "grid_gap": null,
            "grid_row": null,
            "grid_template_areas": null,
            "grid_template_columns": null,
            "grid_template_rows": null,
            "height": null,
            "justify_content": null,
            "justify_items": null,
            "left": null,
            "margin": null,
            "max_height": null,
            "max_width": null,
            "min_height": null,
            "min_width": null,
            "object_fit": null,
            "object_position": null,
            "order": null,
            "overflow": null,
            "overflow_x": null,
            "overflow_y": null,
            "padding": null,
            "right": null,
            "top": null,
            "visibility": null,
            "width": null
          }
        },
        "22cde57127114f3fbca0bec6989d4f7d": {
          "model_module": "@jupyter-widgets/controls",
          "model_name": "DescriptionStyleModel",
          "model_module_version": "1.5.0",
          "state": {
            "_model_module": "@jupyter-widgets/controls",
            "_model_module_version": "1.5.0",
            "_model_name": "DescriptionStyleModel",
            "_view_count": null,
            "_view_module": "@jupyter-widgets/base",
            "_view_module_version": "1.2.0",
            "_view_name": "StyleView",
            "description_width": ""
          }
        },
        "ccc4c162b1a44d07ae96cbe2c849cddf": {
          "model_module": "@jupyter-widgets/base",
          "model_name": "LayoutModel",
          "model_module_version": "1.2.0",
          "state": {
            "_model_module": "@jupyter-widgets/base",
            "_model_module_version": "1.2.0",
            "_model_name": "LayoutModel",
            "_view_count": null,
            "_view_module": "@jupyter-widgets/base",
            "_view_module_version": "1.2.0",
            "_view_name": "LayoutView",
            "align_content": null,
            "align_items": null,
            "align_self": null,
            "border": null,
            "bottom": null,
            "display": null,
            "flex": null,
            "flex_flow": null,
            "grid_area": null,
            "grid_auto_columns": null,
            "grid_auto_flow": null,
            "grid_auto_rows": null,
            "grid_column": null,
            "grid_gap": null,
            "grid_row": null,
            "grid_template_areas": null,
            "grid_template_columns": null,
            "grid_template_rows": null,
            "height": null,
            "justify_content": null,
            "justify_items": null,
            "left": null,
            "margin": null,
            "max_height": null,
            "max_width": null,
            "min_height": null,
            "min_width": null,
            "object_fit": null,
            "object_position": null,
            "order": null,
            "overflow": null,
            "overflow_x": null,
            "overflow_y": null,
            "padding": null,
            "right": null,
            "top": null,
            "visibility": null,
            "width": null
          }
        },
        "bdba600d17ee48a6b777a6288edd3a09": {
          "model_module": "@jupyter-widgets/controls",
          "model_name": "ProgressStyleModel",
          "model_module_version": "1.5.0",
          "state": {
            "_model_module": "@jupyter-widgets/controls",
            "_model_module_version": "1.5.0",
            "_model_name": "ProgressStyleModel",
            "_view_count": null,
            "_view_module": "@jupyter-widgets/base",
            "_view_module_version": "1.2.0",
            "_view_name": "StyleView",
            "bar_color": null,
            "description_width": ""
          }
        },
        "d3b181c439ea49289740a0cfaeb56d45": {
          "model_module": "@jupyter-widgets/base",
          "model_name": "LayoutModel",
          "model_module_version": "1.2.0",
          "state": {
            "_model_module": "@jupyter-widgets/base",
            "_model_module_version": "1.2.0",
            "_model_name": "LayoutModel",
            "_view_count": null,
            "_view_module": "@jupyter-widgets/base",
            "_view_module_version": "1.2.0",
            "_view_name": "LayoutView",
            "align_content": null,
            "align_items": null,
            "align_self": null,
            "border": null,
            "bottom": null,
            "display": null,
            "flex": null,
            "flex_flow": null,
            "grid_area": null,
            "grid_auto_columns": null,
            "grid_auto_flow": null,
            "grid_auto_rows": null,
            "grid_column": null,
            "grid_gap": null,
            "grid_row": null,
            "grid_template_areas": null,
            "grid_template_columns": null,
            "grid_template_rows": null,
            "height": null,
            "justify_content": null,
            "justify_items": null,
            "left": null,
            "margin": null,
            "max_height": null,
            "max_width": null,
            "min_height": null,
            "min_width": null,
            "object_fit": null,
            "object_position": null,
            "order": null,
            "overflow": null,
            "overflow_x": null,
            "overflow_y": null,
            "padding": null,
            "right": null,
            "top": null,
            "visibility": null,
            "width": null
          }
        },
        "58ff60893f3c4a399584e72ddff02fb2": {
          "model_module": "@jupyter-widgets/controls",
          "model_name": "DescriptionStyleModel",
          "model_module_version": "1.5.0",
          "state": {
            "_model_module": "@jupyter-widgets/controls",
            "_model_module_version": "1.5.0",
            "_model_name": "DescriptionStyleModel",
            "_view_count": null,
            "_view_module": "@jupyter-widgets/base",
            "_view_module_version": "1.2.0",
            "_view_name": "StyleView",
            "description_width": ""
          }
        },
        "a07561239d934cf7a95bdbe7d00e40ff": {
          "model_module": "@jupyter-widgets/controls",
          "model_name": "HBoxModel",
          "model_module_version": "1.5.0",
          "state": {
            "_dom_classes": [],
            "_model_module": "@jupyter-widgets/controls",
            "_model_module_version": "1.5.0",
            "_model_name": "HBoxModel",
            "_view_count": null,
            "_view_module": "@jupyter-widgets/controls",
            "_view_module_version": "1.5.0",
            "_view_name": "HBoxView",
            "box_style": "",
            "children": [
              "IPY_MODEL_55714eb5173f4b33928fcdaec4cf9d82",
              "IPY_MODEL_1ea40086352843829caec4f446a50f70",
              "IPY_MODEL_c9f1d0704b1c4c2bb64b43a4fd268f88"
            ],
            "layout": "IPY_MODEL_a24c5aa84ea14017b541851769eb4deb"
          }
        },
        "55714eb5173f4b33928fcdaec4cf9d82": {
          "model_module": "@jupyter-widgets/controls",
          "model_name": "HTMLModel",
          "model_module_version": "1.5.0",
          "state": {
            "_dom_classes": [],
            "_model_module": "@jupyter-widgets/controls",
            "_model_module_version": "1.5.0",
            "_model_name": "HTMLModel",
            "_view_count": null,
            "_view_module": "@jupyter-widgets/controls",
            "_view_module_version": "1.5.0",
            "_view_name": "HTMLView",
            "description": "",
            "description_tooltip": null,
            "layout": "IPY_MODEL_21573a5a6ad44e39abdc6cf2e1be684f",
            "placeholder": "​",
            "style": "IPY_MODEL_59d6ecb6513c4fa9b0c3cf1e6e4babe7",
            "value": "100%"
          }
        },
        "1ea40086352843829caec4f446a50f70": {
          "model_module": "@jupyter-widgets/controls",
          "model_name": "FloatProgressModel",
          "model_module_version": "1.5.0",
          "state": {
            "_dom_classes": [],
            "_model_module": "@jupyter-widgets/controls",
            "_model_module_version": "1.5.0",
            "_model_name": "FloatProgressModel",
            "_view_count": null,
            "_view_module": "@jupyter-widgets/controls",
            "_view_module_version": "1.5.0",
            "_view_name": "ProgressView",
            "bar_style": "success",
            "description": "",
            "description_tooltip": null,
            "layout": "IPY_MODEL_5e3fac6fa1b5426eb88fa2ca7d356ecb",
            "max": 377,
            "min": 0,
            "orientation": "horizontal",
            "style": "IPY_MODEL_3131d2340a3846b28910024d765ada7a",
            "value": 377
          }
        },
        "c9f1d0704b1c4c2bb64b43a4fd268f88": {
          "model_module": "@jupyter-widgets/controls",
          "model_name": "HTMLModel",
          "model_module_version": "1.5.0",
          "state": {
            "_dom_classes": [],
            "_model_module": "@jupyter-widgets/controls",
            "_model_module_version": "1.5.0",
            "_model_name": "HTMLModel",
            "_view_count": null,
            "_view_module": "@jupyter-widgets/controls",
            "_view_module_version": "1.5.0",
            "_view_name": "HTMLView",
            "description": "",
            "description_tooltip": null,
            "layout": "IPY_MODEL_9da3b0af495c43b1be50d29a7deffc08",
            "placeholder": "​",
            "style": "IPY_MODEL_8cb1800b0a3b4f5097c68dc8e1cfc71b",
            "value": " 377/377 [00:46&lt;00:00,  8.00it/s]"
          }
        },
        "a24c5aa84ea14017b541851769eb4deb": {
          "model_module": "@jupyter-widgets/base",
          "model_name": "LayoutModel",
          "model_module_version": "1.2.0",
          "state": {
            "_model_module": "@jupyter-widgets/base",
            "_model_module_version": "1.2.0",
            "_model_name": "LayoutModel",
            "_view_count": null,
            "_view_module": "@jupyter-widgets/base",
            "_view_module_version": "1.2.0",
            "_view_name": "LayoutView",
            "align_content": null,
            "align_items": null,
            "align_self": null,
            "border": null,
            "bottom": null,
            "display": null,
            "flex": null,
            "flex_flow": null,
            "grid_area": null,
            "grid_auto_columns": null,
            "grid_auto_flow": null,
            "grid_auto_rows": null,
            "grid_column": null,
            "grid_gap": null,
            "grid_row": null,
            "grid_template_areas": null,
            "grid_template_columns": null,
            "grid_template_rows": null,
            "height": null,
            "justify_content": null,
            "justify_items": null,
            "left": null,
            "margin": null,
            "max_height": null,
            "max_width": null,
            "min_height": null,
            "min_width": null,
            "object_fit": null,
            "object_position": null,
            "order": null,
            "overflow": null,
            "overflow_x": null,
            "overflow_y": null,
            "padding": null,
            "right": null,
            "top": null,
            "visibility": null,
            "width": null
          }
        },
        "21573a5a6ad44e39abdc6cf2e1be684f": {
          "model_module": "@jupyter-widgets/base",
          "model_name": "LayoutModel",
          "model_module_version": "1.2.0",
          "state": {
            "_model_module": "@jupyter-widgets/base",
            "_model_module_version": "1.2.0",
            "_model_name": "LayoutModel",
            "_view_count": null,
            "_view_module": "@jupyter-widgets/base",
            "_view_module_version": "1.2.0",
            "_view_name": "LayoutView",
            "align_content": null,
            "align_items": null,
            "align_self": null,
            "border": null,
            "bottom": null,
            "display": null,
            "flex": null,
            "flex_flow": null,
            "grid_area": null,
            "grid_auto_columns": null,
            "grid_auto_flow": null,
            "grid_auto_rows": null,
            "grid_column": null,
            "grid_gap": null,
            "grid_row": null,
            "grid_template_areas": null,
            "grid_template_columns": null,
            "grid_template_rows": null,
            "height": null,
            "justify_content": null,
            "justify_items": null,
            "left": null,
            "margin": null,
            "max_height": null,
            "max_width": null,
            "min_height": null,
            "min_width": null,
            "object_fit": null,
            "object_position": null,
            "order": null,
            "overflow": null,
            "overflow_x": null,
            "overflow_y": null,
            "padding": null,
            "right": null,
            "top": null,
            "visibility": null,
            "width": null
          }
        },
        "59d6ecb6513c4fa9b0c3cf1e6e4babe7": {
          "model_module": "@jupyter-widgets/controls",
          "model_name": "DescriptionStyleModel",
          "model_module_version": "1.5.0",
          "state": {
            "_model_module": "@jupyter-widgets/controls",
            "_model_module_version": "1.5.0",
            "_model_name": "DescriptionStyleModel",
            "_view_count": null,
            "_view_module": "@jupyter-widgets/base",
            "_view_module_version": "1.2.0",
            "_view_name": "StyleView",
            "description_width": ""
          }
        },
        "5e3fac6fa1b5426eb88fa2ca7d356ecb": {
          "model_module": "@jupyter-widgets/base",
          "model_name": "LayoutModel",
          "model_module_version": "1.2.0",
          "state": {
            "_model_module": "@jupyter-widgets/base",
            "_model_module_version": "1.2.0",
            "_model_name": "LayoutModel",
            "_view_count": null,
            "_view_module": "@jupyter-widgets/base",
            "_view_module_version": "1.2.0",
            "_view_name": "LayoutView",
            "align_content": null,
            "align_items": null,
            "align_self": null,
            "border": null,
            "bottom": null,
            "display": null,
            "flex": null,
            "flex_flow": null,
            "grid_area": null,
            "grid_auto_columns": null,
            "grid_auto_flow": null,
            "grid_auto_rows": null,
            "grid_column": null,
            "grid_gap": null,
            "grid_row": null,
            "grid_template_areas": null,
            "grid_template_columns": null,
            "grid_template_rows": null,
            "height": null,
            "justify_content": null,
            "justify_items": null,
            "left": null,
            "margin": null,
            "max_height": null,
            "max_width": null,
            "min_height": null,
            "min_width": null,
            "object_fit": null,
            "object_position": null,
            "order": null,
            "overflow": null,
            "overflow_x": null,
            "overflow_y": null,
            "padding": null,
            "right": null,
            "top": null,
            "visibility": null,
            "width": null
          }
        },
        "3131d2340a3846b28910024d765ada7a": {
          "model_module": "@jupyter-widgets/controls",
          "model_name": "ProgressStyleModel",
          "model_module_version": "1.5.0",
          "state": {
            "_model_module": "@jupyter-widgets/controls",
            "_model_module_version": "1.5.0",
            "_model_name": "ProgressStyleModel",
            "_view_count": null,
            "_view_module": "@jupyter-widgets/base",
            "_view_module_version": "1.2.0",
            "_view_name": "StyleView",
            "bar_color": null,
            "description_width": ""
          }
        },
        "9da3b0af495c43b1be50d29a7deffc08": {
          "model_module": "@jupyter-widgets/base",
          "model_name": "LayoutModel",
          "model_module_version": "1.2.0",
          "state": {
            "_model_module": "@jupyter-widgets/base",
            "_model_module_version": "1.2.0",
            "_model_name": "LayoutModel",
            "_view_count": null,
            "_view_module": "@jupyter-widgets/base",
            "_view_module_version": "1.2.0",
            "_view_name": "LayoutView",
            "align_content": null,
            "align_items": null,
            "align_self": null,
            "border": null,
            "bottom": null,
            "display": null,
            "flex": null,
            "flex_flow": null,
            "grid_area": null,
            "grid_auto_columns": null,
            "grid_auto_flow": null,
            "grid_auto_rows": null,
            "grid_column": null,
            "grid_gap": null,
            "grid_row": null,
            "grid_template_areas": null,
            "grid_template_columns": null,
            "grid_template_rows": null,
            "height": null,
            "justify_content": null,
            "justify_items": null,
            "left": null,
            "margin": null,
            "max_height": null,
            "max_width": null,
            "min_height": null,
            "min_width": null,
            "object_fit": null,
            "object_position": null,
            "order": null,
            "overflow": null,
            "overflow_x": null,
            "overflow_y": null,
            "padding": null,
            "right": null,
            "top": null,
            "visibility": null,
            "width": null
          }
        },
        "8cb1800b0a3b4f5097c68dc8e1cfc71b": {
          "model_module": "@jupyter-widgets/controls",
          "model_name": "DescriptionStyleModel",
          "model_module_version": "1.5.0",
          "state": {
            "_model_module": "@jupyter-widgets/controls",
            "_model_module_version": "1.5.0",
            "_model_name": "DescriptionStyleModel",
            "_view_count": null,
            "_view_module": "@jupyter-widgets/base",
            "_view_module_version": "1.2.0",
            "_view_name": "StyleView",
            "description_width": ""
          }
        },
        "29172b58f835496c94a6e48559042818": {
          "model_module": "@jupyter-widgets/controls",
          "model_name": "HBoxModel",
          "model_module_version": "1.5.0",
          "state": {
            "_dom_classes": [],
            "_model_module": "@jupyter-widgets/controls",
            "_model_module_version": "1.5.0",
            "_model_name": "HBoxModel",
            "_view_count": null,
            "_view_module": "@jupyter-widgets/controls",
            "_view_module_version": "1.5.0",
            "_view_name": "HBoxView",
            "box_style": "",
            "children": [
              "IPY_MODEL_207971ebcc844807800e2623ed1b8f2f",
              "IPY_MODEL_be8b90c1a18849cc8fcb0dca43d65222",
              "IPY_MODEL_5854c51241914e59ad0dea54e31b8c57"
            ],
            "layout": "IPY_MODEL_036f320e9ff447be84ec7801683467cf"
          }
        },
        "207971ebcc844807800e2623ed1b8f2f": {
          "model_module": "@jupyter-widgets/controls",
          "model_name": "HTMLModel",
          "model_module_version": "1.5.0",
          "state": {
            "_dom_classes": [],
            "_model_module": "@jupyter-widgets/controls",
            "_model_module_version": "1.5.0",
            "_model_name": "HTMLModel",
            "_view_count": null,
            "_view_module": "@jupyter-widgets/controls",
            "_view_module_version": "1.5.0",
            "_view_name": "HTMLView",
            "description": "",
            "description_tooltip": null,
            "layout": "IPY_MODEL_ce9894255c294d768c12de64905f5d48",
            "placeholder": "​",
            "style": "IPY_MODEL_451737e5970b4d91a95185b5aed7cf09",
            "value": "100%"
          }
        },
        "be8b90c1a18849cc8fcb0dca43d65222": {
          "model_module": "@jupyter-widgets/controls",
          "model_name": "FloatProgressModel",
          "model_module_version": "1.5.0",
          "state": {
            "_dom_classes": [],
            "_model_module": "@jupyter-widgets/controls",
            "_model_module_version": "1.5.0",
            "_model_name": "FloatProgressModel",
            "_view_count": null,
            "_view_module": "@jupyter-widgets/controls",
            "_view_module_version": "1.5.0",
            "_view_name": "ProgressView",
            "bar_style": "success",
            "description": "",
            "description_tooltip": null,
            "layout": "IPY_MODEL_ab6dea35131b4b91af2e47ceaf4b2a64",
            "max": 446,
            "min": 0,
            "orientation": "horizontal",
            "style": "IPY_MODEL_fec4036ea4e54c8da58e54cebe0fdf58",
            "value": 446
          }
        },
        "5854c51241914e59ad0dea54e31b8c57": {
          "model_module": "@jupyter-widgets/controls",
          "model_name": "HTMLModel",
          "model_module_version": "1.5.0",
          "state": {
            "_dom_classes": [],
            "_model_module": "@jupyter-widgets/controls",
            "_model_module_version": "1.5.0",
            "_model_name": "HTMLModel",
            "_view_count": null,
            "_view_module": "@jupyter-widgets/controls",
            "_view_module_version": "1.5.0",
            "_view_name": "HTMLView",
            "description": "",
            "description_tooltip": null,
            "layout": "IPY_MODEL_728ed02f29744b4db62c65d950fac536",
            "placeholder": "​",
            "style": "IPY_MODEL_09e42f4b5b2344149cc8bfe352d1434e",
            "value": " 446/446 [00:48&lt;00:00,  9.81it/s]"
          }
        },
        "036f320e9ff447be84ec7801683467cf": {
          "model_module": "@jupyter-widgets/base",
          "model_name": "LayoutModel",
          "model_module_version": "1.2.0",
          "state": {
            "_model_module": "@jupyter-widgets/base",
            "_model_module_version": "1.2.0",
            "_model_name": "LayoutModel",
            "_view_count": null,
            "_view_module": "@jupyter-widgets/base",
            "_view_module_version": "1.2.0",
            "_view_name": "LayoutView",
            "align_content": null,
            "align_items": null,
            "align_self": null,
            "border": null,
            "bottom": null,
            "display": null,
            "flex": null,
            "flex_flow": null,
            "grid_area": null,
            "grid_auto_columns": null,
            "grid_auto_flow": null,
            "grid_auto_rows": null,
            "grid_column": null,
            "grid_gap": null,
            "grid_row": null,
            "grid_template_areas": null,
            "grid_template_columns": null,
            "grid_template_rows": null,
            "height": null,
            "justify_content": null,
            "justify_items": null,
            "left": null,
            "margin": null,
            "max_height": null,
            "max_width": null,
            "min_height": null,
            "min_width": null,
            "object_fit": null,
            "object_position": null,
            "order": null,
            "overflow": null,
            "overflow_x": null,
            "overflow_y": null,
            "padding": null,
            "right": null,
            "top": null,
            "visibility": null,
            "width": null
          }
        },
        "ce9894255c294d768c12de64905f5d48": {
          "model_module": "@jupyter-widgets/base",
          "model_name": "LayoutModel",
          "model_module_version": "1.2.0",
          "state": {
            "_model_module": "@jupyter-widgets/base",
            "_model_module_version": "1.2.0",
            "_model_name": "LayoutModel",
            "_view_count": null,
            "_view_module": "@jupyter-widgets/base",
            "_view_module_version": "1.2.0",
            "_view_name": "LayoutView",
            "align_content": null,
            "align_items": null,
            "align_self": null,
            "border": null,
            "bottom": null,
            "display": null,
            "flex": null,
            "flex_flow": null,
            "grid_area": null,
            "grid_auto_columns": null,
            "grid_auto_flow": null,
            "grid_auto_rows": null,
            "grid_column": null,
            "grid_gap": null,
            "grid_row": null,
            "grid_template_areas": null,
            "grid_template_columns": null,
            "grid_template_rows": null,
            "height": null,
            "justify_content": null,
            "justify_items": null,
            "left": null,
            "margin": null,
            "max_height": null,
            "max_width": null,
            "min_height": null,
            "min_width": null,
            "object_fit": null,
            "object_position": null,
            "order": null,
            "overflow": null,
            "overflow_x": null,
            "overflow_y": null,
            "padding": null,
            "right": null,
            "top": null,
            "visibility": null,
            "width": null
          }
        },
        "451737e5970b4d91a95185b5aed7cf09": {
          "model_module": "@jupyter-widgets/controls",
          "model_name": "DescriptionStyleModel",
          "model_module_version": "1.5.0",
          "state": {
            "_model_module": "@jupyter-widgets/controls",
            "_model_module_version": "1.5.0",
            "_model_name": "DescriptionStyleModel",
            "_view_count": null,
            "_view_module": "@jupyter-widgets/base",
            "_view_module_version": "1.2.0",
            "_view_name": "StyleView",
            "description_width": ""
          }
        },
        "ab6dea35131b4b91af2e47ceaf4b2a64": {
          "model_module": "@jupyter-widgets/base",
          "model_name": "LayoutModel",
          "model_module_version": "1.2.0",
          "state": {
            "_model_module": "@jupyter-widgets/base",
            "_model_module_version": "1.2.0",
            "_model_name": "LayoutModel",
            "_view_count": null,
            "_view_module": "@jupyter-widgets/base",
            "_view_module_version": "1.2.0",
            "_view_name": "LayoutView",
            "align_content": null,
            "align_items": null,
            "align_self": null,
            "border": null,
            "bottom": null,
            "display": null,
            "flex": null,
            "flex_flow": null,
            "grid_area": null,
            "grid_auto_columns": null,
            "grid_auto_flow": null,
            "grid_auto_rows": null,
            "grid_column": null,
            "grid_gap": null,
            "grid_row": null,
            "grid_template_areas": null,
            "grid_template_columns": null,
            "grid_template_rows": null,
            "height": null,
            "justify_content": null,
            "justify_items": null,
            "left": null,
            "margin": null,
            "max_height": null,
            "max_width": null,
            "min_height": null,
            "min_width": null,
            "object_fit": null,
            "object_position": null,
            "order": null,
            "overflow": null,
            "overflow_x": null,
            "overflow_y": null,
            "padding": null,
            "right": null,
            "top": null,
            "visibility": null,
            "width": null
          }
        },
        "fec4036ea4e54c8da58e54cebe0fdf58": {
          "model_module": "@jupyter-widgets/controls",
          "model_name": "ProgressStyleModel",
          "model_module_version": "1.5.0",
          "state": {
            "_model_module": "@jupyter-widgets/controls",
            "_model_module_version": "1.5.0",
            "_model_name": "ProgressStyleModel",
            "_view_count": null,
            "_view_module": "@jupyter-widgets/base",
            "_view_module_version": "1.2.0",
            "_view_name": "StyleView",
            "bar_color": null,
            "description_width": ""
          }
        },
        "728ed02f29744b4db62c65d950fac536": {
          "model_module": "@jupyter-widgets/base",
          "model_name": "LayoutModel",
          "model_module_version": "1.2.0",
          "state": {
            "_model_module": "@jupyter-widgets/base",
            "_model_module_version": "1.2.0",
            "_model_name": "LayoutModel",
            "_view_count": null,
            "_view_module": "@jupyter-widgets/base",
            "_view_module_version": "1.2.0",
            "_view_name": "LayoutView",
            "align_content": null,
            "align_items": null,
            "align_self": null,
            "border": null,
            "bottom": null,
            "display": null,
            "flex": null,
            "flex_flow": null,
            "grid_area": null,
            "grid_auto_columns": null,
            "grid_auto_flow": null,
            "grid_auto_rows": null,
            "grid_column": null,
            "grid_gap": null,
            "grid_row": null,
            "grid_template_areas": null,
            "grid_template_columns": null,
            "grid_template_rows": null,
            "height": null,
            "justify_content": null,
            "justify_items": null,
            "left": null,
            "margin": null,
            "max_height": null,
            "max_width": null,
            "min_height": null,
            "min_width": null,
            "object_fit": null,
            "object_position": null,
            "order": null,
            "overflow": null,
            "overflow_x": null,
            "overflow_y": null,
            "padding": null,
            "right": null,
            "top": null,
            "visibility": null,
            "width": null
          }
        },
        "09e42f4b5b2344149cc8bfe352d1434e": {
          "model_module": "@jupyter-widgets/controls",
          "model_name": "DescriptionStyleModel",
          "model_module_version": "1.5.0",
          "state": {
            "_model_module": "@jupyter-widgets/controls",
            "_model_module_version": "1.5.0",
            "_model_name": "DescriptionStyleModel",
            "_view_count": null,
            "_view_module": "@jupyter-widgets/base",
            "_view_module_version": "1.2.0",
            "_view_name": "StyleView",
            "description_width": ""
          }
        },
        "7f6b9a766843468d92fbe0c8f2766ab2": {
          "model_module": "@jupyter-widgets/controls",
          "model_name": "HBoxModel",
          "model_module_version": "1.5.0",
          "state": {
            "_dom_classes": [],
            "_model_module": "@jupyter-widgets/controls",
            "_model_module_version": "1.5.0",
            "_model_name": "HBoxModel",
            "_view_count": null,
            "_view_module": "@jupyter-widgets/controls",
            "_view_module_version": "1.5.0",
            "_view_name": "HBoxView",
            "box_style": "",
            "children": [
              "IPY_MODEL_b310e0f78c6049a6981e189223eb8cc1",
              "IPY_MODEL_e0f8e4c728ef4981ae0530c933989773",
              "IPY_MODEL_88c4c546e413497b8fc7a952f23a0653"
            ],
            "layout": "IPY_MODEL_3987113f7d3d41a2ad30e6cf196a6669"
          }
        },
        "b310e0f78c6049a6981e189223eb8cc1": {
          "model_module": "@jupyter-widgets/controls",
          "model_name": "HTMLModel",
          "model_module_version": "1.5.0",
          "state": {
            "_dom_classes": [],
            "_model_module": "@jupyter-widgets/controls",
            "_model_module_version": "1.5.0",
            "_model_name": "HTMLModel",
            "_view_count": null,
            "_view_module": "@jupyter-widgets/controls",
            "_view_module_version": "1.5.0",
            "_view_name": "HTMLView",
            "description": "",
            "description_tooltip": null,
            "layout": "IPY_MODEL_dd2f4b19fead4439a4e04af920968626",
            "placeholder": "​",
            "style": "IPY_MODEL_22f2e47e09b244b38a7dc23b4b777b8b",
            "value": "100%"
          }
        },
        "e0f8e4c728ef4981ae0530c933989773": {
          "model_module": "@jupyter-widgets/controls",
          "model_name": "FloatProgressModel",
          "model_module_version": "1.5.0",
          "state": {
            "_dom_classes": [],
            "_model_module": "@jupyter-widgets/controls",
            "_model_module_version": "1.5.0",
            "_model_name": "FloatProgressModel",
            "_view_count": null,
            "_view_module": "@jupyter-widgets/controls",
            "_view_module_version": "1.5.0",
            "_view_name": "ProgressView",
            "bar_style": "success",
            "description": "",
            "description_tooltip": null,
            "layout": "IPY_MODEL_f702c1dbd5b743be85649c5953270650",
            "max": 250,
            "min": 0,
            "orientation": "horizontal",
            "style": "IPY_MODEL_2c2a58cbcf3646629aa07e37d73a94c7",
            "value": 250
          }
        },
        "88c4c546e413497b8fc7a952f23a0653": {
          "model_module": "@jupyter-widgets/controls",
          "model_name": "HTMLModel",
          "model_module_version": "1.5.0",
          "state": {
            "_dom_classes": [],
            "_model_module": "@jupyter-widgets/controls",
            "_model_module_version": "1.5.0",
            "_model_name": "HTMLModel",
            "_view_count": null,
            "_view_module": "@jupyter-widgets/controls",
            "_view_module_version": "1.5.0",
            "_view_name": "HTMLView",
            "description": "",
            "description_tooltip": null,
            "layout": "IPY_MODEL_9fcece798aa3468e8a2d56d0cab639df",
            "placeholder": "​",
            "style": "IPY_MODEL_7620ea5bc9f345d28fd9b25053c8ce88",
            "value": " 250/250 [00:37&lt;00:00,  8.96it/s]"
          }
        },
        "3987113f7d3d41a2ad30e6cf196a6669": {
          "model_module": "@jupyter-widgets/base",
          "model_name": "LayoutModel",
          "model_module_version": "1.2.0",
          "state": {
            "_model_module": "@jupyter-widgets/base",
            "_model_module_version": "1.2.0",
            "_model_name": "LayoutModel",
            "_view_count": null,
            "_view_module": "@jupyter-widgets/base",
            "_view_module_version": "1.2.0",
            "_view_name": "LayoutView",
            "align_content": null,
            "align_items": null,
            "align_self": null,
            "border": null,
            "bottom": null,
            "display": null,
            "flex": null,
            "flex_flow": null,
            "grid_area": null,
            "grid_auto_columns": null,
            "grid_auto_flow": null,
            "grid_auto_rows": null,
            "grid_column": null,
            "grid_gap": null,
            "grid_row": null,
            "grid_template_areas": null,
            "grid_template_columns": null,
            "grid_template_rows": null,
            "height": null,
            "justify_content": null,
            "justify_items": null,
            "left": null,
            "margin": null,
            "max_height": null,
            "max_width": null,
            "min_height": null,
            "min_width": null,
            "object_fit": null,
            "object_position": null,
            "order": null,
            "overflow": null,
            "overflow_x": null,
            "overflow_y": null,
            "padding": null,
            "right": null,
            "top": null,
            "visibility": null,
            "width": null
          }
        },
        "dd2f4b19fead4439a4e04af920968626": {
          "model_module": "@jupyter-widgets/base",
          "model_name": "LayoutModel",
          "model_module_version": "1.2.0",
          "state": {
            "_model_module": "@jupyter-widgets/base",
            "_model_module_version": "1.2.0",
            "_model_name": "LayoutModel",
            "_view_count": null,
            "_view_module": "@jupyter-widgets/base",
            "_view_module_version": "1.2.0",
            "_view_name": "LayoutView",
            "align_content": null,
            "align_items": null,
            "align_self": null,
            "border": null,
            "bottom": null,
            "display": null,
            "flex": null,
            "flex_flow": null,
            "grid_area": null,
            "grid_auto_columns": null,
            "grid_auto_flow": null,
            "grid_auto_rows": null,
            "grid_column": null,
            "grid_gap": null,
            "grid_row": null,
            "grid_template_areas": null,
            "grid_template_columns": null,
            "grid_template_rows": null,
            "height": null,
            "justify_content": null,
            "justify_items": null,
            "left": null,
            "margin": null,
            "max_height": null,
            "max_width": null,
            "min_height": null,
            "min_width": null,
            "object_fit": null,
            "object_position": null,
            "order": null,
            "overflow": null,
            "overflow_x": null,
            "overflow_y": null,
            "padding": null,
            "right": null,
            "top": null,
            "visibility": null,
            "width": null
          }
        },
        "22f2e47e09b244b38a7dc23b4b777b8b": {
          "model_module": "@jupyter-widgets/controls",
          "model_name": "DescriptionStyleModel",
          "model_module_version": "1.5.0",
          "state": {
            "_model_module": "@jupyter-widgets/controls",
            "_model_module_version": "1.5.0",
            "_model_name": "DescriptionStyleModel",
            "_view_count": null,
            "_view_module": "@jupyter-widgets/base",
            "_view_module_version": "1.2.0",
            "_view_name": "StyleView",
            "description_width": ""
          }
        },
        "f702c1dbd5b743be85649c5953270650": {
          "model_module": "@jupyter-widgets/base",
          "model_name": "LayoutModel",
          "model_module_version": "1.2.0",
          "state": {
            "_model_module": "@jupyter-widgets/base",
            "_model_module_version": "1.2.0",
            "_model_name": "LayoutModel",
            "_view_count": null,
            "_view_module": "@jupyter-widgets/base",
            "_view_module_version": "1.2.0",
            "_view_name": "LayoutView",
            "align_content": null,
            "align_items": null,
            "align_self": null,
            "border": null,
            "bottom": null,
            "display": null,
            "flex": null,
            "flex_flow": null,
            "grid_area": null,
            "grid_auto_columns": null,
            "grid_auto_flow": null,
            "grid_auto_rows": null,
            "grid_column": null,
            "grid_gap": null,
            "grid_row": null,
            "grid_template_areas": null,
            "grid_template_columns": null,
            "grid_template_rows": null,
            "height": null,
            "justify_content": null,
            "justify_items": null,
            "left": null,
            "margin": null,
            "max_height": null,
            "max_width": null,
            "min_height": null,
            "min_width": null,
            "object_fit": null,
            "object_position": null,
            "order": null,
            "overflow": null,
            "overflow_x": null,
            "overflow_y": null,
            "padding": null,
            "right": null,
            "top": null,
            "visibility": null,
            "width": null
          }
        },
        "2c2a58cbcf3646629aa07e37d73a94c7": {
          "model_module": "@jupyter-widgets/controls",
          "model_name": "ProgressStyleModel",
          "model_module_version": "1.5.0",
          "state": {
            "_model_module": "@jupyter-widgets/controls",
            "_model_module_version": "1.5.0",
            "_model_name": "ProgressStyleModel",
            "_view_count": null,
            "_view_module": "@jupyter-widgets/base",
            "_view_module_version": "1.2.0",
            "_view_name": "StyleView",
            "bar_color": null,
            "description_width": ""
          }
        },
        "9fcece798aa3468e8a2d56d0cab639df": {
          "model_module": "@jupyter-widgets/base",
          "model_name": "LayoutModel",
          "model_module_version": "1.2.0",
          "state": {
            "_model_module": "@jupyter-widgets/base",
            "_model_module_version": "1.2.0",
            "_model_name": "LayoutModel",
            "_view_count": null,
            "_view_module": "@jupyter-widgets/base",
            "_view_module_version": "1.2.0",
            "_view_name": "LayoutView",
            "align_content": null,
            "align_items": null,
            "align_self": null,
            "border": null,
            "bottom": null,
            "display": null,
            "flex": null,
            "flex_flow": null,
            "grid_area": null,
            "grid_auto_columns": null,
            "grid_auto_flow": null,
            "grid_auto_rows": null,
            "grid_column": null,
            "grid_gap": null,
            "grid_row": null,
            "grid_template_areas": null,
            "grid_template_columns": null,
            "grid_template_rows": null,
            "height": null,
            "justify_content": null,
            "justify_items": null,
            "left": null,
            "margin": null,
            "max_height": null,
            "max_width": null,
            "min_height": null,
            "min_width": null,
            "object_fit": null,
            "object_position": null,
            "order": null,
            "overflow": null,
            "overflow_x": null,
            "overflow_y": null,
            "padding": null,
            "right": null,
            "top": null,
            "visibility": null,
            "width": null
          }
        },
        "7620ea5bc9f345d28fd9b25053c8ce88": {
          "model_module": "@jupyter-widgets/controls",
          "model_name": "DescriptionStyleModel",
          "model_module_version": "1.5.0",
          "state": {
            "_model_module": "@jupyter-widgets/controls",
            "_model_module_version": "1.5.0",
            "_model_name": "DescriptionStyleModel",
            "_view_count": null,
            "_view_module": "@jupyter-widgets/base",
            "_view_module_version": "1.2.0",
            "_view_name": "StyleView",
            "description_width": ""
          }
        },
        "18b86c4f128046ba9039396d1b5d7fbd": {
          "model_module": "@jupyter-widgets/controls",
          "model_name": "HBoxModel",
          "model_module_version": "1.5.0",
          "state": {
            "_dom_classes": [],
            "_model_module": "@jupyter-widgets/controls",
            "_model_module_version": "1.5.0",
            "_model_name": "HBoxModel",
            "_view_count": null,
            "_view_module": "@jupyter-widgets/controls",
            "_view_module_version": "1.5.0",
            "_view_name": "HBoxView",
            "box_style": "",
            "children": [
              "IPY_MODEL_81b6f7350b704394b2f6a6293cfdb798",
              "IPY_MODEL_32cd769a80cf427189cd241125f1e1e7",
              "IPY_MODEL_660dfec35d814f95abf9a0de815c3283"
            ],
            "layout": "IPY_MODEL_f5b75202ac044897b7170a0707335b54"
          }
        },
        "81b6f7350b704394b2f6a6293cfdb798": {
          "model_module": "@jupyter-widgets/controls",
          "model_name": "HTMLModel",
          "model_module_version": "1.5.0",
          "state": {
            "_dom_classes": [],
            "_model_module": "@jupyter-widgets/controls",
            "_model_module_version": "1.5.0",
            "_model_name": "HTMLModel",
            "_view_count": null,
            "_view_module": "@jupyter-widgets/controls",
            "_view_module_version": "1.5.0",
            "_view_name": "HTMLView",
            "description": "",
            "description_tooltip": null,
            "layout": "IPY_MODEL_60c5d5a7387642d083c9512aa622e1ac",
            "placeholder": "​",
            "style": "IPY_MODEL_cc4575da25714376b8b1a194e362eadb",
            "value": "100%"
          }
        },
        "32cd769a80cf427189cd241125f1e1e7": {
          "model_module": "@jupyter-widgets/controls",
          "model_name": "FloatProgressModel",
          "model_module_version": "1.5.0",
          "state": {
            "_dom_classes": [],
            "_model_module": "@jupyter-widgets/controls",
            "_model_module_version": "1.5.0",
            "_model_name": "FloatProgressModel",
            "_view_count": null,
            "_view_module": "@jupyter-widgets/controls",
            "_view_module_version": "1.5.0",
            "_view_name": "ProgressView",
            "bar_style": "success",
            "description": "",
            "description_tooltip": null,
            "layout": "IPY_MODEL_4eb25298dfec44b5b2124a5618cc0de4",
            "max": 446,
            "min": 0,
            "orientation": "horizontal",
            "style": "IPY_MODEL_297a5ec799ab45b7b9e1cf5628c47568",
            "value": 446
          }
        },
        "660dfec35d814f95abf9a0de815c3283": {
          "model_module": "@jupyter-widgets/controls",
          "model_name": "HTMLModel",
          "model_module_version": "1.5.0",
          "state": {
            "_dom_classes": [],
            "_model_module": "@jupyter-widgets/controls",
            "_model_module_version": "1.5.0",
            "_model_name": "HTMLModel",
            "_view_count": null,
            "_view_module": "@jupyter-widgets/controls",
            "_view_module_version": "1.5.0",
            "_view_name": "HTMLView",
            "description": "",
            "description_tooltip": null,
            "layout": "IPY_MODEL_e7fb0152b1e048f1b7d96908477514c2",
            "placeholder": "​",
            "style": "IPY_MODEL_b70c1022129042d3b9193fed50ee9047",
            "value": " 446/446 [00:52&lt;00:00,  7.63it/s]"
          }
        },
        "f5b75202ac044897b7170a0707335b54": {
          "model_module": "@jupyter-widgets/base",
          "model_name": "LayoutModel",
          "model_module_version": "1.2.0",
          "state": {
            "_model_module": "@jupyter-widgets/base",
            "_model_module_version": "1.2.0",
            "_model_name": "LayoutModel",
            "_view_count": null,
            "_view_module": "@jupyter-widgets/base",
            "_view_module_version": "1.2.0",
            "_view_name": "LayoutView",
            "align_content": null,
            "align_items": null,
            "align_self": null,
            "border": null,
            "bottom": null,
            "display": null,
            "flex": null,
            "flex_flow": null,
            "grid_area": null,
            "grid_auto_columns": null,
            "grid_auto_flow": null,
            "grid_auto_rows": null,
            "grid_column": null,
            "grid_gap": null,
            "grid_row": null,
            "grid_template_areas": null,
            "grid_template_columns": null,
            "grid_template_rows": null,
            "height": null,
            "justify_content": null,
            "justify_items": null,
            "left": null,
            "margin": null,
            "max_height": null,
            "max_width": null,
            "min_height": null,
            "min_width": null,
            "object_fit": null,
            "object_position": null,
            "order": null,
            "overflow": null,
            "overflow_x": null,
            "overflow_y": null,
            "padding": null,
            "right": null,
            "top": null,
            "visibility": null,
            "width": null
          }
        },
        "60c5d5a7387642d083c9512aa622e1ac": {
          "model_module": "@jupyter-widgets/base",
          "model_name": "LayoutModel",
          "model_module_version": "1.2.0",
          "state": {
            "_model_module": "@jupyter-widgets/base",
            "_model_module_version": "1.2.0",
            "_model_name": "LayoutModel",
            "_view_count": null,
            "_view_module": "@jupyter-widgets/base",
            "_view_module_version": "1.2.0",
            "_view_name": "LayoutView",
            "align_content": null,
            "align_items": null,
            "align_self": null,
            "border": null,
            "bottom": null,
            "display": null,
            "flex": null,
            "flex_flow": null,
            "grid_area": null,
            "grid_auto_columns": null,
            "grid_auto_flow": null,
            "grid_auto_rows": null,
            "grid_column": null,
            "grid_gap": null,
            "grid_row": null,
            "grid_template_areas": null,
            "grid_template_columns": null,
            "grid_template_rows": null,
            "height": null,
            "justify_content": null,
            "justify_items": null,
            "left": null,
            "margin": null,
            "max_height": null,
            "max_width": null,
            "min_height": null,
            "min_width": null,
            "object_fit": null,
            "object_position": null,
            "order": null,
            "overflow": null,
            "overflow_x": null,
            "overflow_y": null,
            "padding": null,
            "right": null,
            "top": null,
            "visibility": null,
            "width": null
          }
        },
        "cc4575da25714376b8b1a194e362eadb": {
          "model_module": "@jupyter-widgets/controls",
          "model_name": "DescriptionStyleModel",
          "model_module_version": "1.5.0",
          "state": {
            "_model_module": "@jupyter-widgets/controls",
            "_model_module_version": "1.5.0",
            "_model_name": "DescriptionStyleModel",
            "_view_count": null,
            "_view_module": "@jupyter-widgets/base",
            "_view_module_version": "1.2.0",
            "_view_name": "StyleView",
            "description_width": ""
          }
        },
        "4eb25298dfec44b5b2124a5618cc0de4": {
          "model_module": "@jupyter-widgets/base",
          "model_name": "LayoutModel",
          "model_module_version": "1.2.0",
          "state": {
            "_model_module": "@jupyter-widgets/base",
            "_model_module_version": "1.2.0",
            "_model_name": "LayoutModel",
            "_view_count": null,
            "_view_module": "@jupyter-widgets/base",
            "_view_module_version": "1.2.0",
            "_view_name": "LayoutView",
            "align_content": null,
            "align_items": null,
            "align_self": null,
            "border": null,
            "bottom": null,
            "display": null,
            "flex": null,
            "flex_flow": null,
            "grid_area": null,
            "grid_auto_columns": null,
            "grid_auto_flow": null,
            "grid_auto_rows": null,
            "grid_column": null,
            "grid_gap": null,
            "grid_row": null,
            "grid_template_areas": null,
            "grid_template_columns": null,
            "grid_template_rows": null,
            "height": null,
            "justify_content": null,
            "justify_items": null,
            "left": null,
            "margin": null,
            "max_height": null,
            "max_width": null,
            "min_height": null,
            "min_width": null,
            "object_fit": null,
            "object_position": null,
            "order": null,
            "overflow": null,
            "overflow_x": null,
            "overflow_y": null,
            "padding": null,
            "right": null,
            "top": null,
            "visibility": null,
            "width": null
          }
        },
        "297a5ec799ab45b7b9e1cf5628c47568": {
          "model_module": "@jupyter-widgets/controls",
          "model_name": "ProgressStyleModel",
          "model_module_version": "1.5.0",
          "state": {
            "_model_module": "@jupyter-widgets/controls",
            "_model_module_version": "1.5.0",
            "_model_name": "ProgressStyleModel",
            "_view_count": null,
            "_view_module": "@jupyter-widgets/base",
            "_view_module_version": "1.2.0",
            "_view_name": "StyleView",
            "bar_color": null,
            "description_width": ""
          }
        },
        "e7fb0152b1e048f1b7d96908477514c2": {
          "model_module": "@jupyter-widgets/base",
          "model_name": "LayoutModel",
          "model_module_version": "1.2.0",
          "state": {
            "_model_module": "@jupyter-widgets/base",
            "_model_module_version": "1.2.0",
            "_model_name": "LayoutModel",
            "_view_count": null,
            "_view_module": "@jupyter-widgets/base",
            "_view_module_version": "1.2.0",
            "_view_name": "LayoutView",
            "align_content": null,
            "align_items": null,
            "align_self": null,
            "border": null,
            "bottom": null,
            "display": null,
            "flex": null,
            "flex_flow": null,
            "grid_area": null,
            "grid_auto_columns": null,
            "grid_auto_flow": null,
            "grid_auto_rows": null,
            "grid_column": null,
            "grid_gap": null,
            "grid_row": null,
            "grid_template_areas": null,
            "grid_template_columns": null,
            "grid_template_rows": null,
            "height": null,
            "justify_content": null,
            "justify_items": null,
            "left": null,
            "margin": null,
            "max_height": null,
            "max_width": null,
            "min_height": null,
            "min_width": null,
            "object_fit": null,
            "object_position": null,
            "order": null,
            "overflow": null,
            "overflow_x": null,
            "overflow_y": null,
            "padding": null,
            "right": null,
            "top": null,
            "visibility": null,
            "width": null
          }
        },
        "b70c1022129042d3b9193fed50ee9047": {
          "model_module": "@jupyter-widgets/controls",
          "model_name": "DescriptionStyleModel",
          "model_module_version": "1.5.0",
          "state": {
            "_model_module": "@jupyter-widgets/controls",
            "_model_module_version": "1.5.0",
            "_model_name": "DescriptionStyleModel",
            "_view_count": null,
            "_view_module": "@jupyter-widgets/base",
            "_view_module_version": "1.2.0",
            "_view_name": "StyleView",
            "description_width": ""
          }
        }
      }
    }
  },
  "cells": [
    {
      "cell_type": "markdown",
      "source": [
        "# Import libraries"
      ],
      "metadata": {
        "id": "_LGyGNUBWFy0"
      }
    },
    {
      "cell_type": "code",
      "execution_count": 1,
      "metadata": {
        "colab": {
          "base_uri": "https://localhost:8080/"
        },
        "id": "8EcwP_IZDCAI",
        "outputId": "6d14126d-341c-40aa-a946-53df5c498270"
      },
      "outputs": [
        {
          "output_type": "stream",
          "name": "stdout",
          "text": [
            "Requirement already satisfied: gdown in /usr/local/lib/python3.10/dist-packages (4.7.3)\n",
            "Collecting gdown\n",
            "  Downloading gdown-5.1.0-py3-none-any.whl (17 kB)\n",
            "Requirement already satisfied: beautifulsoup4 in /usr/local/lib/python3.10/dist-packages (from gdown) (4.12.3)\n",
            "Requirement already satisfied: filelock in /usr/local/lib/python3.10/dist-packages (from gdown) (3.13.1)\n",
            "Requirement already satisfied: requests[socks] in /usr/local/lib/python3.10/dist-packages (from gdown) (2.31.0)\n",
            "Requirement already satisfied: tqdm in /usr/local/lib/python3.10/dist-packages (from gdown) (4.66.2)\n",
            "Requirement already satisfied: soupsieve>1.2 in /usr/local/lib/python3.10/dist-packages (from beautifulsoup4->gdown) (2.5)\n",
            "Requirement already satisfied: charset-normalizer<4,>=2 in /usr/local/lib/python3.10/dist-packages (from requests[socks]->gdown) (3.3.2)\n",
            "Requirement already satisfied: idna<4,>=2.5 in /usr/local/lib/python3.10/dist-packages (from requests[socks]->gdown) (3.6)\n",
            "Requirement already satisfied: urllib3<3,>=1.21.1 in /usr/local/lib/python3.10/dist-packages (from requests[socks]->gdown) (2.0.7)\n",
            "Requirement already satisfied: certifi>=2017.4.17 in /usr/local/lib/python3.10/dist-packages (from requests[socks]->gdown) (2024.2.2)\n",
            "Requirement already satisfied: PySocks!=1.5.7,>=1.5.6 in /usr/local/lib/python3.10/dist-packages (from requests[socks]->gdown) (1.7.1)\n",
            "Installing collected packages: gdown\n",
            "  Attempting uninstall: gdown\n",
            "    Found existing installation: gdown 4.7.3\n",
            "    Uninstalling gdown-4.7.3:\n",
            "      Successfully uninstalled gdown-4.7.3\n",
            "Successfully installed gdown-5.1.0\n"
          ]
        }
      ],
      "source": [
        "pip install --upgrade gdown"
      ]
    },
    {
      "cell_type": "code",
      "source": [
        "pip install yoloface"
      ],
      "metadata": {
        "colab": {
          "base_uri": "https://localhost:8080/"
        },
        "id": "x5vnFshAMKcX",
        "outputId": "8d0981b7-03ba-4f04-fc72-64146f5712e1"
      },
      "execution_count": 2,
      "outputs": [
        {
          "output_type": "stream",
          "name": "stdout",
          "text": [
            "Collecting yoloface\n",
            "  Downloading yoloface-0.0.4.tar.gz (6.8 kB)\n",
            "  Preparing metadata (setup.py) ... \u001b[?25l\u001b[?25hdone\n",
            "Requirement already satisfied: numpy in /usr/local/lib/python3.10/dist-packages (from yoloface) (1.25.2)\n",
            "Requirement already satisfied: Pillow in /usr/local/lib/python3.10/dist-packages (from yoloface) (9.4.0)\n",
            "Requirement already satisfied: gdown in /usr/local/lib/python3.10/dist-packages (from yoloface) (5.1.0)\n",
            "Requirement already satisfied: opencv-python in /usr/local/lib/python3.10/dist-packages (from yoloface) (4.8.0.76)\n",
            "Requirement already satisfied: beautifulsoup4 in /usr/local/lib/python3.10/dist-packages (from gdown->yoloface) (4.12.3)\n",
            "Requirement already satisfied: filelock in /usr/local/lib/python3.10/dist-packages (from gdown->yoloface) (3.13.1)\n",
            "Requirement already satisfied: requests[socks] in /usr/local/lib/python3.10/dist-packages (from gdown->yoloface) (2.31.0)\n",
            "Requirement already satisfied: tqdm in /usr/local/lib/python3.10/dist-packages (from gdown->yoloface) (4.66.2)\n",
            "Requirement already satisfied: soupsieve>1.2 in /usr/local/lib/python3.10/dist-packages (from beautifulsoup4->gdown->yoloface) (2.5)\n",
            "Requirement already satisfied: charset-normalizer<4,>=2 in /usr/local/lib/python3.10/dist-packages (from requests[socks]->gdown->yoloface) (3.3.2)\n",
            "Requirement already satisfied: idna<4,>=2.5 in /usr/local/lib/python3.10/dist-packages (from requests[socks]->gdown->yoloface) (3.6)\n",
            "Requirement already satisfied: urllib3<3,>=1.21.1 in /usr/local/lib/python3.10/dist-packages (from requests[socks]->gdown->yoloface) (2.0.7)\n",
            "Requirement already satisfied: certifi>=2017.4.17 in /usr/local/lib/python3.10/dist-packages (from requests[socks]->gdown->yoloface) (2024.2.2)\n",
            "Requirement already satisfied: PySocks!=1.5.7,>=1.5.6 in /usr/local/lib/python3.10/dist-packages (from requests[socks]->gdown->yoloface) (1.7.1)\n",
            "Building wheels for collected packages: yoloface\n",
            "  Building wheel for yoloface (setup.py) ... \u001b[?25l\u001b[?25hdone\n",
            "  Created wheel for yoloface: filename=yoloface-0.0.4-py3-none-any.whl size=5967 sha256=edbb41a5c753b27051fb284f65c83c41ae257040aba5d67ff889efb22101bb29\n",
            "  Stored in directory: /root/.cache/pip/wheels/c9/6b/62/3ca061bd4188557f748912b72d346dd58de3acb73a64cc10c3\n",
            "Successfully built yoloface\n",
            "Installing collected packages: yoloface\n",
            "Successfully installed yoloface-0.0.4\n"
          ]
        }
      ]
    },
    {
      "cell_type": "code",
      "source": [
        "import keras\n",
        "import json\n",
        "import cv2\n",
        "from keras.utils import img_to_array\n",
        "import numpy as np\n",
        "import matplotlib.pyplot as plt\n",
        "from tqdm.notebook import tqdm"
      ],
      "metadata": {
        "id": "up4BY0SZWIC3"
      },
      "execution_count": 3,
      "outputs": []
    },
    {
      "cell_type": "code",
      "source": [
        "from yoloface import face_analysis"
      ],
      "metadata": {
        "id": "KOZnrD9dW5xL"
      },
      "execution_count": 4,
      "outputs": []
    },
    {
      "cell_type": "markdown",
      "source": [
        "# Get models trained"
      ],
      "metadata": {
        "id": "X71P_I7jDtzR"
      }
    },
    {
      "cell_type": "code",
      "source": [
        "!gdown 1IIFhwrQlc-_0qxlDHfGpupcXYapSvabE\n",
        "\n",
        "# Use this"
      ],
      "metadata": {
        "colab": {
          "base_uri": "https://localhost:8080/"
        },
        "id": "JkCtxvE9Hieo",
        "outputId": "35a4d38e-0ef3-48f2-c64e-4613069432d5"
      },
      "execution_count": 5,
      "outputs": [
        {
          "output_type": "stream",
          "name": "stdout",
          "text": [
            "Downloading...\n",
            "From: https://drive.google.com/uc?id=1IIFhwrQlc-_0qxlDHfGpupcXYapSvabE\n",
            "To: /content/emotion_model_v1_89.keras\n",
            "100% 4.32M/4.32M [00:00<00:00, 21.2MB/s]\n"
          ]
        }
      ]
    },
    {
      "cell_type": "code",
      "source": [
        "!gdown 1Ht_hHjVYFEKeZwmRgCL-TF9NkcnUAH06"
      ],
      "metadata": {
        "colab": {
          "base_uri": "https://localhost:8080/"
        },
        "id": "HB9heDBkS5fs",
        "outputId": "bd680194-223a-46fb-efb7-128988a18699"
      },
      "execution_count": null,
      "outputs": [
        {
          "output_type": "stream",
          "name": "stdout",
          "text": [
            "Downloading...\n",
            "From (original): https://drive.google.com/uc?id=1Ht_hHjVYFEKeZwmRgCL-TF9NkcnUAH06\n",
            "From (redirected): https://drive.google.com/uc?id=1Ht_hHjVYFEKeZwmRgCL-TF9NkcnUAH06&confirm=t&uuid=22108383-68c6-44b0-a461-d4b3a4127379\n",
            "To: /content/emotion_model_vgg16.keras\n",
            "100% 62.6M/62.6M [00:02<00:00, 30.3MB/s]\n"
          ]
        }
      ]
    },
    {
      "cell_type": "code",
      "source": [
        "!gdown 17L_CODxToYudsIw0zS9D77rmQrVaq-qM"
      ],
      "metadata": {
        "colab": {
          "base_uri": "https://localhost:8080/"
        },
        "id": "1CAIbpYJUmCY",
        "outputId": "6c0e4771-16cb-44b6-eae8-404f34cafd77"
      },
      "execution_count": null,
      "outputs": [
        {
          "output_type": "stream",
          "name": "stdout",
          "text": [
            "Downloading...\n",
            "From: https://drive.google.com/uc?id=17L_CODxToYudsIw0zS9D77rmQrVaq-qM\n",
            "To: /content/emotion_model_v2.keras\n",
            "100% 4.32M/4.32M [00:00<00:00, 21.8MB/s]\n"
          ]
        }
      ]
    },
    {
      "cell_type": "code",
      "source": [
        "!gdown 1j8KkVHIV8k6PPC_R6LdqZZIRYcR-_ZFm\n",
        "\n",
        "# Use this"
      ],
      "metadata": {
        "colab": {
          "base_uri": "https://localhost:8080/"
        },
        "id": "64YMG-TtagzL",
        "outputId": "27f4a426-0538-4a22-f2f7-bf9a661f68ba"
      },
      "execution_count": 6,
      "outputs": [
        {
          "output_type": "stream",
          "name": "stdout",
          "text": [
            "Downloading...\n",
            "From: https://drive.google.com/uc?id=1j8KkVHIV8k6PPC_R6LdqZZIRYcR-_ZFm\n",
            "To: /content/emotion_class_indices.json\n",
            "\r  0% 0.00/94.0 [00:00<?, ?B/s]\r100% 94.0/94.0 [00:00<00:00, 419kB/s]\n"
          ]
        }
      ]
    },
    {
      "cell_type": "code",
      "source": [
        "!gdown 1-r7q7jSx16-bDehg1oFKiS3ZELHS5Jdf"
      ],
      "metadata": {
        "id": "IxEOCiKcLHSn",
        "colab": {
          "base_uri": "https://localhost:8080/"
        },
        "outputId": "b3f6dda2-bca8-4aa3-96ea-fe25355e6b35"
      },
      "execution_count": 7,
      "outputs": [
        {
          "output_type": "stream",
          "name": "stdout",
          "text": [
            "Downloading...\n",
            "From: https://drive.google.com/uc?id=1-r7q7jSx16-bDehg1oFKiS3ZELHS5Jdf\n",
            "To: /content/film.mp4\n",
            "\r  0% 0.00/2.17M [00:00<?, ?B/s]\r 48% 1.05M/2.17M [00:00<00:00, 10.3MB/s]\r100% 2.17M/2.17M [00:00<00:00, 17.3MB/s]\n"
          ]
        }
      ]
    },
    {
      "cell_type": "code",
      "source": [
        "!gdown 1wT9EmTAFW0eb0DTOoh-_SompINukWQjI"
      ],
      "metadata": {
        "colab": {
          "base_uri": "https://localhost:8080/"
        },
        "id": "o0AwKuSxy8r-",
        "outputId": "0f7f0037-7c58-435a-940b-88cbd643adc5"
      },
      "execution_count": null,
      "outputs": [
        {
          "output_type": "stream",
          "name": "stdout",
          "text": [
            "Downloading...\n",
            "From (original): https://drive.google.com/uc?id=1wT9EmTAFW0eb0DTOoh-_SompINukWQjI\n",
            "From (redirected): https://drive.google.com/uc?id=1wT9EmTAFW0eb0DTOoh-_SompINukWQjI&confirm=t&uuid=68cc0292-908e-4a82-ad6c-5f0070987cfa\n",
            "To: /content/agemodel_asian_v1.keras\n",
            "100% 53.2M/53.2M [00:01<00:00, 35.8MB/s]\n"
          ]
        }
      ]
    },
    {
      "cell_type": "code",
      "source": [
        "!gdown 1IwDMDcayoBkHJ5xg1SiROVb96TPKox3c"
      ],
      "metadata": {
        "colab": {
          "base_uri": "https://localhost:8080/"
        },
        "id": "4J5h4x5epsuy",
        "outputId": "20a9dd39-7781-4a47-f197-feca60897c3b"
      },
      "execution_count": null,
      "outputs": [
        {
          "output_type": "stream",
          "name": "stdout",
          "text": [
            "Downloading...\n",
            "From: https://drive.google.com/uc?id=1IwDMDcayoBkHJ5xg1SiROVb96TPKox3c\n",
            "To: /content/age_model_utk.keras\n",
            "100% 53.2M/53.2M [00:01<00:00, 28.2MB/s]\n"
          ]
        }
      ]
    },
    {
      "cell_type": "code",
      "source": [
        "!gdown 1z9-XJbBmNfTBP6gej0xPooeZQncrRS2r\n",
        "\n",
        "# Use this"
      ],
      "metadata": {
        "colab": {
          "base_uri": "https://localhost:8080/"
        },
        "id": "9npQAzMUVk9D",
        "outputId": "6ac94228-0f61-4052-bf77-eac1c3f31c2f"
      },
      "execution_count": 8,
      "outputs": [
        {
          "output_type": "stream",
          "name": "stdout",
          "text": [
            "Downloading...\n",
            "From (original): https://drive.google.com/uc?id=1z9-XJbBmNfTBP6gej0xPooeZQncrRS2r\n",
            "From (redirected): https://drive.google.com/uc?id=1z9-XJbBmNfTBP6gej0xPooeZQncrRS2r&confirm=t&uuid=d54eaddc-5388-417a-8dbd-ee0cb756b76b\n",
            "To: /content/agemodel_asian_vgg16.keras\n",
            "100% 170M/170M [00:05<00:00, 30.8MB/s]\n"
          ]
        }
      ]
    },
    {
      "cell_type": "code",
      "source": [
        "!gdown 1qwYqfBuMsgGTcSJ6wQ6gPZnxQaerJN_2"
      ],
      "metadata": {
        "colab": {
          "base_uri": "https://localhost:8080/"
        },
        "id": "6WsDDAMTzE0e",
        "outputId": "44c3457a-3e07-46c0-d450-3de93481b094"
      },
      "execution_count": null,
      "outputs": [
        {
          "output_type": "stream",
          "name": "stdout",
          "text": [
            "Downloading...\n",
            "From: https://drive.google.com/uc?id=1qwYqfBuMsgGTcSJ6wQ6gPZnxQaerJN_2\n",
            "To: /content/gen_model_v1.keras\n",
            "100% 53.2M/53.2M [00:00<00:00, 230MB/s]\n"
          ]
        }
      ]
    },
    {
      "cell_type": "code",
      "source": [
        "!gdown 1-GwQZnjMk5Zqikrg3CJsJN7AGqKF0uWB"
      ],
      "metadata": {
        "colab": {
          "base_uri": "https://localhost:8080/"
        },
        "id": "3EIS4xisV-Hs",
        "outputId": "50c05550-5850-4a16-ffb5-be4e1a3c7c75"
      },
      "execution_count": 9,
      "outputs": [
        {
          "output_type": "stream",
          "name": "stdout",
          "text": [
            "Downloading...\n",
            "From (original): https://drive.google.com/uc?id=1-GwQZnjMk5Zqikrg3CJsJN7AGqKF0uWB\n",
            "From (redirected): https://drive.google.com/uc?id=1-GwQZnjMk5Zqikrg3CJsJN7AGqKF0uWB&confirm=t&uuid=a1bb6507-6351-402a-b91e-c9d90fe1210f\n",
            "To: /content/genmodel_asian_vgg16.keras\n",
            "100% 170M/170M [00:02<00:00, 75.6MB/s]\n"
          ]
        }
      ]
    },
    {
      "cell_type": "code",
      "source": [
        "!gdown 1aJTqykVV2NuHUon1pynbebMcTe474hOL\n",
        "\n",
        "# Use this"
      ],
      "metadata": {
        "colab": {
          "base_uri": "https://localhost:8080/"
        },
        "id": "eGItCg9oEvfN",
        "outputId": "7c9261ef-b0eb-4a11-dd41-4523bb2155f3"
      },
      "execution_count": 42,
      "outputs": [
        {
          "output_type": "stream",
          "name": "stdout",
          "text": [
            "Downloading...\n",
            "From: https://drive.google.com/uc?id=1aJTqykVV2NuHUon1pynbebMcTe474hOL\n",
            "To: /content/gen_model_utk.keras\n",
            "100% 53.2M/53.2M [00:01<00:00, 27.1MB/s]\n"
          ]
        }
      ]
    },
    {
      "cell_type": "code",
      "source": [
        "!gdown 1dWPTQwxI_BeVyrqzAYmcPly2JQT5cFHn\n",
        "\n",
        "# Use this"
      ],
      "metadata": {
        "colab": {
          "base_uri": "https://localhost:8080/"
        },
        "id": "uDzaeaCeb-oG",
        "outputId": "6dae6115-f265-4e98-9fbc-934d24a82a1b"
      },
      "execution_count": 10,
      "outputs": [
        {
          "output_type": "stream",
          "name": "stdout",
          "text": [
            "Downloading...\n",
            "From: https://drive.google.com/uc?id=1dWPTQwxI_BeVyrqzAYmcPly2JQT5cFHn\n",
            "To: /content/gender_class_indices.json\n",
            "\r  0% 0.00/24.0 [00:00<?, ?B/s]\r100% 24.0/24.0 [00:00<00:00, 141kB/s]\n"
          ]
        }
      ]
    },
    {
      "cell_type": "code",
      "source": [
        "!gdown 15H0iVSph6vqYhUbbJj2ivcj-Omes93Ca"
      ],
      "metadata": {
        "colab": {
          "base_uri": "https://localhost:8080/"
        },
        "id": "suwKLb8s8k9a",
        "outputId": "8da42635-5536-448b-a026-453f78088bf5"
      },
      "execution_count": 28,
      "outputs": [
        {
          "output_type": "stream",
          "name": "stdout",
          "text": [
            "Downloading...\n",
            "From: https://drive.google.com/uc?id=15H0iVSph6vqYhUbbJj2ivcj-Omes93Ca\n",
            "To: /content/self_recorded.mp4\n",
            "100% 1.50M/1.50M [00:00<00:00, 9.39MB/s]\n"
          ]
        }
      ]
    },
    {
      "cell_type": "code",
      "source": [
        "!gdown 1enBZz7hRncjY_hudSQu2tRSZnfT-tvx9"
      ],
      "metadata": {
        "colab": {
          "base_uri": "https://localhost:8080/"
        },
        "id": "QGYkdsniHjuX",
        "outputId": "6fde30f5-ba0f-4f43-b3e1-968692371297"
      },
      "execution_count": 56,
      "outputs": [
        {
          "output_type": "stream",
          "name": "stdout",
          "text": [
            "Downloading...\n",
            "From: https://drive.google.com/uc?id=1enBZz7hRncjY_hudSQu2tRSZnfT-tvx9\n",
            "To: /content/test_tra.mp4\n",
            "100% 3.06M/3.06M [00:00<00:00, 14.6MB/s]\n"
          ]
        }
      ]
    },
    {
      "cell_type": "markdown",
      "source": [
        "# Create Predictors"
      ],
      "metadata": {
        "id": "N0v9ar7Z1FrE"
      }
    },
    {
      "cell_type": "code",
      "source": [
        "class Predictor():\n",
        "  def __init__(self, emotion_model_path, emotion_class_indices_file,\n",
        "               age_model_path,\n",
        "               gender_model_path, gender_class_indices_file,\n",
        "               detect_threshold = 0.8) -> None:\n",
        "    #  Config emotion model\n",
        "    self.emotion_model = keras.models.load_model(filepath=emotion_model_path)\n",
        "    with open(emotion_class_indices_file, 'r') as file:\n",
        "      emotion_class_indices = json.load(file)\n",
        "    self.emotion_class_indices = {\n",
        "        value: key for key, value in emotion_class_indices.items()\n",
        "        }\n",
        "\n",
        "    self.age_model = keras.models.load_model(filepath=age_model_path)\n",
        "\n",
        "    self.gender_model = keras.models.load_model(filepath=gender_model_path)\n",
        "    with open(gender_class_indices_file, 'r') as file:\n",
        "      gender_class_indices = json.load(file)\n",
        "    self.gender_class_indices = {\n",
        "        value: key for key, value in gender_class_indices.items()\n",
        "    }\n",
        "\n",
        "    self.face = face_analysis()\n",
        "\n",
        "    self.detect_threshold = detect_threshold\n",
        "\n",
        "  def predict_image(self, bgr_img,\n",
        "                    skip_fr = False, prev_results = None):\n",
        "    if skip_fr:\n",
        "      for face in prev_results:\n",
        "        box = face['box']\n",
        "        emotion, age, gender = face['emotion'], face['age'], face['gender']\n",
        "\n",
        "        x_top_left, y_top_left, height, width = box\n",
        "        face_location = (y_top_left, x_top_left + width, y_top_left + height, x_top_left)\n",
        "        self.write_label(bgr_img, face_location, emotion, kind='emotion')\n",
        "        self.write_label(bgr_img, face_location, gender, kind='gender')\n",
        "        self.write_label(bgr_img, face_location, f'{age} years old.', kind='age')\n",
        "\n",
        "      return bgr_img, prev_results\n",
        "\n",
        "\n",
        "    img, boxes, confs = self.face.face_detection(frame_arr=bgr_img,frame_status=True,model='full')\n",
        "\n",
        "\n",
        "    results = []\n",
        "\n",
        "    for box, conf in zip(boxes, confs):\n",
        "      if conf < self.detect_threshold:\n",
        "        continue\n",
        "\n",
        "      x_top_left, y_top_left, height, width = box\n",
        "      # Crop face\n",
        "      face = bgr_img[y_top_left : y_top_left + height, x_top_left : x_top_left + width]\n",
        "\n",
        "      try:\n",
        "        rgb_face = cv2.cvtColor(face, cv2.COLOR_BGR2RGB)\n",
        "      except:\n",
        "        continue\n",
        "\n",
        "      self.plot_bbox(bgr_img, box=box)\n",
        "\n",
        "      # top, right, bottom, left = face_location\n",
        "      face_location = (y_top_left, x_top_left + width, y_top_left + height, x_top_left)\n",
        "\n",
        "      emotion = self.predict_emotion(rgb_face)\n",
        "      self.write_label(bgr_img, face_location, emotion, kind='emotion')\n",
        "\n",
        "      age, gender = self.predict_age_gender(rgb_face)\n",
        "      self.write_label(bgr_img, face_location, gender, kind='gender')\n",
        "      self.write_label(bgr_img, face_location, f'{age} years old.', kind='age')\n",
        "\n",
        "      results.append({\n",
        "          'box': box,\n",
        "          'emotion': emotion,\n",
        "          'age': age,\n",
        "          'gender': gender\n",
        "      })\n",
        "\n",
        "    return bgr_img, results\n",
        "\n",
        "\n",
        "  def predict_video(self, video_path,\n",
        "                    output_filename = 'output_video.mp4'):\n",
        "\n",
        "    cap = cv2.VideoCapture(video_path)\n",
        "\n",
        "    # Check if the video file opened successfully\n",
        "    if not cap.isOpened():\n",
        "      print(\"Error: Could not open video file.\")\n",
        "      return\n",
        "\n",
        "    # Get the total number of frames\n",
        "    total_frames = int(cap.get(cv2.CAP_PROP_FRAME_COUNT))\n",
        "\n",
        "    # Get the frames per second (FPS) of the video\n",
        "    fps = cap.get(cv2.CAP_PROP_FPS)\n",
        "\n",
        "    # Set the video filename and codec\n",
        "    fourcc = cv2.VideoWriter_fourcc(*'mp4v')  # You can also use 'XVID' or 'MJPG' as the codec\n",
        "\n",
        "    # Set the video dimensions and frames per second\n",
        "    # Get the width of the first frame\n",
        "    width = int(cap.get(cv2.CAP_PROP_FRAME_WIDTH))\n",
        "    height = int(cap.get(cv2.CAP_PROP_FRAME_HEIGHT))\n",
        "\n",
        "    # Create VideoWriter object\n",
        "    out = cv2.VideoWriter(output_filename, fourcc, fps, (width, height))\n",
        "\n",
        "    for i in tqdm(range(total_frames)):\n",
        "      ret, frame = cap.read()\n",
        "      if not ret:\n",
        "        break\n",
        "\n",
        "      predicted_frame, _ = self.predict_image(frame)\n",
        "      out.write(predicted_frame)\n",
        "\n",
        "    out.release()\n",
        "\n",
        "    print('Video written successfully.', output_filename)\n",
        "\n",
        "\n",
        "  def predict_video_fast(self, video_path,\n",
        "                         output_filename = 'output_video.mp4',\n",
        "                         fr_skip = 10):\n",
        "\n",
        "    cap = cv2.VideoCapture(video_path)\n",
        "\n",
        "    # Check if the video file opened successfully\n",
        "    if not cap.isOpened():\n",
        "      print(\"Error: Could not open video file.\")\n",
        "      return\n",
        "\n",
        "    # Get the total number of frames\n",
        "    total_frames = int(cap.get(cv2.CAP_PROP_FRAME_COUNT))\n",
        "\n",
        "    # Get the frames per second (FPS) of the video\n",
        "    fps = cap.get(cv2.CAP_PROP_FPS)\n",
        "\n",
        "    # Set the video filename and codec\n",
        "    fourcc = cv2.VideoWriter_fourcc(*'mp4v')  # You can also use 'XVID' or 'MJPG' as the codec\n",
        "\n",
        "    # Set the video dimensions and frames per second\n",
        "    # Get the width of the first frame\n",
        "    width = int(cap.get(cv2.CAP_PROP_FRAME_WIDTH))\n",
        "    height = int(cap.get(cv2.CAP_PROP_FRAME_HEIGHT))\n",
        "\n",
        "    # Create VideoWriter object\n",
        "    out = cv2.VideoWriter(output_filename, fourcc, fps, (width, height))\n",
        "\n",
        "    prev_results = None\n",
        "\n",
        "    for i in tqdm(range(total_frames)):\n",
        "      ret, frame = cap.read()\n",
        "      if not ret:\n",
        "        break\n",
        "\n",
        "      skip_fr = False\n",
        "\n",
        "      if i % fr_skip != 0:\n",
        "        skip_fr = True\n",
        "\n",
        "      predicted_frame, current_results = self.predict_image(frame, skip_fr=skip_fr, prev_results=prev_results)\n",
        "      out.write(predicted_frame)\n",
        "\n",
        "      prev_results = current_results\n",
        "\n",
        "    out.release()\n",
        "\n",
        "    print('Video written successfully.', output_filename)\n",
        "\n",
        "  def show_image(self, bgr_img, resized = None, title = None, axis = 'off'):\n",
        "    if resized:\n",
        "      bgr_img = cv2.resize(bgr_img, resized)\n",
        "    # Chuyển đổi không gian màu từ BGR sang RGB\n",
        "    rgb_img = cv2.cvtColor(bgr_img, cv2.COLOR_BGR2RGB)\n",
        "\n",
        "    plt.imshow(rgb_img)\n",
        "    if title:\n",
        "      plt.title(title)\n",
        "    plt.axis(axis)\n",
        "    plt.show()\n",
        "\n",
        "\n",
        "  def predict_emotion(self, frame_rgb):\n",
        "    # Thay đổi kích thước ảnh thành (48, 48)\n",
        "    resized_frame = cv2.resize(frame_rgb, (48, 48))\n",
        "    # Chuyển đổi ảnh sang mảng NumPy\n",
        "    arr = img_to_array(resized_frame)\n",
        "    # Chuẩn hóa giá trị pixel về khoảng [0, 1]\n",
        "    arr /= 255\n",
        "    # Thêm một chiều vào shape để tạo thành batch\n",
        "    arr = np.expand_dims(arr, axis=0)\n",
        "    # Tạo một stack của các ảnh (nếu bạn muốn xử lý nhiều ảnh cùng một lúc)\n",
        "    # images = np.vstack([x])\n",
        "\n",
        "    predictions = self.emotion_model.predict(arr, verbose=0)\n",
        "    # predictions = self.emotion_model.predict(images, batch_size=10, verbose=0)\n",
        "\n",
        "    # Get the predicted class index\n",
        "    predicted_class_index = np.argmax(predictions)\n",
        "    # Get the predicted class label:\n",
        "    predicted_class = self.emotion_class_indices[predicted_class_index]\n",
        "\n",
        "    return predicted_class\n",
        "\n",
        "\n",
        "  def predict_age_gender(self, rgb_img):\n",
        "    img = cv2.resize(rgb_img, (200, 200))\n",
        "    arr = img.astype(float)\n",
        "    arr /= 255\n",
        "    arr = np.expand_dims(arr, axis = 0)\n",
        "\n",
        "    ages = self.age_model.predict(arr, verbose = 0)\n",
        "    genders = self.gender_model.predict(arr, verbose = 0)\n",
        "\n",
        "    age = round(ages[0][0])\n",
        "\n",
        "    gender = round(genders[0][0])\n",
        "    gender = self.gender_class_indices[gender].capitalize()\n",
        "\n",
        "    return age, gender\n",
        "\n",
        "\n",
        "  def plot_bbox(self, img, box, BGR_color = (0, 255, 0), thickness = 2):\n",
        "    x_top_left, y_top_left, height, width = box\n",
        "    cv2.rectangle(img, (x_top_left, y_top_left), (x_top_left + width, y_top_left + height), BGR_color, thickness)\n",
        "\n",
        "  def write_label(self, img, face_location, predicted_label, kind):\n",
        "    top, right, bottom, left = face_location\n",
        "\n",
        "    # Add text to the image\n",
        "    text = predicted_label\n",
        "\n",
        "    if kind == 'emotion':\n",
        "      font = cv2.FONT_HERSHEY_SIMPLEX\n",
        "      font_scale = 2\n",
        "      font_thickness = 3\n",
        "      font_BGR_color = (255, 255, 255)\n",
        "\n",
        "      # Calculate text size\n",
        "      text_size = cv2.getTextSize(text, font, font_scale, font_thickness)[0]\n",
        "      # Calculate rectangle dimensions based on text size\n",
        "      rect_width = text_size[0] + 10  # Add some padding\n",
        "      rect_height = text_size[1] + 10  # Add some padding\n",
        "\n",
        "      # Define the top-left corner of the rectangle\n",
        "      rect_BGR_color = (0, 255, 0)\n",
        "      rect_top_left = (left, top - rect_height)\n",
        "      rect_bottom_right = (left + rect_width, top)\n",
        "      text_position = (left, top - 10)\n",
        "\n",
        "    elif kind == 'gender':\n",
        "      font = cv2.FONT_HERSHEY_SIMPLEX\n",
        "      font_scale = 1\n",
        "      font_thickness = 2\n",
        "      font_BGR_color = (255, 255, 255)\n",
        "\n",
        "      # Calculate text size\n",
        "      text_size = cv2.getTextSize(text, font, font_scale, font_thickness)[0]\n",
        "      # Calculate rectangle dimensions based on text size\n",
        "      rect_width = text_size[0] + 10  # Add some padding\n",
        "      rect_height = text_size[1] + 10  # Add some padding\n",
        "\n",
        "      # Define the top-left corner of the rectangle\n",
        "      rect_BGR_color = (0, 0, 255)\n",
        "      rect_top_left = ((left + right - rect_width) // 2, bottom)\n",
        "      rect_bottom_right = ((left + right + rect_width) // 2, bottom + rect_height)\n",
        "      text_position = (rect_top_left[0], bottom + rect_height - 5)\n",
        "\n",
        "    elif kind == 'age':\n",
        "      font = cv2.FONT_HERSHEY_SIMPLEX\n",
        "      font_scale = 1\n",
        "      font_thickness = 2\n",
        "      font_BGR_color = (255, 255, 255)\n",
        "\n",
        "      # Calculate text size\n",
        "      text_size = cv2.getTextSize(text, font, font_scale, font_thickness)[0]\n",
        "      # Calculate rectangle dimensions based on text size\n",
        "      rect_width = text_size[0] + 10  # Add some padding\n",
        "      rect_height = text_size[1] + 10  # Add some padding\n",
        "\n",
        "      # Define the top-left corner of the rectangle\n",
        "      rect_BGR_color = (128, 0, 128)\n",
        "      rect_top_left = ((left + right - rect_width) // 2, bottom + rect_height)\n",
        "      rect_bottom_right = ((left + right + rect_width) // 2, bottom + rect_height * 2)\n",
        "      text_position = (rect_top_left[0], bottom + rect_height * 2 - 5)\n",
        "\n",
        "\n",
        "\n",
        "    # Draw a rectangle\n",
        "    cv2.rectangle(img, rect_top_left, rect_bottom_right, rect_BGR_color, -1)\n",
        "\n",
        "    cv2.putText(img, text, text_position, font, font_scale, font_BGR_color, font_thickness)"
      ],
      "metadata": {
        "id": "1vwqL8ZzXrzz"
      },
      "execution_count": 52,
      "outputs": []
    },
    {
      "cell_type": "code",
      "source": [
        "predictor = Predictor(emotion_model_path='/content/emotion_model_v1_89.keras',\n",
        "                      emotion_class_indices_file='/content/emotion_class_indices.json',\n",
        "                      age_model_path='/content/agemodel_asian_vgg16.keras',\n",
        "                      gender_model_path='/content/gen_model_utk.keras',\n",
        "                      gender_class_indices_file='/content/gender_class_indices.json')"
      ],
      "metadata": {
        "colab": {
          "base_uri": "https://localhost:8080/"
        },
        "id": "U7usLOSt3m4q",
        "outputId": "19fa1561-ff9c-4017-a8e7-8d29dfa0216b"
      },
      "execution_count": 53,
      "outputs": [
        {
          "output_type": "stream",
          "name": "stdout",
          "text": [
            "yolov3-tiny_face.weights:: status : file already exists\n",
            "yolov3_tiny_face.cfg:: status : file already exists\n",
            "face_detection.weights:: status : file already exists\n",
            "face_detection.cfg:: status : file already exists\n"
          ]
        }
      ]
    },
    {
      "cell_type": "code",
      "source": [
        "bgr_img = cv2.imread('/content/chu-tich-dh-fpt-le-truong-tung-buc-tranh-giao-duc-tuong-lai-thuoc-ve-cac-he-thong-lon-02-.9223.jpg')\n",
        "output_img, _ = predictor.predict_image(bgr_img)\n",
        "predictor.show_image(output_img)"
      ],
      "metadata": {
        "colab": {
          "base_uri": "https://localhost:8080/",
          "height": 406
        },
        "id": "OiKpAqhx4W96",
        "outputId": "63970e35-8d7d-4cc5-aafc-726d6804e813"
      },
      "execution_count": 61,
      "outputs": [
        {
          "output_type": "display_data",
          "data": {
            "text/plain": [
              "<Figure size 640x480 with 1 Axes>"
            ],
            "image/png": "[encoded data removed]"
          },
          "metadata": {}
        }
      ]
    },
    {
      "cell_type": "code",
      "source": [
        "predictor.predict_video(video_path='/content/film.mp4',\n",
        "                        output_filename='/content/output_film.mp4')"
      ],
      "metadata": {
        "colab": {
          "base_uri": "https://localhost:8080/",
          "height": 67,
          "referenced_widgets": [
            "128c2e346fe748eb99a049ed07188117",
            "5ab5d49558ab4899b4670ea047d2e9e0",
            "6ffe289a9d584220a1fa03f002e4e720",
            "b8d4706ee144426aafde7cc9d1842b21",
            "5e53f2d60a2b49e3a2b4a27681b4b73a",
            "46088c1bcef246b79e88675ce84091f5",
            "32aad8cb4c4545b2b5e79a8aff897803",
            "e3af3b4e02e244cebab977dcb13a6639",
            "fa8c8909094740319e84200983c93b20",
            "59c0b9e023894303af4ab08589f0d13d",
            "a1d4a7b3dd9848c988bb58ad4011eca5"
          ]
        },
        "id": "3AKsjCZy6KxB",
        "outputId": "8d6da466-6a4b-48de-b747-f85d6882f049"
      },
      "execution_count": 40,
      "outputs": [
        {
          "output_type": "display_data",
          "data": {
            "text/plain": [
              "  0%|          | 0/250 [00:00<?, ?it/s]"
            ],
            "application/vnd.jupyter.widget-view+json": {
              "version_major": 2,
              "version_minor": 0,
              "model_id": "128c2e346fe748eb99a049ed07188117"
            }
          },
          "metadata": {}
        },
        {
          "output_type": "stream",
          "name": "stdout",
          "text": [
            "Video written successfully. /content/output_film.mp4\n"
          ]
        }
      ]
    },
    {
      "cell_type": "code",
      "source": [
        "predictor.predict_video_fast(video_path='/content/film.mp4',\n",
        "                             output_filename='/content/output_film_fast.mp4')"
      ],
      "metadata": {
        "colab": {
          "base_uri": "https://localhost:8080/",
          "height": 67,
          "referenced_widgets": [
            "41b79624ca284adbab30d390f7047ddb",
            "f52f1399d3ab40fd855a6e52d0fda962",
            "a4996974a32142f38bac7fc40dc99b3e",
            "bfbba4120bd045a4a97c1bb15cf68e30",
            "7173bffd5ce846e7a993f666dda33783",
            "e40e9a557b9b4faa967ecc1db301e174",
            "22cde57127114f3fbca0bec6989d4f7d",
            "ccc4c162b1a44d07ae96cbe2c849cddf",
            "bdba600d17ee48a6b777a6288edd3a09",
            "d3b181c439ea49289740a0cfaeb56d45",
            "58ff60893f3c4a399584e72ddff02fb2"
          ]
        },
        "id": "RyMTRGsG86Ol",
        "outputId": "da635180-718b-4849-d044-02ad5c0c73c7"
      },
      "execution_count": 55,
      "outputs": [
        {
          "output_type": "display_data",
          "data": {
            "text/plain": [
              "  0%|          | 0/250 [00:00<?, ?it/s]"
            ],
            "application/vnd.jupyter.widget-view+json": {
              "version_major": 2,
              "version_minor": 0,
              "model_id": "41b79624ca284adbab30d390f7047ddb"
            }
          },
          "metadata": {}
        },
        {
          "output_type": "stream",
          "name": "stdout",
          "text": [
            "Video written successfully. /content/output_film_fast.mp4\n"
          ]
        }
      ]
    },
    {
      "cell_type": "code",
      "source": [
        "predictor.predict_video_fast(video_path='/content/self_recorded.mp4',\n",
        "                             output_filename='/content/output_self_recorded_fast.mp4')"
      ],
      "metadata": {
        "colab": {
          "base_uri": "https://localhost:8080/",
          "height": 67,
          "referenced_widgets": [
            "a07561239d934cf7a95bdbe7d00e40ff",
            "55714eb5173f4b33928fcdaec4cf9d82",
            "1ea40086352843829caec4f446a50f70",
            "c9f1d0704b1c4c2bb64b43a4fd268f88",
            "a24c5aa84ea14017b541851769eb4deb",
            "21573a5a6ad44e39abdc6cf2e1be684f",
            "59d6ecb6513c4fa9b0c3cf1e6e4babe7",
            "5e3fac6fa1b5426eb88fa2ca7d356ecb",
            "3131d2340a3846b28910024d765ada7a",
            "9da3b0af495c43b1be50d29a7deffc08",
            "8cb1800b0a3b4f5097c68dc8e1cfc71b"
          ]
        },
        "id": "IDo0mvkECWBL",
        "outputId": "360851a3-01e1-400d-bfb9-ee1ca98c0e14"
      },
      "execution_count": 51,
      "outputs": [
        {
          "output_type": "display_data",
          "data": {
            "text/plain": [
              "  0%|          | 0/377 [00:00<?, ?it/s]"
            ],
            "application/vnd.jupyter.widget-view+json": {
              "version_major": 2,
              "version_minor": 0,
              "model_id": "a07561239d934cf7a95bdbe7d00e40ff"
            }
          },
          "metadata": {}
        },
        {
          "output_type": "stream",
          "name": "stdout",
          "text": [
            "Video written successfully. /content/output_self_recorded_fast.mp4\n"
          ]
        }
      ]
    },
    {
      "cell_type": "code",
      "source": [
        "predictor.predict_video_fast(video_path='/content/test_tra.mp4',\n",
        "                             output_filename='/content/output_test_tra_fast.mp4')"
      ],
      "metadata": {
        "colab": {
          "base_uri": "https://localhost:8080/",
          "height": 67,
          "referenced_widgets": [
            "29172b58f835496c94a6e48559042818",
            "207971ebcc844807800e2623ed1b8f2f",
            "be8b90c1a18849cc8fcb0dca43d65222",
            "5854c51241914e59ad0dea54e31b8c57",
            "036f320e9ff447be84ec7801683467cf",
            "ce9894255c294d768c12de64905f5d48",
            "451737e5970b4d91a95185b5aed7cf09",
            "ab6dea35131b4b91af2e47ceaf4b2a64",
            "fec4036ea4e54c8da58e54cebe0fdf58",
            "728ed02f29744b4db62c65d950fac536",
            "09e42f4b5b2344149cc8bfe352d1434e"
          ]
        },
        "id": "irXkoWLMCihl",
        "outputId": "741b7927-9969-4bb9-cf9d-944eafea12cd"
      },
      "execution_count": 57,
      "outputs": [
        {
          "output_type": "display_data",
          "data": {
            "text/plain": [
              "  0%|          | 0/446 [00:00<?, ?it/s]"
            ],
            "application/vnd.jupyter.widget-view+json": {
              "version_major": 2,
              "version_minor": 0,
              "model_id": "29172b58f835496c94a6e48559042818"
            }
          },
          "metadata": {}
        },
        {
          "output_type": "stream",
          "name": "stdout",
          "text": [
            "Video written successfully. /content/output_test_tra_fast.mp4\n"
          ]
        }
      ]
    },
    {
      "cell_type": "markdown",
      "source": [
        "**Change threshold for detection**"
      ],
      "metadata": {
        "id": "vzMcJHKmI227"
      }
    },
    {
      "cell_type": "code",
      "source": [
        "predictor_7 = Predictor(emotion_model_path='/content/emotion_model_v1_89.keras',\n",
        "                      emotion_class_indices_file='/content/emotion_class_indices.json',\n",
        "                      age_model_path='/content/agemodel_asian_vgg16.keras',\n",
        "                      gender_model_path='/content/gen_model_utk.keras',\n",
        "                      gender_class_indices_file='/content/gender_class_indices.json',\n",
        "                        detect_threshold=0.7)"
      ],
      "metadata": {
        "colab": {
          "base_uri": "https://localhost:8080/"
        },
        "id": "04HvQg92HsQ_",
        "outputId": "18979ea8-9471-4939-baee-1bfe78328473"
      },
      "execution_count": 58,
      "outputs": [
        {
          "output_type": "stream",
          "name": "stdout",
          "text": [
            "yolov3-tiny_face.weights:: status : file already exists\n",
            "yolov3_tiny_face.cfg:: status : file already exists\n",
            "face_detection.weights:: status : file already exists\n",
            "face_detection.cfg:: status : file already exists\n"
          ]
        }
      ]
    },
    {
      "cell_type": "code",
      "source": [
        "predictor_7.predict_video_fast(video_path='/content/film.mp4',\n",
        "                             output_filename='/content/output_film_fast.mp4')"
      ],
      "metadata": {
        "colab": {
          "base_uri": "https://localhost:8080/",
          "height": 67,
          "referenced_widgets": [
            "7f6b9a766843468d92fbe0c8f2766ab2",
            "b310e0f78c6049a6981e189223eb8cc1",
            "e0f8e4c728ef4981ae0530c933989773",
            "88c4c546e413497b8fc7a952f23a0653",
            "3987113f7d3d41a2ad30e6cf196a6669",
            "dd2f4b19fead4439a4e04af920968626",
            "22f2e47e09b244b38a7dc23b4b777b8b",
            "f702c1dbd5b743be85649c5953270650",
            "2c2a58cbcf3646629aa07e37d73a94c7",
            "9fcece798aa3468e8a2d56d0cab639df",
            "7620ea5bc9f345d28fd9b25053c8ce88"
          ]
        },
        "id": "CUwrqqXsI-L8",
        "outputId": "f3c96347-9930-4eed-e8ec-54bb01a7c761"
      },
      "execution_count": 59,
      "outputs": [
        {
          "output_type": "display_data",
          "data": {
            "text/plain": [
              "  0%|          | 0/250 [00:00<?, ?it/s]"
            ],
            "application/vnd.jupyter.widget-view+json": {
              "version_major": 2,
              "version_minor": 0,
              "model_id": "7f6b9a766843468d92fbe0c8f2766ab2"
            }
          },
          "metadata": {}
        },
        {
          "output_type": "stream",
          "name": "stdout",
          "text": [
            "Video written successfully. /content/output_film_fast.mp4\n"
          ]
        }
      ]
    },
    {
      "cell_type": "code",
      "source": [
        "predictor_7.predict_video_fast(video_path='/content/test_tra.mp4',\n",
        "                             output_filename='/content/output_test_tra_fast.mp4')"
      ],
      "metadata": {
        "colab": {
          "base_uri": "https://localhost:8080/",
          "height": 67,
          "referenced_widgets": [
            "18b86c4f128046ba9039396d1b5d7fbd",
            "81b6f7350b704394b2f6a6293cfdb798",
            "32cd769a80cf427189cd241125f1e1e7",
            "660dfec35d814f95abf9a0de815c3283",
            "f5b75202ac044897b7170a0707335b54",
            "60c5d5a7387642d083c9512aa622e1ac",
            "cc4575da25714376b8b1a194e362eadb",
            "4eb25298dfec44b5b2124a5618cc0de4",
            "297a5ec799ab45b7b9e1cf5628c47568",
            "e7fb0152b1e048f1b7d96908477514c2",
            "b70c1022129042d3b9193fed50ee9047"
          ]
        },
        "id": "H8el_kRBJGPZ",
        "outputId": "10df6bf0-d899-4650-810c-cbbc4aaac458"
      },
      "execution_count": 60,
      "outputs": [
        {
          "output_type": "display_data",
          "data": {
            "text/plain": [
              "  0%|          | 0/446 [00:00<?, ?it/s]"
            ],
            "application/vnd.jupyter.widget-view+json": {
              "version_major": 2,
              "version_minor": 0,
              "model_id": "18b86c4f128046ba9039396d1b5d7fbd"
            }
          },
          "metadata": {}
        },
        {
          "output_type": "stream",
          "name": "stdout",
          "text": [
            "Video written successfully. /content/output_test_tra_fast.mp4\n"
          ]
        }
      ]
    },
    {
      "cell_type": "markdown",
      "source": [
        "***So, threshold 0.8 is better.***"
      ],
      "metadata": {
        "id": "sEzgEzGhKev1"
      }
    },
    {
      "cell_type": "code",
      "source": [],
      "metadata": {
        "id": "9MYH1lU9Kie2"
      },
      "execution_count": null,
      "outputs": []
    }
  ]
}