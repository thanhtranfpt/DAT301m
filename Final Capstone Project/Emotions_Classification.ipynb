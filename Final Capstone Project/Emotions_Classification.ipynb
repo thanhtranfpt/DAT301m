{
  "nbformat": 4,
  "nbformat_minor": 0,
  "metadata": {
    "colab": {
      "provenance": [],
      "gpuType": "T4"
    },
    "kernelspec": {
      "name": "python3",
      "display_name": "Python 3"
    },
    "language_info": {
      "name": "python"
    },
    "accelerator": "GPU"
  },
  "cells": [
    {
      "cell_type": "markdown",
      "source": [
        "# Import libraries"
      ],
      "metadata": {
        "id": "WHRynLtlO7Ls"
      }
    },
    {
      "cell_type": "code",
      "source": [
        "!pip install kaggle"
      ],
      "metadata": {
        "colab": {
          "base_uri": "https://localhost:8080/"
        },
        "id": "_76W-DZ4uxlu",
        "outputId": "38d2b819-0780-41eb-cb68-ef4b560211d4"
      },
      "execution_count": null,
      "outputs": [
        {
          "output_type": "stream",
          "name": "stdout",
          "text": [
            "Requirement already satisfied: kaggle in /usr/local/lib/python3.10/dist-packages (1.5.16)\n",
            "Requirement already satisfied: six>=1.10 in /usr/local/lib/python3.10/dist-packages (from kaggle) (1.16.0)\n",
            "Requirement already satisfied: certifi in /usr/local/lib/python3.10/dist-packages (from kaggle) (2024.2.2)\n",
            "Requirement already satisfied: python-dateutil in /usr/local/lib/python3.10/dist-packages (from kaggle) (2.8.2)\n",
            "Requirement already satisfied: requests in /usr/local/lib/python3.10/dist-packages (from kaggle) (2.31.0)\n",
            "Requirement already satisfied: tqdm in /usr/local/lib/python3.10/dist-packages (from kaggle) (4.66.2)\n",
            "Requirement already satisfied: python-slugify in /usr/local/lib/python3.10/dist-packages (from kaggle) (8.0.4)\n",
            "Requirement already satisfied: urllib3 in /usr/local/lib/python3.10/dist-packages (from kaggle) (2.0.7)\n",
            "Requirement already satisfied: bleach in /usr/local/lib/python3.10/dist-packages (from kaggle) (6.1.0)\n",
            "Requirement already satisfied: webencodings in /usr/local/lib/python3.10/dist-packages (from bleach->kaggle) (0.5.1)\n",
            "Requirement already satisfied: text-unidecode>=1.3 in /usr/local/lib/python3.10/dist-packages (from python-slugify->kaggle) (1.3)\n",
            "Requirement already satisfied: charset-normalizer<4,>=2 in /usr/local/lib/python3.10/dist-packages (from requests->kaggle) (3.3.2)\n",
            "Requirement already satisfied: idna<4,>=2.5 in /usr/local/lib/python3.10/dist-packages (from requests->kaggle) (3.6)\n"
          ]
        }
      ]
    },
    {
      "cell_type": "code",
      "source": [
        "import matplotlib.pyplot as plt\n",
        "import tensorflow as tf\n",
        "import numpy as np\n",
        "import os\n",
        "\n",
        "from tensorflow.keras.preprocessing.image import load_img\n",
        "from tensorflow.keras.preprocessing.image import img_to_array\n",
        "from tensorflow.keras.preprocessing.image import ImageDataGenerator\n",
        "from tensorflow.keras import optimizers, losses, layers\n",
        "\n",
        "import shutil\n",
        "import json"
      ],
      "metadata": {
        "id": "JyACSESHPQ8o"
      },
      "execution_count": null,
      "outputs": []
    },
    {
      "cell_type": "code",
      "source": [
        "from tensorflow.keras.layers import Input, Lambda, Dense, Flatten, Dropout\n",
        "from tensorflow.keras.models import Model, Sequential\n",
        "from tensorflow.keras.applications.vgg16 import VGG16\n",
        "from tensorflow.keras.applications.vgg16 import preprocess_input\n",
        "from keras import optimizers"
      ],
      "metadata": {
        "id": "7ZjGN_z7P5wf"
      },
      "execution_count": null,
      "outputs": []
    },
    {
      "cell_type": "code",
      "source": [
        "import numpy as np\n",
        "from google.colab import files\n",
        "from tensorflow.keras.utils import load_img, img_to_array"
      ],
      "metadata": {
        "id": "-tFUslsxclwO"
      },
      "execution_count": null,
      "outputs": []
    },
    {
      "cell_type": "markdown",
      "source": [
        "# Data Preparation"
      ],
      "metadata": {
        "id": "-RLVkVGJPUOc"
      }
    },
    {
      "cell_type": "code",
      "source": [
        "!mkdir ~/.kaggle"
      ],
      "metadata": {
        "id": "0grZQ-Zmu4-X"
      },
      "execution_count": null,
      "outputs": []
    },
    {
      "cell_type": "code",
      "execution_count": null,
      "metadata": {
        "colab": {
          "base_uri": "https://localhost:8080/"
        },
        "id": "fvRKaTo5uheu",
        "outputId": "0d7b95e3-d979-494b-ba3e-58d5aaa82f96"
      },
      "outputs": [
        {
          "output_type": "stream",
          "name": "stdout",
          "text": [
            "Downloading emotion-detection-fer.zip to /content\n",
            " 98% 64.0M/65.2M [00:03<00:00, 22.8MB/s]\n",
            "100% 65.2M/65.2M [00:03<00:00, 17.8MB/s]\n"
          ]
        }
      ],
      "source": [
        "!cp /content/kaggle.json ~/.kaggle/\n",
        "! chmod 600 ~/.kaggle/kaggle.json\n",
        "# Download Dataset\n",
        "!kaggle datasets download -d ananthu017/emotion-detection-fer"
      ]
    },
    {
      "cell_type": "code",
      "source": [
        "!unzip -q /content/emotion-detection-fer.zip"
      ],
      "metadata": {
        "id": "ky9uual7vfu3"
      },
      "execution_count": null,
      "outputs": []
    },
    {
      "cell_type": "code",
      "source": [
        "!mkdir data"
      ],
      "metadata": {
        "id": "e0tSKAYCwGPb"
      },
      "execution_count": null,
      "outputs": []
    },
    {
      "cell_type": "code",
      "source": [
        "shutil.move('/content/train', '/content/data')"
      ],
      "metadata": {
        "colab": {
          "base_uri": "https://localhost:8080/",
          "height": 36
        },
        "id": "yNdjYFU5wTqC",
        "outputId": "c3ea50d7-85de-4ada-cf26-4be4127d80eb"
      },
      "execution_count": null,
      "outputs": [
        {
          "output_type": "execute_result",
          "data": {
            "text/plain": [
              "'/content/data/train'"
            ],
            "application/vnd.google.colaboratory.intrinsic+json": {
              "type": "string"
            }
          },
          "metadata": {},
          "execution_count": 8
        }
      ]
    },
    {
      "cell_type": "code",
      "source": [
        "shutil.move('/content/test', '/content/data')"
      ],
      "metadata": {
        "colab": {
          "base_uri": "https://localhost:8080/",
          "height": 36
        },
        "id": "FDFce28KwZDG",
        "outputId": "67f61362-bf9d-4f95-e212-336769812952"
      },
      "execution_count": null,
      "outputs": [
        {
          "output_type": "execute_result",
          "data": {
            "text/plain": [
              "'/content/data/test'"
            ],
            "application/vnd.google.colaboratory.intrinsic+json": {
              "type": "string"
            }
          },
          "metadata": {},
          "execution_count": 9
        }
      ]
    },
    {
      "cell_type": "code",
      "source": [
        "base_dir = \"/content/data/train\"\n",
        "happy_dir = os.path.join(base_dir, \"happy/\")\n",
        "sad_dir = os.path.join(base_dir, \"sad/\")\n",
        "\n",
        "print(\"Sample happy image:\")\n",
        "plt.imshow(load_img(f\"{os.path.join(happy_dir, os.listdir(happy_dir)[0])}\"))\n",
        "plt.show()\n",
        "\n",
        "print(\"\\nSample sad image:\")\n",
        "plt.imshow(load_img(f\"{os.path.join(sad_dir, os.listdir(sad_dir)[0])}\"))\n",
        "plt.show()\n"
      ],
      "metadata": {
        "colab": {
          "base_uri": "https://localhost:8080/",
          "height": 899
        },
        "id": "H6WxSPl4wByq",
        "outputId": "31adf735-8dc4-43ca-86fe-02ce1d47e944"
      },
      "execution_count": null,
      "outputs": [
        {
          "output_type": "stream",
          "name": "stdout",
          "text": [
            "Sample happy image:\n"
          ]
        },
        {
          "output_type": "display_data",
          "data": {
            "text/plain": [
              "<Figure size 640x480 with 1 Axes>"
            ],
            "image/png": "[encoded data removed]"
          },
          "metadata": {}
        },
        {
          "output_type": "stream",
          "name": "stdout",
          "text": [
            "\n",
            "Sample sad image:\n"
          ]
        },
        {
          "output_type": "display_data",
          "data": {
            "text/plain": [
              "<Figure size 640x480 with 1 Axes>"
            ],
            "image/png": "[encoded data removed]"
          },
          "metadata": {}
        }
      ]
    },
    {
      "cell_type": "code",
      "source": [
        "# Load the first example of a happy face\n",
        "sample_image  = load_img(f\"{os.path.join(happy_dir, os.listdir(happy_dir)[0])}\")\n",
        "\n",
        "# Convert the image into its numpy array representation\n",
        "sample_array = img_to_array(sample_image)\n",
        "\n",
        "print(f\"Each image has shape: {sample_array.shape}\")\n",
        "\n",
        "print(f\"The maximum pixel value used is: {np.max(sample_array)}\")\n",
        "\n"
      ],
      "metadata": {
        "colab": {
          "base_uri": "https://localhost:8080/"
        },
        "id": "xrnZre9Swz9V",
        "outputId": "c3b14d77-57d5-4aad-efd8-fae64232ccf3"
      },
      "execution_count": null,
      "outputs": [
        {
          "output_type": "stream",
          "name": "stdout",
          "text": [
            "Each image has shape: (48, 48, 3)\n",
            "The maximum pixel value used is: 255.0\n"
          ]
        }
      ]
    },
    {
      "cell_type": "markdown",
      "source": [
        "# Create model"
      ],
      "metadata": {
        "id": "jh0AOghqPhX3"
      }
    },
    {
      "cell_type": "code",
      "source": [
        "class myCallback(tf.keras.callbacks.Callback):\n",
        "    def on_epoch_end(self, epoch, logs={}):\n",
        "        if logs.get('accuracy') is not None and logs.get('accuracy') > 0.9:\n",
        "            print(\"\\nReached 90% accuracy so cancelling training!\")\n",
        "            self.model.stop_training = True"
      ],
      "metadata": {
        "id": "F2bcJtjZw7-8"
      },
      "execution_count": null,
      "outputs": []
    },
    {
      "cell_type": "code",
      "source": [
        "def image_generator(directory):\n",
        "    datagen = ImageDataGenerator(rescale=1./255)\n",
        "\n",
        "    # Specify the method to load images from a directory and pass in the appropriate arguments:\n",
        "    # - directory: should be a relative path to the directory containing the data\n",
        "    # - targe_size: set this equal to the resolution of each image (excluding the color dimension)\n",
        "    # - batch_size: number of images the generator yields when asked for a next batch. Set this to 10.\n",
        "    # - class_mode: How the labels are represented. Should be one of \"binary\", \"categorical\" or \"sparse\".\n",
        "    #               Pick the one that better suits here given that the labels are going to be 1D binary labels.\n",
        "    generator = datagen.flow_from_directory(directory=directory,\n",
        "                                                        target_size=(48, 48),\n",
        "                                                        batch_size=10,\n",
        "                                                        class_mode='categorical')\n",
        "\n",
        "    return generator\n"
      ],
      "metadata": {
        "id": "1P9pkw0GxEDy"
      },
      "execution_count": null,
      "outputs": []
    },
    {
      "cell_type": "code",
      "source": [
        "def plot_graphs(history, metric):\n",
        "    plt.plot(history.history[metric])\n",
        "    plt.plot(history.history[f'val_{metric}'])\n",
        "    plt.xlabel(\"Epochs\")\n",
        "    plt.ylabel(metric)\n",
        "    plt.legend([metric, f'val_{metric}'])\n",
        "    plt.show()\n",
        "\n",
        "# plot_graphs(history, \"accuracy\")\n",
        "# plot_graphs(history, \"loss\")"
      ],
      "metadata": {
        "id": "mRO02UCARbxb"
      },
      "execution_count": null,
      "outputs": []
    },
    {
      "cell_type": "code",
      "source": [
        "# Save generator in a variable\n",
        "gen = image_generator('/content/data/train')\n",
        "test_gen = image_generator('/content/data/test')"
      ],
      "metadata": {
        "colab": {
          "base_uri": "https://localhost:8080/"
        },
        "id": "1QYVF_inxUyR",
        "outputId": "aec11f78-ee33-4657-cf1b-c1ca63c5af2e"
      },
      "execution_count": null,
      "outputs": [
        {
          "output_type": "stream",
          "name": "stdout",
          "text": [
            "Found 28709 images belonging to 7 classes.\n",
            "Found 7178 images belonging to 7 classes.\n"
          ]
        }
      ]
    },
    {
      "cell_type": "code",
      "source": [
        "class_indices = gen.class_indices\n",
        "class_indices"
      ],
      "metadata": {
        "colab": {
          "base_uri": "https://localhost:8080/"
        },
        "id": "5T3in7H8Zg5W",
        "outputId": "3601a866-ac81-4119-ac3e-fcc227c0ab9d"
      },
      "execution_count": null,
      "outputs": [
        {
          "output_type": "execute_result",
          "data": {
            "text/plain": [
              "{'angry': 0,\n",
              " 'disgusted': 1,\n",
              " 'fearful': 2,\n",
              " 'happy': 3,\n",
              " 'neutral': 4,\n",
              " 'sad': 5,\n",
              " 'surprised': 6}"
            ]
          },
          "metadata": {},
          "execution_count": 26
        }
      ]
    },
    {
      "cell_type": "code",
      "source": [
        "# Write dictionary to JSON file\n",
        "with open('emotion_class_indices.json', 'w') as json_file:\n",
        "    json.dump(class_indices, json_file)"
      ],
      "metadata": {
        "id": "LBLvbMRmZp27"
      },
      "execution_count": null,
      "outputs": []
    },
    {
      "cell_type": "markdown",
      "source": [
        "**Simple CNN**"
      ],
      "metadata": {
        "id": "PKk5-ljvPwG3"
      }
    },
    {
      "cell_type": "code",
      "source": [
        "# Instantiate the callback\n",
        "callbacks = myCallback()\n",
        "\n",
        "# Define the model\n",
        "model = tf.keras.models.Sequential([\n",
        "    # Convolutional Layer 1\n",
        "    layers.Conv2D(32, (3, 3), activation='relu', input_shape=(48, 48, 3)),\n",
        "    layers.MaxPooling2D(2, 2),\n",
        "    # Convolutional Layer 2\n",
        "    layers.Conv2D(64, (3, 3), activation='relu'),\n",
        "    layers.MaxPooling2D(2, 2),\n",
        "    # Convolutional Layer 3\n",
        "    layers.Conv2D(128, (3, 3), activation='relu'),\n",
        "    layers.MaxPooling2D(2, 2),\n",
        "    # Flatten the output for the fully connected layers\n",
        "    layers.Flatten(),\n",
        "    # Fully Connected Layer 1\n",
        "    layers.Dense(128, activation='relu'),\n",
        "    # Output Layer\n",
        "    layers.Dense(7, activation='softmax')\n",
        "])"
      ],
      "metadata": {
        "id": "OSb_sMBIxWnB"
      },
      "execution_count": null,
      "outputs": []
    },
    {
      "cell_type": "code",
      "source": [
        "# Compile the model\n",
        "model.compile(loss='categorical_crossentropy',\n",
        "              optimizer=optimizers.Adam(lr=0.001),\n",
        "              metrics=['accuracy'])\n",
        "model.summary()"
      ],
      "metadata": {
        "colab": {
          "base_uri": "https://localhost:8080/"
        },
        "id": "WH0SH3nfQddD",
        "outputId": "6bf735b4-553e-44e1-9c82-255a485ab76a"
      },
      "execution_count": null,
      "outputs": [
        {
          "output_type": "stream",
          "name": "stderr",
          "text": [
            "WARNING:absl:`lr` is deprecated in Keras optimizer, please use `learning_rate` or use the legacy optimizer, e.g.,tf.keras.optimizers.legacy.Adam.\n"
          ]
        },
        {
          "output_type": "stream",
          "name": "stdout",
          "text": [
            "Model: \"sequential\"\n",
            "_________________________________________________________________\n",
            " Layer (type)                Output Shape              Param #   \n",
            "=================================================================\n",
            " conv2d (Conv2D)             (None, 46, 46, 32)        896       \n",
            "                                                                 \n",
            " max_pooling2d (MaxPooling2  (None, 23, 23, 32)        0         \n",
            " D)                                                              \n",
            "                                                                 \n",
            " conv2d_1 (Conv2D)           (None, 21, 21, 64)        18496     \n",
            "                                                                 \n",
            " max_pooling2d_1 (MaxPoolin  (None, 10, 10, 64)        0         \n",
            " g2D)                                                            \n",
            "                                                                 \n",
            " conv2d_2 (Conv2D)           (None, 8, 8, 128)         73856     \n",
            "                                                                 \n",
            " max_pooling2d_2 (MaxPoolin  (None, 4, 4, 128)         0         \n",
            " g2D)                                                            \n",
            "                                                                 \n",
            " flatten (Flatten)           (None, 2048)              0         \n",
            "                                                                 \n",
            " dense (Dense)               (None, 128)               262272    \n",
            "                                                                 \n",
            " dense_1 (Dense)             (None, 7)                 903       \n",
            "                                                                 \n",
            "=================================================================\n",
            "Total params: 356423 (1.36 MB)\n",
            "Trainable params: 356423 (1.36 MB)\n",
            "Non-trainable params: 0 (0.00 Byte)\n",
            "_________________________________________________________________\n"
          ]
        }
      ]
    },
    {
      "cell_type": "code",
      "source": [
        "# Train the model\n",
        "history = model.fit(x=gen,\n",
        "                    epochs=50,\n",
        "                    shuffle = True,\n",
        "                    callbacks=[callbacks],\n",
        "                    validation_data = test_gen)"
      ],
      "metadata": {
        "colab": {
          "base_uri": "https://localhost:8080/"
        },
        "id": "gl3eKcd0QWlK",
        "outputId": "7d639fd0-fe95-46c1-fee1-8b68eede387a"
      },
      "execution_count": null,
      "outputs": [
        {
          "output_type": "stream",
          "name": "stdout",
          "text": [
            "Epoch 1/50\n",
            "2871/2871 [==============================] - 32s 10ms/step - loss: 1.5739 - accuracy: 0.3770 - val_loss: 1.3646 - val_accuracy: 0.4781\n",
            "Epoch 2/50\n",
            "2871/2871 [==============================] - 27s 10ms/step - loss: 1.3045 - accuracy: 0.5016 - val_loss: 1.3204 - val_accuracy: 0.4990\n",
            "Epoch 3/50\n",
            "2871/2871 [==============================] - 27s 9ms/step - loss: 1.1946 - accuracy: 0.5474 - val_loss: 1.2376 - val_accuracy: 0.5336\n",
            "Epoch 4/50\n",
            "2871/2871 [==============================] - 26s 9ms/step - loss: 1.1059 - accuracy: 0.5806 - val_loss: 1.2012 - val_accuracy: 0.5351\n",
            "Epoch 5/50\n",
            "2871/2871 [==============================] - 27s 9ms/step - loss: 1.0289 - accuracy: 0.6081 - val_loss: 1.2114 - val_accuracy: 0.5414\n",
            "Epoch 6/50\n",
            "2871/2871 [==============================] - 26s 9ms/step - loss: 0.9458 - accuracy: 0.6418 - val_loss: 1.2434 - val_accuracy: 0.5387\n",
            "Epoch 7/50\n",
            "2871/2871 [==============================] - 30s 10ms/step - loss: 0.8728 - accuracy: 0.6710 - val_loss: 1.2729 - val_accuracy: 0.5490\n",
            "Epoch 8/50\n",
            "2871/2871 [==============================] - 38s 13ms/step - loss: 0.7917 - accuracy: 0.7041 - val_loss: 1.3578 - val_accuracy: 0.5440\n",
            "Epoch 9/50\n",
            "2871/2871 [==============================] - 39s 14ms/step - loss: 0.7213 - accuracy: 0.7317 - val_loss: 1.4293 - val_accuracy: 0.5465\n",
            "Epoch 10/50\n",
            "2871/2871 [==============================] - 26s 9ms/step - loss: 0.6436 - accuracy: 0.7609 - val_loss: 1.4746 - val_accuracy: 0.5396\n",
            "Epoch 11/50\n",
            "2871/2871 [==============================] - 27s 10ms/step - loss: 0.5763 - accuracy: 0.7872 - val_loss: 1.5796 - val_accuracy: 0.5410\n",
            "Epoch 12/50\n",
            "2871/2871 [==============================] - 29s 10ms/step - loss: 0.5144 - accuracy: 0.8077 - val_loss: 1.8554 - val_accuracy: 0.5433\n",
            "Epoch 13/50\n",
            "2871/2871 [==============================] - 26s 9ms/step - loss: 0.4660 - accuracy: 0.8295 - val_loss: 1.8934 - val_accuracy: 0.5350\n",
            "Epoch 14/50\n",
            "2871/2871 [==============================] - 26s 9ms/step - loss: 0.4216 - accuracy: 0.8431 - val_loss: 2.0228 - val_accuracy: 0.5301\n",
            "Epoch 15/50\n",
            "2871/2871 [==============================] - 27s 9ms/step - loss: 0.3737 - accuracy: 0.8623 - val_loss: 2.2212 - val_accuracy: 0.5372\n",
            "Epoch 16/50\n",
            "2871/2871 [==============================] - 26s 9ms/step - loss: 0.3430 - accuracy: 0.8752 - val_loss: 2.4001 - val_accuracy: 0.5340\n",
            "Epoch 17/50\n",
            "2871/2871 [==============================] - 28s 10ms/step - loss: 0.3236 - accuracy: 0.8812 - val_loss: 2.5204 - val_accuracy: 0.5344\n",
            "Epoch 18/50\n",
            "2871/2871 [==============================] - 26s 9ms/step - loss: 0.2971 - accuracy: 0.8926 - val_loss: 2.7255 - val_accuracy: 0.5304\n",
            "Epoch 19/50\n",
            "2868/2871 [============================>.] - ETA: 0s - loss: 0.2736 - accuracy: 0.9027\n",
            "Reached 90% accuracy so cancelling training!\n",
            "2871/2871 [==============================] - 26s 9ms/step - loss: 0.2735 - accuracy: 0.9027 - val_loss: 2.8148 - val_accuracy: 0.5479\n"
          ]
        }
      ]
    },
    {
      "cell_type": "code",
      "source": [
        "plot_graphs(history, \"accuracy\")"
      ],
      "metadata": {
        "colab": {
          "base_uri": "https://localhost:8080/",
          "height": 449
        },
        "id": "SP90T_MKRY4C",
        "outputId": "64fa6f7c-7ae1-4d8e-aac9-b9ef70698920"
      },
      "execution_count": null,
      "outputs": [
        {
          "output_type": "display_data",
          "data": {
            "text/plain": [
              "<Figure size 640x480 with 1 Axes>"
            ],
            "image/png": "[encoded data removed]"
          },
          "metadata": {}
        }
      ]
    },
    {
      "cell_type": "code",
      "source": [
        "model.save('/content/emotion_model_v2.keras')"
      ],
      "metadata": {
        "id": "-h9_gU3kRiKi"
      },
      "execution_count": null,
      "outputs": []
    },
    {
      "cell_type": "markdown",
      "source": [
        "**Transfer Learning with VGG16 pretrained model**"
      ],
      "metadata": {
        "id": "hX44myEsRrHU"
      }
    },
    {
      "cell_type": "code",
      "source": [
        "vgg16 = VGG16(input_shape=(48, 48, 3), weights='imagenet', include_top=False)\n",
        "for layer in vgg16.layers:\n",
        "    layer.trainable = False\n",
        "vgg16.summary()"
      ],
      "metadata": {
        "colab": {
          "base_uri": "https://localhost:8080/"
        },
        "id": "YqrtEs2EHBRS",
        "outputId": "5c053a15-ac62-4c51-dc35-bbb44ae3a7c9"
      },
      "execution_count": null,
      "outputs": [
        {
          "output_type": "stream",
          "name": "stdout",
          "text": [
            "Downloading data from https://storage.googleapis.com/tensorflow/keras-applications/vgg16/vgg16_weights_tf_dim_ordering_tf_kernels_notop.h5\n",
            "58889256/58889256 [==============================] - 0s 0us/step\n",
            "Model: \"vgg16\"\n",
            "_________________________________________________________________\n",
            " Layer (type)                Output Shape              Param #   \n",
            "=================================================================\n",
            " input_1 (InputLayer)        [(None, 48, 48, 3)]       0         \n",
            "                                                                 \n",
            " block1_conv1 (Conv2D)       (None, 48, 48, 64)        1792      \n",
            "                                                                 \n",
            " block1_conv2 (Conv2D)       (None, 48, 48, 64)        36928     \n",
            "                                                                 \n",
            " block1_pool (MaxPooling2D)  (None, 24, 24, 64)        0         \n",
            "                                                                 \n",
            " block2_conv1 (Conv2D)       (None, 24, 24, 128)       73856     \n",
            "                                                                 \n",
            " block2_conv2 (Conv2D)       (None, 24, 24, 128)       147584    \n",
            "                                                                 \n",
            " block2_pool (MaxPooling2D)  (None, 12, 12, 128)       0         \n",
            "                                                                 \n",
            " block3_conv1 (Conv2D)       (None, 12, 12, 256)       295168    \n",
            "                                                                 \n",
            " block3_conv2 (Conv2D)       (None, 12, 12, 256)       590080    \n",
            "                                                                 \n",
            " block3_conv3 (Conv2D)       (None, 12, 12, 256)       590080    \n",
            "                                                                 \n",
            " block3_pool (MaxPooling2D)  (None, 6, 6, 256)         0         \n",
            "                                                                 \n",
            " block4_conv1 (Conv2D)       (None, 6, 6, 512)         1180160   \n",
            "                                                                 \n",
            " block4_conv2 (Conv2D)       (None, 6, 6, 512)         2359808   \n",
            "                                                                 \n",
            " block4_conv3 (Conv2D)       (None, 6, 6, 512)         2359808   \n",
            "                                                                 \n",
            " block4_pool (MaxPooling2D)  (None, 3, 3, 512)         0         \n",
            "                                                                 \n",
            " block5_conv1 (Conv2D)       (None, 3, 3, 512)         2359808   \n",
            "                                                                 \n",
            " block5_conv2 (Conv2D)       (None, 3, 3, 512)         2359808   \n",
            "                                                                 \n",
            " block5_conv3 (Conv2D)       (None, 3, 3, 512)         2359808   \n",
            "                                                                 \n",
            " block5_pool (MaxPooling2D)  (None, 1, 1, 512)         0         \n",
            "                                                                 \n",
            "=================================================================\n",
            "Total params: 14714688 (56.13 MB)\n",
            "Trainable params: 0 (0.00 Byte)\n",
            "Non-trainable params: 14714688 (56.13 MB)\n",
            "_________________________________________________________________\n"
          ]
        }
      ]
    },
    {
      "cell_type": "code",
      "source": [
        "output = Flatten()(vgg16.output)\n",
        "output = Dense(500, activation='relu')(output)\n",
        "output = Dense(100, activation='relu')(output)\n",
        "output = Dropout(0.5)(output)\n",
        "output = Dense(7, activation='softmax')(output)\n",
        "\n",
        "model = Model(inputs=vgg16.input, outputs=output)\n",
        "# Compile the model\n",
        "model.compile(loss='categorical_crossentropy',\n",
        "              optimizer=optimizers.Adam(lr=0.001),\n",
        "              metrics=['accuracy'])\n",
        "model.summary()"
      ],
      "metadata": {
        "colab": {
          "base_uri": "https://localhost:8080/"
        },
        "id": "7AGRsVFxHGtG",
        "outputId": "3339d92a-cbbc-4625-b5e7-c6bdbf9f63b9"
      },
      "execution_count": null,
      "outputs": [
        {
          "output_type": "stream",
          "name": "stderr",
          "text": [
            "WARNING:absl:`lr` is deprecated in Keras optimizer, please use `learning_rate` or use the legacy optimizer, e.g.,tf.keras.optimizers.legacy.Adam.\n"
          ]
        },
        {
          "output_type": "stream",
          "name": "stdout",
          "text": [
            "Model: \"model_1\"\n",
            "_________________________________________________________________\n",
            " Layer (type)                Output Shape              Param #   \n",
            "=================================================================\n",
            " input_1 (InputLayer)        [(None, 48, 48, 3)]       0         \n",
            "                                                                 \n",
            " block1_conv1 (Conv2D)       (None, 48, 48, 64)        1792      \n",
            "                                                                 \n",
            " block1_conv2 (Conv2D)       (None, 48, 48, 64)        36928     \n",
            "                                                                 \n",
            " block1_pool (MaxPooling2D)  (None, 24, 24, 64)        0         \n",
            "                                                                 \n",
            " block2_conv1 (Conv2D)       (None, 24, 24, 128)       73856     \n",
            "                                                                 \n",
            " block2_conv2 (Conv2D)       (None, 24, 24, 128)       147584    \n",
            "                                                                 \n",
            " block2_pool (MaxPooling2D)  (None, 12, 12, 128)       0         \n",
            "                                                                 \n",
            " block3_conv1 (Conv2D)       (None, 12, 12, 256)       295168    \n",
            "                                                                 \n",
            " block3_conv2 (Conv2D)       (None, 12, 12, 256)       590080    \n",
            "                                                                 \n",
            " block3_conv3 (Conv2D)       (None, 12, 12, 256)       590080    \n",
            "                                                                 \n",
            " block3_pool (MaxPooling2D)  (None, 6, 6, 256)         0         \n",
            "                                                                 \n",
            " block4_conv1 (Conv2D)       (None, 6, 6, 512)         1180160   \n",
            "                                                                 \n",
            " block4_conv2 (Conv2D)       (None, 6, 6, 512)         2359808   \n",
            "                                                                 \n",
            " block4_conv3 (Conv2D)       (None, 6, 6, 512)         2359808   \n",
            "                                                                 \n",
            " block4_pool (MaxPooling2D)  (None, 3, 3, 512)         0         \n",
            "                                                                 \n",
            " block5_conv1 (Conv2D)       (None, 3, 3, 512)         2359808   \n",
            "                                                                 \n",
            " block5_conv2 (Conv2D)       (None, 3, 3, 512)         2359808   \n",
            "                                                                 \n",
            " block5_conv3 (Conv2D)       (None, 3, 3, 512)         2359808   \n",
            "                                                                 \n",
            " block5_pool (MaxPooling2D)  (None, 1, 1, 512)         0         \n",
            "                                                                 \n",
            " flatten_1 (Flatten)         (None, 512)               0         \n",
            "                                                                 \n",
            " dense_3 (Dense)             (None, 500)               256500    \n",
            "                                                                 \n",
            " dense_4 (Dense)             (None, 100)               50100     \n",
            "                                                                 \n",
            " dropout_1 (Dropout)         (None, 100)               0         \n",
            "                                                                 \n",
            " dense_5 (Dense)             (None, 7)                 707       \n",
            "                                                                 \n",
            "=================================================================\n",
            "Total params: 15021995 (57.30 MB)\n",
            "Trainable params: 307307 (1.17 MB)\n",
            "Non-trainable params: 14714688 (56.13 MB)\n",
            "_________________________________________________________________\n"
          ]
        }
      ]
    },
    {
      "cell_type": "code",
      "source": [
        "callbacks = myCallback()"
      ],
      "metadata": {
        "id": "on7mO2kZH6Ce"
      },
      "execution_count": null,
      "outputs": []
    },
    {
      "cell_type": "code",
      "source": [
        "# Train the model\n",
        "history = model.fit(x=gen,\n",
        "                    epochs=50,\n",
        "                    shuffle = True,\n",
        "                    callbacks=[callbacks],\n",
        "                    validation_data = test_gen)"
      ],
      "metadata": {
        "colab": {
          "base_uri": "https://localhost:8080/"
        },
        "id": "OGPx3XNXHKMm",
        "outputId": "f361687c-9fc6-4307-f0a6-e897232bc7b8"
      },
      "execution_count": null,
      "outputs": [
        {
          "output_type": "stream",
          "name": "stdout",
          "text": [
            "Epoch 1/50\n",
            "2871/2871 [==============================] - 31s 11ms/step - loss: 1.2173 - accuracy: 0.5359 - val_loss: 1.5919 - val_accuracy: 0.4457\n",
            "Epoch 2/50\n",
            "2871/2871 [==============================] - 36s 12ms/step - loss: 1.1933 - accuracy: 0.5484 - val_loss: 1.5762 - val_accuracy: 0.4411\n",
            "Epoch 3/50\n",
            "2871/2871 [==============================] - 36s 13ms/step - loss: 1.1677 - accuracy: 0.5557 - val_loss: 1.5964 - val_accuracy: 0.4443\n",
            "Epoch 4/50\n",
            "2871/2871 [==============================] - 31s 11ms/step - loss: 1.1578 - accuracy: 0.5637 - val_loss: 1.6134 - val_accuracy: 0.4404\n",
            "Epoch 5/50\n",
            "2871/2871 [==============================] - 36s 13ms/step - loss: 1.1372 - accuracy: 0.5669 - val_loss: 1.6144 - val_accuracy: 0.4425\n",
            "Epoch 6/50\n",
            "2871/2871 [==============================] - 31s 11ms/step - loss: 1.1215 - accuracy: 0.5714 - val_loss: 1.6619 - val_accuracy: 0.4412\n",
            "Epoch 7/50\n",
            "2871/2871 [==============================] - 37s 13ms/step - loss: 1.1050 - accuracy: 0.5821 - val_loss: 1.7225 - val_accuracy: 0.4462\n",
            "Epoch 8/50\n",
            "2871/2871 [==============================] - 32s 11ms/step - loss: 1.0843 - accuracy: 0.5890 - val_loss: 1.7001 - val_accuracy: 0.4487\n",
            "Epoch 9/50\n",
            "2871/2871 [==============================] - 37s 13ms/step - loss: 1.0713 - accuracy: 0.5932 - val_loss: 1.7524 - val_accuracy: 0.4416\n",
            "Epoch 10/50\n",
            "2871/2871 [==============================] - 32s 11ms/step - loss: 1.0564 - accuracy: 0.5954 - val_loss: 1.8358 - val_accuracy: 0.4420\n",
            "Epoch 11/50\n",
            "2871/2871 [==============================] - 31s 11ms/step - loss: 1.0405 - accuracy: 0.6040 - val_loss: 1.8476 - val_accuracy: 0.4443\n",
            "Epoch 12/50\n",
            "2871/2871 [==============================] - 31s 11ms/step - loss: 1.0312 - accuracy: 0.6094 - val_loss: 1.8034 - val_accuracy: 0.4458\n",
            "Epoch 13/50\n",
            "2871/2871 [==============================] - 31s 11ms/step - loss: 1.0151 - accuracy: 0.6122 - val_loss: 1.9061 - val_accuracy: 0.4388\n",
            "Epoch 14/50\n",
            "2871/2871 [==============================] - 36s 12ms/step - loss: 1.0029 - accuracy: 0.6179 - val_loss: 1.8878 - val_accuracy: 0.4419\n",
            "Epoch 15/50\n",
            "2871/2871 [==============================] - 31s 11ms/step - loss: 0.9968 - accuracy: 0.6211 - val_loss: 1.9588 - val_accuracy: 0.4469\n",
            "Epoch 16/50\n",
            "2871/2871 [==============================] - 32s 11ms/step - loss: 0.9810 - accuracy: 0.6253 - val_loss: 1.9571 - val_accuracy: 0.4416\n",
            "Epoch 17/50\n",
            "2871/2871 [==============================] - 32s 11ms/step - loss: 0.9692 - accuracy: 0.6310 - val_loss: 1.9826 - val_accuracy: 0.4352\n",
            "Epoch 18/50\n",
            "2871/2871 [==============================] - 31s 11ms/step - loss: 0.9628 - accuracy: 0.6344 - val_loss: 2.0328 - val_accuracy: 0.4430\n",
            "Epoch 19/50\n",
            "2871/2871 [==============================] - 31s 11ms/step - loss: 0.9468 - accuracy: 0.6403 - val_loss: 2.0220 - val_accuracy: 0.4461\n",
            "Epoch 20/50\n",
            "2871/2871 [==============================] - 31s 11ms/step - loss: 0.9404 - accuracy: 0.6401 - val_loss: 2.1193 - val_accuracy: 0.4420\n",
            "Epoch 21/50\n",
            "2871/2871 [==============================] - 31s 11ms/step - loss: 0.9322 - accuracy: 0.6444 - val_loss: 2.1969 - val_accuracy: 0.4418\n",
            "Epoch 22/50\n",
            "2871/2871 [==============================] - 31s 11ms/step - loss: 0.9147 - accuracy: 0.6495 - val_loss: 2.1886 - val_accuracy: 0.4405\n",
            "Epoch 23/50\n",
            "2871/2871 [==============================] - 31s 11ms/step - loss: 0.9095 - accuracy: 0.6522 - val_loss: 2.1683 - val_accuracy: 0.4528\n",
            "Epoch 24/50\n",
            "2871/2871 [==============================] - 31s 11ms/step - loss: 0.9028 - accuracy: 0.6575 - val_loss: 2.1885 - val_accuracy: 0.4405\n",
            "Epoch 25/50\n",
            "2871/2871 [==============================] - 31s 11ms/step - loss: 0.8839 - accuracy: 0.6612 - val_loss: 2.2698 - val_accuracy: 0.4476\n",
            "Epoch 26/50\n",
            "2871/2871 [==============================] - 32s 11ms/step - loss: 0.8891 - accuracy: 0.6601 - val_loss: 2.2046 - val_accuracy: 0.4437\n",
            "Epoch 27/50\n",
            "2871/2871 [==============================] - 32s 11ms/step - loss: 0.8778 - accuracy: 0.6642 - val_loss: 2.4967 - val_accuracy: 0.4341\n",
            "Epoch 28/50\n",
            "2871/2871 [==============================] - 32s 11ms/step - loss: 0.8654 - accuracy: 0.6704 - val_loss: 2.2872 - val_accuracy: 0.4440\n",
            "Epoch 29/50\n",
            "2871/2871 [==============================] - 32s 11ms/step - loss: 0.8641 - accuracy: 0.6679 - val_loss: 2.4158 - val_accuracy: 0.4450\n",
            "Epoch 30/50\n",
            "2871/2871 [==============================] - 32s 11ms/step - loss: 0.8524 - accuracy: 0.6728 - val_loss: 2.4796 - val_accuracy: 0.4436\n",
            "Epoch 31/50\n",
            "2871/2871 [==============================] - 36s 13ms/step - loss: 0.8482 - accuracy: 0.6733 - val_loss: 2.3880 - val_accuracy: 0.4439\n",
            "Epoch 32/50\n",
            "2871/2871 [==============================] - 32s 11ms/step - loss: 0.8421 - accuracy: 0.6750 - val_loss: 2.4340 - val_accuracy: 0.4446\n",
            "Epoch 33/50\n",
            "2871/2871 [==============================] - 33s 11ms/step - loss: 0.8358 - accuracy: 0.6813 - val_loss: 2.4545 - val_accuracy: 0.4390\n",
            "Epoch 34/50\n",
            "2871/2871 [==============================] - 32s 11ms/step - loss: 0.8277 - accuracy: 0.6844 - val_loss: 2.5753 - val_accuracy: 0.4454\n",
            "Epoch 35/50\n",
            "2871/2871 [==============================] - 32s 11ms/step - loss: 0.8167 - accuracy: 0.6850 - val_loss: 2.6928 - val_accuracy: 0.4452\n",
            "Epoch 36/50\n",
            "2871/2871 [==============================] - 32s 11ms/step - loss: 0.8134 - accuracy: 0.6893 - val_loss: 2.7535 - val_accuracy: 0.4455\n",
            "Epoch 37/50\n",
            "2871/2871 [==============================] - 36s 13ms/step - loss: 0.8038 - accuracy: 0.6910 - val_loss: 2.7189 - val_accuracy: 0.4420\n",
            "Epoch 38/50\n",
            "2871/2871 [==============================] - 32s 11ms/step - loss: 0.8032 - accuracy: 0.6917 - val_loss: 2.7484 - val_accuracy: 0.4497\n",
            "Epoch 39/50\n",
            "2871/2871 [==============================] - 32s 11ms/step - loss: 0.7916 - accuracy: 0.6924 - val_loss: 2.7098 - val_accuracy: 0.4368\n",
            "Epoch 40/50\n",
            "2871/2871 [==============================] - 32s 11ms/step - loss: 0.7845 - accuracy: 0.6969 - val_loss: 2.9660 - val_accuracy: 0.4415\n",
            "Epoch 41/50\n",
            "2871/2871 [==============================] - 31s 11ms/step - loss: 0.7912 - accuracy: 0.6957 - val_loss: 2.8812 - val_accuracy: 0.4457\n",
            "Epoch 42/50\n",
            "2871/2871 [==============================] - 32s 11ms/step - loss: 0.7810 - accuracy: 0.6988 - val_loss: 2.9525 - val_accuracy: 0.4395\n",
            "Epoch 43/50\n",
            "2871/2871 [==============================] - 31s 11ms/step - loss: 0.7670 - accuracy: 0.7038 - val_loss: 2.9148 - val_accuracy: 0.4401\n",
            "Epoch 44/50\n",
            "2871/2871 [==============================] - 32s 11ms/step - loss: 0.7669 - accuracy: 0.7027 - val_loss: 2.9877 - val_accuracy: 0.4395\n",
            "Epoch 45/50\n",
            "2871/2871 [==============================] - 32s 11ms/step - loss: 0.7629 - accuracy: 0.7050 - val_loss: 3.0992 - val_accuracy: 0.4393\n",
            "Epoch 46/50\n",
            "2871/2871 [==============================] - 31s 11ms/step - loss: 0.7595 - accuracy: 0.7069 - val_loss: 3.2228 - val_accuracy: 0.4405\n",
            "Epoch 47/50\n",
            "2871/2871 [==============================] - 31s 11ms/step - loss: 0.7514 - accuracy: 0.7090 - val_loss: 3.0521 - val_accuracy: 0.4363\n",
            "Epoch 48/50\n",
            "2871/2871 [==============================] - 31s 11ms/step - loss: 0.7459 - accuracy: 0.7107 - val_loss: 3.1290 - val_accuracy: 0.4368\n",
            "Epoch 49/50\n",
            "2871/2871 [==============================] - 31s 11ms/step - loss: 0.7466 - accuracy: 0.7124 - val_loss: 3.2699 - val_accuracy: 0.4455\n",
            "Epoch 50/50\n",
            "2871/2871 [==============================] - 31s 11ms/step - loss: 0.7351 - accuracy: 0.7169 - val_loss: 3.2888 - val_accuracy: 0.4377\n"
          ]
        }
      ]
    },
    {
      "cell_type": "code",
      "source": [
        "print(f\"Your model reached the desired accuracy after {len(history.epoch)} epochs\")"
      ],
      "metadata": {
        "colab": {
          "base_uri": "https://localhost:8080/"
        },
        "id": "J81Euxn0yZFQ",
        "outputId": "78e735d3-2a30-4edb-816b-02820dc56796"
      },
      "execution_count": null,
      "outputs": [
        {
          "output_type": "stream",
          "name": "stdout",
          "text": [
            "Your model reached the desired accuracy after 50 epochs\n"
          ]
        }
      ]
    },
    {
      "cell_type": "code",
      "source": [
        "def plot_graphs(history, metric):\n",
        "    plt.plot(history.history[metric])\n",
        "    plt.plot(history.history[f'val_{metric}'])\n",
        "    plt.xlabel(\"Epochs\")\n",
        "    plt.ylabel(metric)\n",
        "    plt.legend([metric, f'val_{metric}'])\n",
        "    plt.show()\n",
        "\n",
        "plot_graphs(history, \"accuracy\")\n",
        "# plot_graphs(history, \"loss\")"
      ],
      "metadata": {
        "colab": {
          "base_uri": "https://localhost:8080/",
          "height": 449
        },
        "id": "M7jEBK2aIRl5",
        "outputId": "61ee0675-1f64-42a5-bf30-5bb5cedc373f"
      },
      "execution_count": null,
      "outputs": [
        {
          "output_type": "display_data",
          "data": {
            "text/plain": [
              "<Figure size 640x480 with 1 Axes>"
            ],
            "image/png": "[encoded data removed]"
          },
          "metadata": {}
        }
      ]
    },
    {
      "cell_type": "code",
      "source": [
        "model.save('/content/emotion_model_vgg16.keras')"
      ],
      "metadata": {
        "id": "tv8VoJjMIS8E"
      },
      "execution_count": null,
      "outputs": []
    },
    {
      "cell_type": "code",
      "source": [
        "if not \"accuracy\" in history.model.metrics_names:\n",
        "    print(\"Use 'accuracy' as metric when compiling your model.\")\n",
        "else:\n",
        "    print(\"The metric was correctly defined.\")"
      ],
      "metadata": {
        "colab": {
          "base_uri": "https://localhost:8080/"
        },
        "id": "zEgbrRNXyERC",
        "outputId": "da0f5474-8bac-408d-a90c-515854ce22ac"
      },
      "execution_count": null,
      "outputs": [
        {
          "output_type": "stream",
          "name": "stdout",
          "text": [
            "The metric was correctly defined.\n"
          ]
        }
      ]
    },
    {
      "cell_type": "markdown",
      "source": [
        "# Predict new sample"
      ],
      "metadata": {
        "id": "_9MMSR0wcgEL"
      }
    },
    {
      "cell_type": "code",
      "source": [
        "uploaded = files.upload()\n",
        "\n",
        "for fn in uploaded.keys():\n",
        "\n",
        "  # predicting images\n",
        "  path = '/content/' + fn\n",
        "  img = load_img(path, target_size=(48, 48))\n",
        "  x = img_to_array(img)\n",
        "  x /= 255\n",
        "  x = np.expand_dims(x, axis=0)\n",
        "\n",
        "  images = np.vstack([x])\n",
        "  predictions = model.predict(images, batch_size=10)\n",
        "\n",
        "  # Get the predicted class index\n",
        "  predicted_class_index = np.argmax(predictions)\n",
        "\n",
        "  # Get the predicted class label from the 'gen' variable\n",
        "  predicted_class = list(class_names.keys())[list(class_names.values()).index(predicted_class_index)]\n",
        "\n",
        "  # Print the prediction\n",
        "  print(\"Predicted class:\", predicted_class)\n",
        "  print(\"Class probabilities:\", predictions)\n",
        "\n",
        "  plt.imshow(img)\n",
        "  plt.show()"
      ],
      "metadata": {
        "colab": {
          "base_uri": "https://localhost:8080/",
          "height": 1000
        },
        "id": "CrmSQ1dbzxNi",
        "outputId": "aaa722fe-303b-4bd9-bbd5-1c82346d0801"
      },
      "execution_count": null,
      "outputs": [
        {
          "output_type": "display_data",
          "data": {
            "text/plain": [
              "<IPython.core.display.HTML object>"
            ],
            "text/html": [
              "\n",
              "     <input type=\"file\" id=\"files-d957a552-962c-4126-86f3-04b7ffae1efa\" name=\"files[]\" multiple disabled\n",
              "        style=\"border:none\" />\n",
              "     <output id=\"result-d957a552-962c-4126-86f3-04b7ffae1efa\">\n",
              "      Upload widget is only available when the cell has been executed in the\n",
              "      current browser session. Please rerun this cell to enable.\n",
              "      </output>\n",
              "      <script>// Copyright 2017 Google LLC\n",
              "//\n",
              "// Licensed under the Apache License, Version 2.0 (the \"License\");\n",
              "// you may not use this file except in compliance with the License.\n",
              "// You may obtain a copy of the License at\n",
              "//\n",
              "//      http://www.apache.org/licenses/LICENSE-2.0\n",
              "//\n",
              "// Unless required by applicable law or agreed to in writing, software\n",
              "// distributed under the License is distributed on an \"AS IS\" BASIS,\n",
              "// WITHOUT WARRANTIES OR CONDITIONS OF ANY KIND, either express or implied.\n",
              "// See the License for the specific language governing permissions and\n",
              "// limitations under the License.\n",
              "\n",
              "/**\n",
              " * @fileoverview Helpers for google.colab Python module.\n",
              " */\n",
              "(function(scope) {\n",
              "function span(text, styleAttributes = {}) {\n",
              "  const element = document.createElement('span');\n",
              "  element.textContent = text;\n",
              "  for (const key of Object.keys(styleAttributes)) {\n",
              "    element.style[key] = styleAttributes[key];\n",
              "  }\n",
              "  return element;\n",
              "}\n",
              "\n",
              "// Max number of bytes which will be uploaded at a time.\n",
              "const MAX_PAYLOAD_SIZE = 100 * 1024;\n",
              "\n",
              "function _uploadFiles(inputId, outputId) {\n",
              "  const steps = uploadFilesStep(inputId, outputId);\n",
              "  const outputElement = document.getElementById(outputId);\n",
              "  // Cache steps on the outputElement to make it available for the next call\n",
              "  // to uploadFilesContinue from Python.\n",
              "  outputElement.steps = steps;\n",
              "\n",
              "  return _uploadFilesContinue(outputId);\n",
              "}\n",
              "\n",
              "// This is roughly an async generator (not supported in the browser yet),\n",
              "// where there are multiple asynchronous steps and the Python side is going\n",
              "// to poll for completion of each step.\n",
              "// This uses a Promise to block the python side on completion of each step,\n",
              "// then passes the result of the previous step as the input to the next step.\n",
              "function _uploadFilesContinue(outputId) {\n",
              "  const outputElement = document.getElementById(outputId);\n",
              "  const steps = outputElement.steps;\n",
              "\n",
              "  const next = steps.next(outputElement.lastPromiseValue);\n",
              "  return Promise.resolve(next.value.promise).then((value) => {\n",
              "    // Cache the last promise value to make it available to the next\n",
              "    // step of the generator.\n",
              "    outputElement.lastPromiseValue = value;\n",
              "    return next.value.response;\n",
              "  });\n",
              "}\n",
              "\n",
              "/**\n",
              " * Generator function which is called between each async step of the upload\n",
              " * process.\n",
              " * @param {string} inputId Element ID of the input file picker element.\n",
              " * @param {string} outputId Element ID of the output display.\n",
              " * @return {!Iterable<!Object>} Iterable of next steps.\n",
              " */\n",
              "function* uploadFilesStep(inputId, outputId) {\n",
              "  const inputElement = document.getElementById(inputId);\n",
              "  inputElement.disabled = false;\n",
              "\n",
              "  const outputElement = document.getElementById(outputId);\n",
              "  outputElement.innerHTML = '';\n",
              "\n",
              "  const pickedPromise = new Promise((resolve) => {\n",
              "    inputElement.addEventListener('change', (e) => {\n",
              "      resolve(e.target.files);\n",
              "    });\n",
              "  });\n",
              "\n",
              "  const cancel = document.createElement('button');\n",
              "  inputElement.parentElement.appendChild(cancel);\n",
              "  cancel.textContent = 'Cancel upload';\n",
              "  const cancelPromise = new Promise((resolve) => {\n",
              "    cancel.onclick = () => {\n",
              "      resolve(null);\n",
              "    };\n",
              "  });\n",
              "\n",
              "  // Wait for the user to pick the files.\n",
              "  const files = yield {\n",
              "    promise: Promise.race([pickedPromise, cancelPromise]),\n",
              "    response: {\n",
              "      action: 'starting',\n",
              "    }\n",
              "  };\n",
              "\n",
              "  cancel.remove();\n",
              "\n",
              "  // Disable the input element since further picks are not allowed.\n",
              "  inputElement.disabled = true;\n",
              "\n",
              "  if (!files) {\n",
              "    return {\n",
              "      response: {\n",
              "        action: 'complete',\n",
              "      }\n",
              "    };\n",
              "  }\n",
              "\n",
              "  for (const file of files) {\n",
              "    const li = document.createElement('li');\n",
              "    li.append(span(file.name, {fontWeight: 'bold'}));\n",
              "    li.append(span(\n",
              "        `(${file.type || 'n/a'}) - ${file.size} bytes, ` +\n",
              "        `last modified: ${\n",
              "            file.lastModifiedDate ? file.lastModifiedDate.toLocaleDateString() :\n",
              "                                    'n/a'} - `));\n",
              "    const percent = span('0% done');\n",
              "    li.appendChild(percent);\n",
              "\n",
              "    outputElement.appendChild(li);\n",
              "\n",
              "    const fileDataPromise = new Promise((resolve) => {\n",
              "      const reader = new FileReader();\n",
              "      reader.onload = (e) => {\n",
              "        resolve(e.target.result);\n",
              "      };\n",
              "      reader.readAsArrayBuffer(file);\n",
              "    });\n",
              "    // Wait for the data to be ready.\n",
              "    let fileData = yield {\n",
              "      promise: fileDataPromise,\n",
              "      response: {\n",
              "        action: 'continue',\n",
              "      }\n",
              "    };\n",
              "\n",
              "    // Use a chunked sending to avoid message size limits. See b/62115660.\n",
              "    let position = 0;\n",
              "    do {\n",
              "      const length = Math.min(fileData.byteLength - position, MAX_PAYLOAD_SIZE);\n",
              "      const chunk = new Uint8Array(fileData, position, length);\n",
              "      position += length;\n",
              "\n",
              "      const base64 = btoa(String.fromCharCode.apply(null, chunk));\n",
              "      yield {\n",
              "        response: {\n",
              "          action: 'append',\n",
              "          file: file.name,\n",
              "          data: base64,\n",
              "        },\n",
              "      };\n",
              "\n",
              "      let percentDone = fileData.byteLength === 0 ?\n",
              "          100 :\n",
              "          Math.round((position / fileData.byteLength) * 100);\n",
              "      percent.textContent = `${percentDone}% done`;\n",
              "\n",
              "    } while (position < fileData.byteLength);\n",
              "  }\n",
              "\n",
              "  // All done.\n",
              "  yield {\n",
              "    response: {\n",
              "      action: 'complete',\n",
              "    }\n",
              "  };\n",
              "}\n",
              "\n",
              "scope.google = scope.google || {};\n",
              "scope.google.colab = scope.google.colab || {};\n",
              "scope.google.colab._files = {\n",
              "  _uploadFiles,\n",
              "  _uploadFilesContinue,\n",
              "};\n",
              "})(self);\n",
              "</script> "
            ]
          },
          "metadata": {}
        },
        {
          "output_type": "stream",
          "name": "stdout",
          "text": [
            "Saving stickers-sad-face-crying.jpg to stickers-sad-face-crying (3).jpg\n",
            "Saving vector-emoji-angry-face-cute-600nw-1927365128.webp to vector-emoji-angry-face-cute-600nw-1927365128.webp\n",
            "Saving happiness-1.jpg to happiness-1 (6).jpg\n",
            "1/1 [==============================] - 0s 18ms/step\n",
            "Predicted class: happy\n",
            "Class probabilities: [[3.6289913e-03 2.7132539e-13 1.1522020e-03 7.7704513e-01 1.8462232e-01\n",
            "  3.3551313e-02 1.8974951e-08]]\n"
          ]
        },
        {
          "output_type": "display_data",
          "data": {
            "text/plain": [
              "<Figure size 640x480 with 1 Axes>"
            ],
            "image/png": "[encoded data removed]"
          },
          "metadata": {}
        },
        {
          "output_type": "stream",
          "name": "stdout",
          "text": [
            "1/1 [==============================] - 0s 17ms/step\n",
            "Predicted class: surprised\n",
            "Class probabilities: [[5.5075269e-03 6.9853486e-14 1.2627726e-04 3.3686107e-03 1.1024653e-03\n",
            "  1.6553162e-04 9.8972964e-01]]\n"
          ]
        },
        {
          "output_type": "display_data",
          "data": {
            "text/plain": [
              "<Figure size 640x480 with 1 Axes>"
            ],
            "image/png": "[encoded data removed]"
          },
          "metadata": {}
        },
        {
          "output_type": "stream",
          "name": "stdout",
          "text": [
            "1/1 [==============================] - 0s 18ms/step\n",
            "Predicted class: happy\n",
            "Class probabilities: [[1.3043499e-12 0.0000000e+00 6.8598228e-16 1.0000000e+00 1.9879936e-08\n",
            "  3.4681789e-11 1.5350723e-15]]\n"
          ]
        },
        {
          "output_type": "display_data",
          "data": {
            "text/plain": [
              "<Figure size 640x480 with 1 Axes>"
            ],
            "image/png": "[encoded data removed]"
          },
          "metadata": {}
        }
      ]
    },
    {
      "cell_type": "code",
      "source": [],
      "metadata": {
        "id": "B_IzLfO96J64"
      },
      "execution_count": null,
      "outputs": []
    }
  ]
}