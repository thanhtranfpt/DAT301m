{
  "cells": [
    {
      "cell_type": "markdown",
      "metadata": {
        "id": "XO-V90O0L4Q2"
      },
      "source": [
        "<a href=\"https://colab.research.google.com/github/https-deeplearning-ai/tensorflow-1-public/blob/main/C4/W3/ungraded_labs/C4_W3_Lab_2_LSTM.ipynb\" target=\"_parent\"><img src=\"https://colab.research.google.com/assets/colab-badge.svg\" alt=\"Open In Colab\"/></a>"
      ]
    },
    {
      "cell_type": "markdown",
      "metadata": {
        "id": "sV_nvXSQGJPK"
      },
      "source": [
        "# Ungraded Lab: Using a multi-layer LSTM for forecasting\n",
        "\n",
        "In this lab, you will use the same RNN architecure in the first lab but will instead stack [LSTM](https://www.tensorflow.org/api_docs/python/tf/keras/layers/LSTM) layers instead of `SimpleRNN`."
      ]
    },
    {
      "cell_type": "markdown",
      "metadata": {
        "id": "3IMbAWETGOWD"
      },
      "source": [
        "## Imports"
      ]
    },
    {
      "cell_type": "code",
      "execution_count": 1,
      "metadata": {
        "id": "BOjujz601HcS"
      },
      "outputs": [],
      "source": [
        "import tensorflow as tf\n",
        "import numpy as np\n",
        "import matplotlib.pyplot as plt"
      ]
    },
    {
      "cell_type": "markdown",
      "metadata": {
        "id": "kD7RQQ0xGQVH"
      },
      "source": [
        "## Utilities"
      ]
    },
    {
      "cell_type": "code",
      "execution_count": 2,
      "metadata": {
        "id": "Zswl7jRtGzkk"
      },
      "outputs": [],
      "source": [
        "def plot_series(time, series, format=\"-\", start=0, end=None):\n",
        "    \"\"\"\n",
        "    Visualizes time series data\n",
        "\n",
        "    Args:\n",
        "      time (array of int) - contains the time steps\n",
        "      series (array of int) - contains the measurements for each time step\n",
        "      format - line style when plotting the graph\n",
        "      start - first time step to plot\n",
        "      end - last time step to plot\n",
        "    \"\"\"\n",
        "\n",
        "    # Setup dimensions of the graph figure\n",
        "    plt.figure(figsize=(10, 6))\n",
        "\n",
        "    if type(series) is tuple:\n",
        "\n",
        "      for series_num in series:\n",
        "        # Plot the time series data\n",
        "        plt.plot(time[start:end], series_num[start:end], format)\n",
        "\n",
        "    else:\n",
        "      # Plot the time series data\n",
        "      plt.plot(time[start:end], series[start:end], format)\n",
        "\n",
        "    # Label the x-axis\n",
        "    plt.xlabel(\"Time\")\n",
        "\n",
        "    # Label the y-axis\n",
        "    plt.ylabel(\"Value\")\n",
        "\n",
        "    # Overlay a grid on the graph\n",
        "    plt.grid(True)\n",
        "\n",
        "    # Draw the graph on screen\n",
        "    plt.show()\n",
        "\n",
        "def trend(time, slope=0):\n",
        "    \"\"\"\n",
        "    Generates synthetic data that follows a straight line given a slope value.\n",
        "\n",
        "    Args:\n",
        "      time (array of int) - contains the time steps\n",
        "      slope (float) - determines the direction and steepness of the line\n",
        "\n",
        "    Returns:\n",
        "      series (array of float) - measurements that follow a straight line\n",
        "    \"\"\"\n",
        "\n",
        "    # Compute the linear series given the slope\n",
        "    series = slope * time\n",
        "\n",
        "    return series\n",
        "\n",
        "def seasonal_pattern(season_time):\n",
        "    \"\"\"\n",
        "    Just an arbitrary pattern, you can change it if you wish\n",
        "\n",
        "    Args:\n",
        "      season_time (array of float) - contains the measurements per time step\n",
        "\n",
        "    Returns:\n",
        "      data_pattern (array of float) -  contains revised measurement values according\n",
        "                                  to the defined pattern\n",
        "    \"\"\"\n",
        "\n",
        "    # Generate the values using an arbitrary pattern\n",
        "    data_pattern = np.where(season_time < 0.4,\n",
        "                    np.cos(season_time * 2 * np.pi),\n",
        "                    1 / np.exp(3 * season_time))\n",
        "\n",
        "    return data_pattern\n",
        "\n",
        "def seasonality(time, period, amplitude=1, phase=0):\n",
        "    \"\"\"\n",
        "    Repeats the same pattern at each period\n",
        "\n",
        "    Args:\n",
        "      time (array of int) - contains the time steps\n",
        "      period (int) - number of time steps before the pattern repeats\n",
        "      amplitude (int) - peak measured value in a period\n",
        "      phase (int) - number of time steps to shift the measured values\n",
        "\n",
        "    Returns:\n",
        "      data_pattern (array of float) - seasonal data scaled by the defined amplitude\n",
        "    \"\"\"\n",
        "\n",
        "    # Define the measured values per period\n",
        "    season_time = ((time + phase) % period) / period\n",
        "\n",
        "    # Generates the seasonal data scaled by the defined amplitude\n",
        "    data_pattern = amplitude * seasonal_pattern(season_time)\n",
        "\n",
        "    return data_pattern\n",
        "\n",
        "def noise(time, noise_level=1, seed=None):\n",
        "    \"\"\"Generates a normally distributed noisy signal\n",
        "\n",
        "    Args:\n",
        "      time (array of int) - contains the time steps\n",
        "      noise_level (float) - scaling factor for the generated signal\n",
        "      seed (int) - number generator seed for repeatability\n",
        "\n",
        "    Returns:\n",
        "      noise (array of float) - the noisy signal\n",
        "    \"\"\"\n",
        "\n",
        "    # Initialize the random number generator\n",
        "    rnd = np.random.RandomState(seed)\n",
        "\n",
        "    # Generate a random number for each time step and scale by the noise level\n",
        "    noise = rnd.randn(len(time)) * noise_level\n",
        "\n",
        "    return noise"
      ]
    },
    {
      "cell_type": "markdown",
      "metadata": {
        "id": "yxNyeFWjGSdj"
      },
      "source": [
        "## Generate the Synthetic Data"
      ]
    },
    {
      "cell_type": "code",
      "execution_count": 3,
      "metadata": {
        "id": "KYEUfDbdpHPm",
        "colab": {
          "base_uri": "https://localhost:8080/",
          "height": 542
        },
        "outputId": "10747204-362c-4465-8ae6-d256c32d5b53"
      },
      "outputs": [
        {
          "output_type": "display_data",
          "data": {
            "text/plain": [
              "<Figure size 1000x600 with 1 Axes>"
            ],
            "image/png": "[encoded data removed]"
          },
          "metadata": {}
        }
      ],
      "source": [
        "# Parameters\n",
        "time = np.arange(4 * 365 + 1, dtype=\"float32\")\n",
        "baseline = 10\n",
        "amplitude = 40\n",
        "slope = 0.05\n",
        "noise_level = 5\n",
        "\n",
        "# Create the series\n",
        "series = baseline + trend(time, slope) + seasonality(time, period=365, amplitude=amplitude)\n",
        "\n",
        "# Update with noise\n",
        "series += noise(time, noise_level, seed=42)\n",
        "\n",
        "# Plot the results\n",
        "plot_series(time, series)"
      ]
    },
    {
      "cell_type": "markdown",
      "metadata": {
        "id": "MYKCvv-eGWRc"
      },
      "source": [
        "## Split the Dataset"
      ]
    },
    {
      "cell_type": "code",
      "execution_count": 4,
      "metadata": {
        "id": "hpp0slenpKVD"
      },
      "outputs": [],
      "source": [
        "# Define the split time\n",
        "split_time = 1000\n",
        "\n",
        "# Get the train set\n",
        "time_train = time[:split_time]\n",
        "x_train = series[:split_time]\n",
        "\n",
        "# Get the validation set\n",
        "time_valid = time[split_time:]\n",
        "x_valid = series[split_time:]"
      ]
    },
    {
      "cell_type": "markdown",
      "metadata": {
        "id": "cktHz9aOGYtV"
      },
      "source": [
        "## Prepare Features and Labels"
      ]
    },
    {
      "cell_type": "code",
      "execution_count": 5,
      "metadata": {
        "id": "G_j_2_Mqwn7-"
      },
      "outputs": [],
      "source": [
        "# Parameters\n",
        "window_size = 20\n",
        "batch_size = 32\n",
        "shuffle_buffer_size = 1000"
      ]
    },
    {
      "cell_type": "code",
      "execution_count": 6,
      "metadata": {
        "id": "4sTTIOCbyShY"
      },
      "outputs": [],
      "source": [
        "def windowed_dataset(series, window_size, batch_size, shuffle_buffer):\n",
        "    \"\"\"Generates dataset windows\n",
        "\n",
        "    Args:\n",
        "      series (array of float) - contains the values of the time series\n",
        "      window_size (int) - the number of time steps to include in the feature\n",
        "      batch_size (int) - the batch size\n",
        "      shuffle_buffer(int) - buffer size to use for the shuffle method\n",
        "\n",
        "    Returns:\n",
        "      dataset (TF Dataset) - TF Dataset containing time windows\n",
        "    \"\"\"\n",
        "\n",
        "    # Generate a TF Dataset from the series values\n",
        "    dataset = tf.data.Dataset.from_tensor_slices(series)\n",
        "\n",
        "    # Window the data but only take those with the specified size\n",
        "    dataset = dataset.window(window_size + 1, shift=1, drop_remainder=True)\n",
        "\n",
        "    # Flatten the windows by putting its elements in a single batch\n",
        "    dataset = dataset.flat_map(lambda window: window.batch(window_size + 1))\n",
        "\n",
        "    # Create tuples with features and labels\n",
        "    dataset = dataset.map(lambda window: (window[:-1], window[-1]))\n",
        "\n",
        "    # Shuffle the windows\n",
        "    dataset = dataset.shuffle(shuffle_buffer)\n",
        "\n",
        "    # Create batches of windows\n",
        "    dataset = dataset.batch(batch_size).prefetch(1)\n",
        "\n",
        "    return dataset"
      ]
    },
    {
      "cell_type": "code",
      "execution_count": 7,
      "metadata": {
        "id": "vGj5-InSwtQQ"
      },
      "outputs": [],
      "source": [
        "# Generate the dataset windows\n",
        "dataset = windowed_dataset(x_train, window_size, batch_size, shuffle_buffer_size)"
      ]
    },
    {
      "cell_type": "markdown",
      "metadata": {
        "id": "p9-Ke8ZaGcjd"
      },
      "source": [
        "## Build the Model\n",
        "\n",
        "As mentioned, you will swap `SimpleRNN` for `LSTM` in this lab. It is also set as bidirectional below but feel free to revise later and see what results you get. LSTMs are much more complex in their internal architecture than simpleRNNs. It implements a cell state that allows it to remember sequences better than simple implementations. This added complexity results in a bigger set of parameters to train and you'll see that when you print the model summary below."
      ]
    },
    {
      "cell_type": "code",
      "execution_count": 8,
      "metadata": {
        "id": "A1Hl39rklkLm",
        "colab": {
          "base_uri": "https://localhost:8080/"
        },
        "outputId": "cf186771-4099-4613-96fb-882bc277bea8"
      },
      "outputs": [
        {
          "output_type": "stream",
          "name": "stdout",
          "text": [
            "Model: \"sequential\"\n",
            "_________________________________________________________________\n",
            " Layer (type)                Output Shape              Param #   \n",
            "=================================================================\n",
            " lambda (Lambda)             (None, 20, 1)             0         \n",
            "                                                                 \n",
            " bidirectional (Bidirection  (None, 20, 64)            8704      \n",
            " al)                                                             \n",
            "                                                                 \n",
            " bidirectional_1 (Bidirecti  (None, 64)                24832     \n",
            " onal)                                                           \n",
            "                                                                 \n",
            " dense (Dense)               (None, 1)                 65        \n",
            "                                                                 \n",
            " lambda_1 (Lambda)           (None, 1)                 0         \n",
            "                                                                 \n",
            "=================================================================\n",
            "Total params: 33601 (131.25 KB)\n",
            "Trainable params: 33601 (131.25 KB)\n",
            "Non-trainable params: 0 (0.00 Byte)\n",
            "_________________________________________________________________\n"
          ]
        }
      ],
      "source": [
        "# Build the Model\n",
        "model_tune = tf.keras.models.Sequential([\n",
        "  tf.keras.layers.Lambda(lambda x: tf.expand_dims(x, axis=-1),\n",
        "                      input_shape=[window_size]),\n",
        "    tf.keras.layers.Bidirectional(tf.keras.layers.LSTM(32, return_sequences=True)),\n",
        "  tf.keras.layers.Bidirectional(tf.keras.layers.LSTM(32)),\n",
        "  tf.keras.layers.Dense(1),\n",
        "  tf.keras.layers.Lambda(lambda x: x * 100.0)\n",
        "])\n",
        "\n",
        "# Print the model summary\n",
        "model_tune.summary()"
      ]
    },
    {
      "cell_type": "markdown",
      "metadata": {
        "id": "FHaFblbwq0GV"
      },
      "source": [
        "## Tune the Learning Rate\n",
        "\n",
        "As usual, you will pick a learning rate by running the tuning code below."
      ]
    },
    {
      "cell_type": "code",
      "execution_count": 9,
      "metadata": {
        "id": "qE7al18qw48G",
        "colab": {
          "base_uri": "https://localhost:8080/"
        },
        "outputId": "2d651149-48b7-4304-fa08-a45697b22122"
      },
      "outputs": [
        {
          "output_type": "stream",
          "name": "stdout",
          "text": [
            "Epoch 1/100\n",
            "31/31 [==============================] - 17s 14ms/step - loss: 25.2125 - lr: 1.0000e-08\n",
            "Epoch 2/100\n",
            "31/31 [==============================] - 1s 13ms/step - loss: 24.7749 - lr: 1.1220e-08\n",
            "Epoch 3/100\n",
            "31/31 [==============================] - 0s 10ms/step - loss: 24.2976 - lr: 1.2589e-08\n",
            "Epoch 4/100\n",
            "31/31 [==============================] - 0s 9ms/step - loss: 23.8112 - lr: 1.4125e-08\n",
            "Epoch 5/100\n",
            "31/31 [==============================] - 0s 9ms/step - loss: 23.3268 - lr: 1.5849e-08\n",
            "Epoch 6/100\n",
            "31/31 [==============================] - 0s 9ms/step - loss: 22.8405 - lr: 1.7783e-08\n",
            "Epoch 7/100\n",
            "31/31 [==============================] - 0s 9ms/step - loss: 22.3573 - lr: 1.9953e-08\n",
            "Epoch 8/100\n",
            "31/31 [==============================] - 0s 9ms/step - loss: 21.8680 - lr: 2.2387e-08\n",
            "Epoch 9/100\n",
            "31/31 [==============================] - 0s 9ms/step - loss: 21.3711 - lr: 2.5119e-08\n",
            "Epoch 10/100\n",
            "31/31 [==============================] - 0s 9ms/step - loss: 20.8493 - lr: 2.8184e-08\n",
            "Epoch 11/100\n",
            "31/31 [==============================] - 0s 9ms/step - loss: 20.3055 - lr: 3.1623e-08\n",
            "Epoch 12/100\n",
            "31/31 [==============================] - 0s 9ms/step - loss: 19.7364 - lr: 3.5481e-08\n",
            "Epoch 13/100\n",
            "31/31 [==============================] - 0s 9ms/step - loss: 19.1686 - lr: 3.9811e-08\n",
            "Epoch 14/100\n",
            "31/31 [==============================] - 0s 9ms/step - loss: 18.6064 - lr: 4.4668e-08\n",
            "Epoch 15/100\n",
            "31/31 [==============================] - 0s 10ms/step - loss: 18.0467 - lr: 5.0119e-08\n",
            "Epoch 16/100\n",
            "31/31 [==============================] - 0s 9ms/step - loss: 17.5205 - lr: 5.6234e-08\n",
            "Epoch 17/100\n",
            "31/31 [==============================] - 0s 9ms/step - loss: 17.0468 - lr: 6.3096e-08\n",
            "Epoch 18/100\n",
            "31/31 [==============================] - 0s 9ms/step - loss: 16.6183 - lr: 7.0795e-08\n",
            "Epoch 19/100\n",
            "31/31 [==============================] - 0s 9ms/step - loss: 16.2050 - lr: 7.9433e-08\n",
            "Epoch 20/100\n",
            "31/31 [==============================] - 1s 17ms/step - loss: 15.8196 - lr: 8.9125e-08\n",
            "Epoch 21/100\n",
            "31/31 [==============================] - 1s 15ms/step - loss: 15.4274 - lr: 1.0000e-07\n",
            "Epoch 22/100\n",
            "31/31 [==============================] - 0s 9ms/step - loss: 15.0172 - lr: 1.1220e-07\n",
            "Epoch 23/100\n",
            "31/31 [==============================] - 1s 13ms/step - loss: 14.5663 - lr: 1.2589e-07\n",
            "Epoch 24/100\n",
            "31/31 [==============================] - 1s 12ms/step - loss: 14.0788 - lr: 1.4125e-07\n",
            "Epoch 25/100\n",
            "31/31 [==============================] - 1s 13ms/step - loss: 13.5551 - lr: 1.5849e-07\n",
            "Epoch 26/100\n",
            "31/31 [==============================] - 1s 9ms/step - loss: 12.9979 - lr: 1.7783e-07\n",
            "Epoch 27/100\n",
            "31/31 [==============================] - 0s 9ms/step - loss: 12.4148 - lr: 1.9953e-07\n",
            "Epoch 28/100\n",
            "31/31 [==============================] - 0s 10ms/step - loss: 11.7851 - lr: 2.2387e-07\n",
            "Epoch 29/100\n",
            "31/31 [==============================] - 0s 9ms/step - loss: 11.1625 - lr: 2.5119e-07\n",
            "Epoch 30/100\n",
            "31/31 [==============================] - 0s 10ms/step - loss: 10.5039 - lr: 2.8184e-07\n",
            "Epoch 31/100\n",
            "31/31 [==============================] - 0s 9ms/step - loss: 9.8334 - lr: 3.1623e-07\n",
            "Epoch 32/100\n",
            "31/31 [==============================] - 0s 10ms/step - loss: 9.1642 - lr: 3.5481e-07\n",
            "Epoch 33/100\n",
            "31/31 [==============================] - 0s 9ms/step - loss: 8.5230 - lr: 3.9811e-07\n",
            "Epoch 34/100\n",
            "31/31 [==============================] - 0s 9ms/step - loss: 7.9482 - lr: 4.4668e-07\n",
            "Epoch 35/100\n",
            "31/31 [==============================] - 0s 9ms/step - loss: 7.4459 - lr: 5.0119e-07\n",
            "Epoch 36/100\n",
            "31/31 [==============================] - 0s 9ms/step - loss: 7.0170 - lr: 5.6234e-07\n",
            "Epoch 37/100\n",
            "31/31 [==============================] - 0s 10ms/step - loss: 6.6627 - lr: 6.3096e-07\n",
            "Epoch 38/100\n",
            "31/31 [==============================] - 0s 9ms/step - loss: 6.4095 - lr: 7.0795e-07\n",
            "Epoch 39/100\n",
            "31/31 [==============================] - 0s 9ms/step - loss: 6.2210 - lr: 7.9433e-07\n",
            "Epoch 40/100\n",
            "31/31 [==============================] - 0s 9ms/step - loss: 6.0294 - lr: 8.9125e-07\n",
            "Epoch 41/100\n",
            "31/31 [==============================] - 0s 9ms/step - loss: 5.9912 - lr: 1.0000e-06\n",
            "Epoch 42/100\n",
            "31/31 [==============================] - 0s 10ms/step - loss: 5.8589 - lr: 1.1220e-06\n",
            "Epoch 43/100\n",
            "31/31 [==============================] - 0s 9ms/step - loss: 5.7431 - lr: 1.2589e-06\n",
            "Epoch 44/100\n",
            "31/31 [==============================] - 0s 9ms/step - loss: 5.6271 - lr: 1.4125e-06\n",
            "Epoch 45/100\n",
            "31/31 [==============================] - 0s 9ms/step - loss: 5.5945 - lr: 1.5849e-06\n",
            "Epoch 46/100\n",
            "31/31 [==============================] - 0s 9ms/step - loss: 5.4676 - lr: 1.7783e-06\n",
            "Epoch 47/100\n",
            "31/31 [==============================] - 1s 13ms/step - loss: 5.4043 - lr: 1.9953e-06\n",
            "Epoch 48/100\n",
            "31/31 [==============================] - 1s 14ms/step - loss: 5.5148 - lr: 2.2387e-06\n",
            "Epoch 49/100\n",
            "31/31 [==============================] - 1s 13ms/step - loss: 5.3857 - lr: 2.5119e-06\n",
            "Epoch 50/100\n",
            "31/31 [==============================] - 0s 9ms/step - loss: 5.3176 - lr: 2.8184e-06\n",
            "Epoch 51/100\n",
            "31/31 [==============================] - 0s 9ms/step - loss: 5.1578 - lr: 3.1623e-06\n",
            "Epoch 52/100\n",
            "31/31 [==============================] - 0s 10ms/step - loss: 5.1428 - lr: 3.5481e-06\n",
            "Epoch 53/100\n",
            "31/31 [==============================] - 0s 9ms/step - loss: 4.9738 - lr: 3.9811e-06\n",
            "Epoch 54/100\n",
            "31/31 [==============================] - 0s 9ms/step - loss: 5.1664 - lr: 4.4668e-06\n",
            "Epoch 55/100\n",
            "31/31 [==============================] - 0s 10ms/step - loss: 5.1160 - lr: 5.0119e-06\n",
            "Epoch 56/100\n",
            "31/31 [==============================] - 0s 9ms/step - loss: 5.1127 - lr: 5.6234e-06\n",
            "Epoch 57/100\n",
            "31/31 [==============================] - 0s 9ms/step - loss: 5.2209 - lr: 6.3096e-06\n",
            "Epoch 58/100\n",
            "31/31 [==============================] - 0s 9ms/step - loss: 4.9376 - lr: 7.0795e-06\n",
            "Epoch 59/100\n",
            "31/31 [==============================] - 0s 10ms/step - loss: 4.8888 - lr: 7.9433e-06\n",
            "Epoch 60/100\n",
            "31/31 [==============================] - 0s 9ms/step - loss: 4.8498 - lr: 8.9125e-06\n",
            "Epoch 61/100\n",
            "31/31 [==============================] - 0s 9ms/step - loss: 5.1270 - lr: 1.0000e-05\n",
            "Epoch 62/100\n",
            "31/31 [==============================] - 0s 9ms/step - loss: 5.0799 - lr: 1.1220e-05\n",
            "Epoch 63/100\n",
            "31/31 [==============================] - 0s 9ms/step - loss: 5.0995 - lr: 1.2589e-05\n",
            "Epoch 64/100\n",
            "31/31 [==============================] - 0s 9ms/step - loss: 4.6664 - lr: 1.4125e-05\n",
            "Epoch 65/100\n",
            "31/31 [==============================] - 0s 9ms/step - loss: 4.7844 - lr: 1.5849e-05\n",
            "Epoch 66/100\n",
            "31/31 [==============================] - 0s 9ms/step - loss: 5.7609 - lr: 1.7783e-05\n",
            "Epoch 67/100\n",
            "31/31 [==============================] - 0s 9ms/step - loss: 5.1444 - lr: 1.9953e-05\n",
            "Epoch 68/100\n",
            "31/31 [==============================] - 0s 10ms/step - loss: 4.9830 - lr: 2.2387e-05\n",
            "Epoch 69/100\n",
            "31/31 [==============================] - 0s 9ms/step - loss: 6.9594 - lr: 2.5119e-05\n",
            "Epoch 70/100\n",
            "31/31 [==============================] - 0s 9ms/step - loss: 4.8928 - lr: 2.8184e-05\n",
            "Epoch 71/100\n",
            "31/31 [==============================] - 0s 9ms/step - loss: 6.0810 - lr: 3.1623e-05\n",
            "Epoch 72/100\n",
            "31/31 [==============================] - 1s 13ms/step - loss: 5.4729 - lr: 3.5481e-05\n",
            "Epoch 73/100\n",
            "31/31 [==============================] - 1s 13ms/step - loss: 5.5023 - lr: 3.9811e-05\n",
            "Epoch 74/100\n",
            "31/31 [==============================] - 1s 15ms/step - loss: 5.5606 - lr: 4.4668e-05\n",
            "Epoch 75/100\n",
            "31/31 [==============================] - 0s 10ms/step - loss: 6.5048 - lr: 5.0119e-05\n",
            "Epoch 76/100\n",
            "31/31 [==============================] - 0s 10ms/step - loss: 6.4360 - lr: 5.6234e-05\n",
            "Epoch 77/100\n",
            "31/31 [==============================] - 0s 9ms/step - loss: 6.2312 - lr: 6.3096e-05\n",
            "Epoch 78/100\n",
            "31/31 [==============================] - 0s 9ms/step - loss: 5.8510 - lr: 7.0795e-05\n",
            "Epoch 79/100\n",
            "31/31 [==============================] - 0s 9ms/step - loss: 6.7951 - lr: 7.9433e-05\n",
            "Epoch 80/100\n",
            "31/31 [==============================] - 0s 9ms/step - loss: 5.3989 - lr: 8.9125e-05\n",
            "Epoch 81/100\n",
            "31/31 [==============================] - 0s 9ms/step - loss: 6.1695 - lr: 1.0000e-04\n",
            "Epoch 82/100\n",
            "31/31 [==============================] - 0s 9ms/step - loss: 8.5407 - lr: 1.1220e-04\n",
            "Epoch 83/100\n",
            "31/31 [==============================] - 0s 9ms/step - loss: 5.9788 - lr: 1.2589e-04\n",
            "Epoch 84/100\n",
            "31/31 [==============================] - 0s 9ms/step - loss: 6.1132 - lr: 1.4125e-04\n",
            "Epoch 85/100\n",
            "31/31 [==============================] - 0s 9ms/step - loss: 6.7504 - lr: 1.5849e-04\n",
            "Epoch 86/100\n",
            "31/31 [==============================] - 0s 11ms/step - loss: 8.3949 - lr: 1.7783e-04\n",
            "Epoch 87/100\n",
            "31/31 [==============================] - 0s 9ms/step - loss: 10.1352 - lr: 1.9953e-04\n",
            "Epoch 88/100\n",
            "31/31 [==============================] - 0s 11ms/step - loss: 6.8430 - lr: 2.2387e-04\n",
            "Epoch 89/100\n",
            "31/31 [==============================] - 0s 9ms/step - loss: 12.1753 - lr: 2.5119e-04\n",
            "Epoch 90/100\n",
            "31/31 [==============================] - 0s 10ms/step - loss: 8.0981 - lr: 2.8184e-04\n",
            "Epoch 91/100\n",
            "31/31 [==============================] - 0s 9ms/step - loss: 6.5670 - lr: 3.1623e-04\n",
            "Epoch 92/100\n",
            "31/31 [==============================] - 0s 9ms/step - loss: 7.7456 - lr: 3.5481e-04\n",
            "Epoch 93/100\n",
            "31/31 [==============================] - 0s 10ms/step - loss: 9.8483 - lr: 3.9811e-04\n",
            "Epoch 94/100\n",
            "31/31 [==============================] - 0s 9ms/step - loss: 9.0212 - lr: 4.4668e-04\n",
            "Epoch 95/100\n",
            "31/31 [==============================] - 0s 9ms/step - loss: 7.1457 - lr: 5.0119e-04\n",
            "Epoch 96/100\n",
            "31/31 [==============================] - 0s 11ms/step - loss: 7.9225 - lr: 5.6234e-04\n",
            "Epoch 97/100\n",
            "31/31 [==============================] - 1s 14ms/step - loss: 12.5114 - lr: 6.3096e-04\n",
            "Epoch 98/100\n",
            "31/31 [==============================] - 1s 14ms/step - loss: 11.0617 - lr: 7.0795e-04\n",
            "Epoch 99/100\n",
            "31/31 [==============================] - 1s 10ms/step - loss: 11.0640 - lr: 7.9433e-04\n",
            "Epoch 100/100\n",
            "31/31 [==============================] - 0s 9ms/step - loss: 11.1277 - lr: 8.9125e-04\n"
          ]
        }
      ],
      "source": [
        "# Set the learning rate scheduler\n",
        "lr_schedule = tf.keras.callbacks.LearningRateScheduler(\n",
        "    lambda epoch: 1e-8 * 10**(epoch / 20))\n",
        "\n",
        "# Initialize the optimizer\n",
        "optimizer = tf.keras.optimizers.SGD(momentum=0.9)\n",
        "\n",
        "# Set the training parameters\n",
        "model_tune.compile(loss=tf.keras.losses.Huber(), optimizer=optimizer)\n",
        "\n",
        "# Train the model\n",
        "history = model_tune.fit(dataset, epochs=100, callbacks=[lr_schedule])"
      ]
    },
    {
      "cell_type": "code",
      "execution_count": 10,
      "metadata": {
        "id": "AkBsrsXMzoWR",
        "colab": {
          "base_uri": "https://localhost:8080/",
          "height": 559
        },
        "outputId": "98568c62-7fe3-43cf-f464-ce8fddd2d8de"
      },
      "outputs": [
        {
          "output_type": "execute_result",
          "data": {
            "text/plain": [
              "(1e-08, 0.001, 0.0, 30.0)"
            ]
          },
          "metadata": {},
          "execution_count": 10
        },
        {
          "output_type": "display_data",
          "data": {
            "text/plain": [
              "<Figure size 1000x600 with 1 Axes>"
            ],
            "image/png": "[encoded data removed]"
          },
          "metadata": {}
        }
      ],
      "source": [
        "# Define the learning rate array\n",
        "lrs = 1e-8 * (10 ** (np.arange(100) / 20))\n",
        "\n",
        "# Set the figure size\n",
        "plt.figure(figsize=(10, 6))\n",
        "\n",
        "# Set the grid\n",
        "plt.grid(True)\n",
        "\n",
        "# Plot the loss in log scale\n",
        "plt.semilogx(lrs, history.history[\"loss\"])\n",
        "\n",
        "# Increase the tickmarks size\n",
        "plt.tick_params('both', length=10, width=1, which='both')\n",
        "\n",
        "# Set the plot boundaries\n",
        "plt.axis([1e-8, 1e-3, 0, 30])"
      ]
    },
    {
      "cell_type": "markdown",
      "metadata": {
        "id": "i-lKNp4pq_w8"
      },
      "source": [
        "## Train the Model\n",
        "\n",
        "You can then proceed to train the model with your chosen learning rate.\n",
        "\n",
        "*Tip: When experimenting and you find yourself running different iterations of a model, you may want to use the [`clear_session()`](https://www.tensorflow.org/api_docs/python/tf/keras/backend/clear_session) method to declutter memory used by Keras. This is added in the first line below.*\n"
      ]
    },
    {
      "cell_type": "code",
      "execution_count": 11,
      "metadata": {
        "id": "4uh-97bpLZCA",
        "colab": {
          "base_uri": "https://localhost:8080/"
        },
        "outputId": "0e7a7150-5089-481b-cf3d-afb392a3f96c"
      },
      "outputs": [
        {
          "output_type": "stream",
          "name": "stdout",
          "text": [
            "Epoch 1/100\n",
            "31/31 [==============================] - 6s 11ms/step - loss: 28.8730 - mae: 29.3677\n",
            "Epoch 2/100\n",
            "31/31 [==============================] - 0s 10ms/step - loss: 10.6171 - mae: 11.1035\n",
            "Epoch 3/100\n",
            "31/31 [==============================] - 0s 10ms/step - loss: 8.1723 - mae: 8.6512\n",
            "Epoch 4/100\n",
            "31/31 [==============================] - 0s 10ms/step - loss: 7.6980 - mae: 8.1796\n",
            "Epoch 5/100\n",
            "31/31 [==============================] - 1s 14ms/step - loss: 7.4184 - mae: 7.9001\n",
            "Epoch 6/100\n",
            "31/31 [==============================] - 1s 14ms/step - loss: 7.2252 - mae: 7.7066\n",
            "Epoch 7/100\n",
            "31/31 [==============================] - 1s 14ms/step - loss: 7.0140 - mae: 7.4892\n",
            "Epoch 8/100\n",
            "31/31 [==============================] - 0s 10ms/step - loss: 6.9154 - mae: 7.3985\n",
            "Epoch 9/100\n",
            "31/31 [==============================] - 1s 17ms/step - loss: 6.7548 - mae: 7.2329\n",
            "Epoch 10/100\n",
            "31/31 [==============================] - 1s 17ms/step - loss: 6.7401 - mae: 7.2192\n",
            "Epoch 11/100\n",
            "31/31 [==============================] - 1s 18ms/step - loss: 6.4971 - mae: 6.9786\n",
            "Epoch 12/100\n",
            "31/31 [==============================] - 1s 20ms/step - loss: 6.4354 - mae: 6.9167\n",
            "Epoch 13/100\n",
            "31/31 [==============================] - 1s 20ms/step - loss: 6.2614 - mae: 6.7365\n",
            "Epoch 14/100\n",
            "31/31 [==============================] - 1s 20ms/step - loss: 6.3115 - mae: 6.7911\n",
            "Epoch 15/100\n",
            "31/31 [==============================] - 1s 19ms/step - loss: 6.0801 - mae: 6.5562\n",
            "Epoch 16/100\n",
            "31/31 [==============================] - 1s 18ms/step - loss: 6.0738 - mae: 6.5549\n",
            "Epoch 17/100\n",
            "31/31 [==============================] - 1s 17ms/step - loss: 5.9163 - mae: 6.3948\n",
            "Epoch 18/100\n",
            "31/31 [==============================] - 1s 17ms/step - loss: 5.8511 - mae: 6.3288\n",
            "Epoch 19/100\n",
            "31/31 [==============================] - 1s 18ms/step - loss: 5.7548 - mae: 6.2312\n",
            "Epoch 20/100\n",
            "31/31 [==============================] - 1s 33ms/step - loss: 5.6754 - mae: 6.1527\n",
            "Epoch 21/100\n",
            "31/31 [==============================] - 2s 39ms/step - loss: 5.5924 - mae: 6.0683\n",
            "Epoch 22/100\n",
            "31/31 [==============================] - 1s 13ms/step - loss: 5.5500 - mae: 6.0267\n",
            "Epoch 23/100\n",
            "31/31 [==============================] - 0s 10ms/step - loss: 5.4290 - mae: 5.9047\n",
            "Epoch 24/100\n",
            "31/31 [==============================] - 0s 10ms/step - loss: 5.3711 - mae: 5.8480\n",
            "Epoch 25/100\n",
            "31/31 [==============================] - 0s 10ms/step - loss: 5.3246 - mae: 5.7983\n",
            "Epoch 26/100\n",
            "31/31 [==============================] - 0s 10ms/step - loss: 5.2526 - mae: 5.7276\n",
            "Epoch 27/100\n",
            "31/31 [==============================] - 0s 10ms/step - loss: 5.1999 - mae: 5.6752\n",
            "Epoch 28/100\n",
            "31/31 [==============================] - 0s 10ms/step - loss: 5.2027 - mae: 5.6758\n",
            "Epoch 29/100\n",
            "31/31 [==============================] - 0s 10ms/step - loss: 5.2135 - mae: 5.6891\n",
            "Epoch 30/100\n",
            "31/31 [==============================] - 0s 9ms/step - loss: 5.0277 - mae: 5.5045\n",
            "Epoch 31/100\n",
            "31/31 [==============================] - 0s 10ms/step - loss: 5.0580 - mae: 5.5367\n",
            "Epoch 32/100\n",
            "31/31 [==============================] - 0s 10ms/step - loss: 5.1338 - mae: 5.6151\n",
            "Epoch 33/100\n",
            "31/31 [==============================] - 0s 10ms/step - loss: 5.1017 - mae: 5.5800\n",
            "Epoch 34/100\n",
            "31/31 [==============================] - 0s 11ms/step - loss: 4.8456 - mae: 5.3178\n",
            "Epoch 35/100\n",
            "31/31 [==============================] - 0s 10ms/step - loss: 4.8292 - mae: 5.3074\n",
            "Epoch 36/100\n",
            "31/31 [==============================] - 0s 9ms/step - loss: 4.8114 - mae: 5.2864\n",
            "Epoch 37/100\n",
            "31/31 [==============================] - 0s 10ms/step - loss: 4.7779 - mae: 5.2507\n",
            "Epoch 38/100\n",
            "31/31 [==============================] - 0s 10ms/step - loss: 4.7932 - mae: 5.2689\n",
            "Epoch 39/100\n",
            "31/31 [==============================] - 0s 10ms/step - loss: 4.7672 - mae: 5.2483\n",
            "Epoch 40/100\n",
            "31/31 [==============================] - 0s 10ms/step - loss: 4.7239 - mae: 5.1992\n",
            "Epoch 41/100\n",
            "31/31 [==============================] - 1s 15ms/step - loss: 4.7204 - mae: 5.1958\n",
            "Epoch 42/100\n",
            "31/31 [==============================] - 1s 12ms/step - loss: 4.6547 - mae: 5.1249\n",
            "Epoch 43/100\n",
            "31/31 [==============================] - 0s 10ms/step - loss: 4.6360 - mae: 5.1086\n",
            "Epoch 44/100\n",
            "31/31 [==============================] - 0s 10ms/step - loss: 4.7455 - mae: 5.2190\n",
            "Epoch 45/100\n",
            "31/31 [==============================] - 0s 10ms/step - loss: 4.6788 - mae: 5.1547\n",
            "Epoch 46/100\n",
            "31/31 [==============================] - 0s 10ms/step - loss: 4.7209 - mae: 5.1947\n",
            "Epoch 47/100\n",
            "31/31 [==============================] - 0s 10ms/step - loss: 4.6179 - mae: 5.0940\n",
            "Epoch 48/100\n",
            "31/31 [==============================] - 0s 10ms/step - loss: 4.6342 - mae: 5.1060\n",
            "Epoch 49/100\n",
            "31/31 [==============================] - 0s 9ms/step - loss: 4.6252 - mae: 5.1033\n",
            "Epoch 50/100\n",
            "31/31 [==============================] - 0s 9ms/step - loss: 4.8173 - mae: 5.2953\n",
            "Epoch 51/100\n",
            "31/31 [==============================] - 0s 10ms/step - loss: 4.6199 - mae: 5.0972\n",
            "Epoch 52/100\n",
            "31/31 [==============================] - 0s 9ms/step - loss: 4.6466 - mae: 5.1213\n",
            "Epoch 53/100\n",
            "31/31 [==============================] - 0s 10ms/step - loss: 4.6062 - mae: 5.0821\n",
            "Epoch 54/100\n",
            "31/31 [==============================] - 0s 10ms/step - loss: 4.5841 - mae: 5.0560\n",
            "Epoch 55/100\n",
            "31/31 [==============================] - 0s 10ms/step - loss: 4.5351 - mae: 5.0091\n",
            "Epoch 56/100\n",
            "31/31 [==============================] - 0s 10ms/step - loss: 4.5863 - mae: 5.0616\n",
            "Epoch 57/100\n",
            "31/31 [==============================] - 0s 9ms/step - loss: 4.5396 - mae: 5.0159\n",
            "Epoch 58/100\n",
            "31/31 [==============================] - 0s 10ms/step - loss: 4.5109 - mae: 4.9870\n",
            "Epoch 59/100\n",
            "31/31 [==============================] - 0s 10ms/step - loss: 4.5010 - mae: 4.9706\n",
            "Epoch 60/100\n",
            "31/31 [==============================] - 0s 10ms/step - loss: 4.5178 - mae: 4.9912\n",
            "Epoch 61/100\n",
            "31/31 [==============================] - 0s 10ms/step - loss: 4.5295 - mae: 5.0062\n",
            "Epoch 62/100\n",
            "31/31 [==============================] - 0s 10ms/step - loss: 4.4851 - mae: 4.9557\n",
            "Epoch 63/100\n",
            "31/31 [==============================] - 0s 10ms/step - loss: 4.4922 - mae: 4.9646\n",
            "Epoch 64/100\n",
            "31/31 [==============================] - 0s 12ms/step - loss: 4.4842 - mae: 4.9590\n",
            "Epoch 65/100\n",
            "31/31 [==============================] - 1s 14ms/step - loss: 4.5135 - mae: 4.9917\n",
            "Epoch 66/100\n",
            "31/31 [==============================] - 1s 14ms/step - loss: 4.5485 - mae: 5.0217\n",
            "Epoch 67/100\n",
            "31/31 [==============================] - 0s 10ms/step - loss: 4.4291 - mae: 4.9041\n",
            "Epoch 68/100\n",
            "31/31 [==============================] - 0s 10ms/step - loss: 4.5685 - mae: 5.0409\n",
            "Epoch 69/100\n",
            "31/31 [==============================] - 0s 10ms/step - loss: 4.5763 - mae: 5.0467\n",
            "Epoch 70/100\n",
            "31/31 [==============================] - 0s 10ms/step - loss: 4.4616 - mae: 4.9352\n",
            "Epoch 71/100\n",
            "31/31 [==============================] - 0s 10ms/step - loss: 4.4331 - mae: 4.9056\n",
            "Epoch 72/100\n",
            "31/31 [==============================] - 0s 10ms/step - loss: 4.5214 - mae: 4.9959\n",
            "Epoch 73/100\n",
            "31/31 [==============================] - 0s 10ms/step - loss: 4.4291 - mae: 4.9005\n",
            "Epoch 74/100\n",
            "31/31 [==============================] - 0s 10ms/step - loss: 4.5552 - mae: 5.0293\n",
            "Epoch 75/100\n",
            "31/31 [==============================] - 0s 10ms/step - loss: 4.4923 - mae: 4.9649\n",
            "Epoch 76/100\n",
            "31/31 [==============================] - 0s 10ms/step - loss: 4.4463 - mae: 4.9197\n",
            "Epoch 77/100\n",
            "31/31 [==============================] - 0s 10ms/step - loss: 4.4747 - mae: 4.9513\n",
            "Epoch 78/100\n",
            "31/31 [==============================] - 0s 10ms/step - loss: 4.4418 - mae: 4.9187\n",
            "Epoch 79/100\n",
            "31/31 [==============================] - 0s 10ms/step - loss: 4.4485 - mae: 4.9247\n",
            "Epoch 80/100\n",
            "31/31 [==============================] - 0s 10ms/step - loss: 4.4114 - mae: 4.8869\n",
            "Epoch 81/100\n",
            "31/31 [==============================] - 0s 10ms/step - loss: 4.4970 - mae: 4.9719\n",
            "Epoch 82/100\n",
            "31/31 [==============================] - 0s 10ms/step - loss: 4.5173 - mae: 4.9885\n",
            "Epoch 83/100\n",
            "31/31 [==============================] - 0s 9ms/step - loss: 4.4455 - mae: 4.9202\n",
            "Epoch 84/100\n",
            "31/31 [==============================] - 0s 10ms/step - loss: 4.4709 - mae: 4.9430\n",
            "Epoch 85/100\n",
            "31/31 [==============================] - 0s 11ms/step - loss: 4.4264 - mae: 4.9001\n",
            "Epoch 86/100\n",
            "31/31 [==============================] - 0s 10ms/step - loss: 4.5564 - mae: 5.0319\n",
            "Epoch 87/100\n",
            "31/31 [==============================] - 0s 10ms/step - loss: 4.4363 - mae: 4.9134\n",
            "Epoch 88/100\n",
            "31/31 [==============================] - 0s 12ms/step - loss: 4.4999 - mae: 4.9747\n",
            "Epoch 89/100\n",
            "31/31 [==============================] - 1s 14ms/step - loss: 4.4445 - mae: 4.9181\n",
            "Epoch 90/100\n",
            "31/31 [==============================] - 1s 10ms/step - loss: 4.4298 - mae: 4.9041\n",
            "Epoch 91/100\n",
            "31/31 [==============================] - 0s 10ms/step - loss: 4.3910 - mae: 4.8613\n",
            "Epoch 92/100\n",
            "31/31 [==============================] - 0s 10ms/step - loss: 4.4004 - mae: 4.8730\n",
            "Epoch 93/100\n",
            "31/31 [==============================] - 0s 10ms/step - loss: 4.4004 - mae: 4.8713\n",
            "Epoch 94/100\n",
            "31/31 [==============================] - 0s 11ms/step - loss: 4.4334 - mae: 4.9091\n",
            "Epoch 95/100\n",
            "31/31 [==============================] - 0s 10ms/step - loss: 4.3934 - mae: 4.8687\n",
            "Epoch 96/100\n",
            "31/31 [==============================] - 0s 10ms/step - loss: 4.3773 - mae: 4.8520\n",
            "Epoch 97/100\n",
            "31/31 [==============================] - 0s 10ms/step - loss: 4.4843 - mae: 4.9610\n",
            "Epoch 98/100\n",
            "31/31 [==============================] - 0s 10ms/step - loss: 4.3790 - mae: 4.8552\n",
            "Epoch 99/100\n",
            "31/31 [==============================] - 0s 10ms/step - loss: 4.4121 - mae: 4.8875\n",
            "Epoch 100/100\n",
            "31/31 [==============================] - 0s 11ms/step - loss: 4.3543 - mae: 4.8260\n"
          ]
        }
      ],
      "source": [
        "# Reset states generated by Keras\n",
        "tf.keras.backend.clear_session()\n",
        "\n",
        "# Build the model\n",
        "model = tf.keras.models.Sequential([\n",
        "  tf.keras.layers.Lambda(lambda x: tf.expand_dims(x, axis=-1),\n",
        "                      input_shape=[None]),\n",
        "   tf.keras.layers.Bidirectional(tf.keras.layers.LSTM(32, return_sequences=True)),\n",
        "  tf.keras.layers.Bidirectional(tf.keras.layers.LSTM(32)),\n",
        "  tf.keras.layers.Dense(1),\n",
        "  tf.keras.layers.Lambda(lambda x: x * 100.0)\n",
        "])\n",
        "\n",
        "# Set the learning rate\n",
        "learning_rate = 2e-6\n",
        "\n",
        "# Set the optimizer\n",
        "optimizer = tf.keras.optimizers.SGD(learning_rate=learning_rate, momentum=0.9)\n",
        "\n",
        "# Set the training parameters\n",
        "model.compile(loss=tf.keras.losses.Huber(),\n",
        "              optimizer=optimizer,\n",
        "              metrics=[\"mae\"])\n",
        "\n",
        "# Train the model\n",
        "history = model.fit(dataset,epochs=100)"
      ]
    },
    {
      "cell_type": "markdown",
      "metadata": {
        "id": "RjP4kbGiI7cw"
      },
      "source": [
        "## Model Prediction\n",
        "\n",
        "You will then generate batches of windows to generate predictions that align with the validation set."
      ]
    },
    {
      "cell_type": "code",
      "execution_count": 12,
      "metadata": {
        "id": "QO8cfKwKBBG6"
      },
      "outputs": [],
      "source": [
        "def model_forecast(model, series, window_size, batch_size):\n",
        "    \"\"\"Uses an input model to generate predictions on data windows\n",
        "\n",
        "    Args:\n",
        "      model (TF Keras Model) - model that accepts data windows\n",
        "      series (array of float) - contains the values of the time series\n",
        "      window_size (int) - the number of time steps to include in the window\n",
        "      batch_size (int) - the batch size\n",
        "\n",
        "    Returns:\n",
        "      forecast (numpy array) - array containing predictions\n",
        "    \"\"\"\n",
        "\n",
        "    # Generate a TF Dataset from the series values\n",
        "    dataset = tf.data.Dataset.from_tensor_slices(series)\n",
        "\n",
        "    # Window the data but only take those with the specified size\n",
        "    dataset = dataset.window(window_size, shift=1, drop_remainder=True)\n",
        "\n",
        "    # Flatten the windows by putting its elements in a single batch\n",
        "    dataset = dataset.flat_map(lambda w: w.batch(window_size))\n",
        "\n",
        "    # Create batches of windows\n",
        "    dataset = dataset.batch(batch_size).prefetch(1)\n",
        "\n",
        "    # Get predictions on the entire dataset\n",
        "    forecast = model.predict(dataset)\n",
        "\n",
        "    return forecast"
      ]
    },
    {
      "cell_type": "code",
      "execution_count": 13,
      "metadata": {
        "id": "_plB3UseBD8o",
        "colab": {
          "base_uri": "https://localhost:8080/",
          "height": 560
        },
        "outputId": "23945908-88bc-4d90-b9c2-328aa12b0254"
      },
      "outputs": [
        {
          "output_type": "stream",
          "name": "stdout",
          "text": [
            "15/15 [==============================] - 1s 9ms/step\n"
          ]
        },
        {
          "output_type": "display_data",
          "data": {
            "text/plain": [
              "<Figure size 1000x600 with 1 Axes>"
            ],
            "image/png": "[encoded data removed]"
          },
          "metadata": {}
        }
      ],
      "source": [
        "# Reduce the original series\n",
        "forecast_series = series[split_time-window_size:-1]\n",
        "\n",
        "# Use helper function to generate predictions\n",
        "forecast = model_forecast(model, forecast_series, window_size, batch_size)\n",
        "\n",
        "# Drop single dimensional axis\n",
        "results = forecast.squeeze()\n",
        "\n",
        "# Plot the results\n",
        "plot_series(time_valid, (x_valid, results))"
      ]
    },
    {
      "cell_type": "markdown",
      "metadata": {
        "id": "Nn8iSQkZtaRC"
      },
      "source": [
        "You can then generate the metrics to evaluate the model's performance."
      ]
    },
    {
      "cell_type": "code",
      "execution_count": 14,
      "metadata": {
        "id": "-IKhueZaBGID",
        "colab": {
          "base_uri": "https://localhost:8080/"
        },
        "outputId": "5fe2d955-b8d9-444a-abe7-619ab956d4e5"
      },
      "outputs": [
        {
          "output_type": "stream",
          "name": "stdout",
          "text": [
            "66.860374\n",
            "5.8306227\n"
          ]
        }
      ],
      "source": [
        "# Compute the MSE and MAE\n",
        "print(tf.keras.metrics.mean_squared_error(x_valid, results).numpy())\n",
        "print(tf.keras.metrics.mean_absolute_error(x_valid, results).numpy())"
      ]
    },
    {
      "cell_type": "markdown",
      "metadata": {
        "id": "bzPIqeMWvbPy"
      },
      "source": [
        "## Wrap Up\n",
        "\n",
        "This concludes this short exercise on using LSTMs for time series forecasting. Next week, you will build upon this and add convolutions. Then, you will start to move away from synthetic data and use real-world datasets. See you there!"
      ]
    },
    {
      "cell_type": "markdown",
      "metadata": {
        "id": "U5PqTePGHeMH"
      },
      "source": [
        "## Optional: Including a Validation Set while Training\n",
        "\n",
        "Back in the first course of this specialization, you saw how you can also monitor the performance of your model against a validation set while training. You can also do that for this lab.\n",
        "\n",
        "First, you need to generate a `val_set` which are data windows and labels that your model can accept. You can simply reuse the `windowed_dataset` function for that and you can pass in the `x_valid` points to generate the windows."
      ]
    },
    {
      "cell_type": "code",
      "execution_count": 15,
      "metadata": {
        "id": "kvFVwL3PC4iX"
      },
      "outputs": [],
      "source": [
        "# Generate data windows of the validation set\n",
        "val_set = windowed_dataset(x_valid, window_size, batch_size, shuffle_buffer_size)"
      ]
    },
    {
      "cell_type": "markdown",
      "metadata": {
        "id": "p68j6XxEvP9K"
      },
      "source": [
        "You can then do the same training as before but pass in the `val_set` to the `validation_data` parameter of the `fit()` method."
      ]
    },
    {
      "cell_type": "code",
      "execution_count": 16,
      "metadata": {
        "id": "wujKz6tXDSn0",
        "colab": {
          "base_uri": "https://localhost:8080/"
        },
        "outputId": "65186e56-7e46-481c-85bd-b77bee66d8f1"
      },
      "outputs": [
        {
          "output_type": "stream",
          "name": "stdout",
          "text": [
            "Epoch 1/100\n",
            "31/31 [==============================] - 8s 63ms/step - loss: 35.8019 - mae: 36.2994 - val_loss: 23.9233 - val_mae: 24.4228\n",
            "Epoch 2/100\n",
            "31/31 [==============================] - 1s 15ms/step - loss: 13.6631 - mae: 14.1570 - val_loss: 29.7180 - val_mae: 30.2153\n",
            "Epoch 3/100\n",
            "31/31 [==============================] - 0s 13ms/step - loss: 9.2012 - mae: 9.6881 - val_loss: 20.9892 - val_mae: 21.4844\n",
            "Epoch 4/100\n",
            "31/31 [==============================] - 0s 13ms/step - loss: 7.3088 - mae: 7.7957 - val_loss: 16.9527 - val_mae: 17.4499\n",
            "Epoch 5/100\n",
            "31/31 [==============================] - 1s 15ms/step - loss: 6.6189 - mae: 7.1052 - val_loss: 14.3994 - val_mae: 14.8941\n",
            "Epoch 6/100\n",
            "31/31 [==============================] - 1s 14ms/step - loss: 6.2771 - mae: 6.7586 - val_loss: 12.4610 - val_mae: 12.9509\n",
            "Epoch 7/100\n",
            "31/31 [==============================] - 0s 13ms/step - loss: 6.0917 - mae: 6.5703 - val_loss: 10.9464 - val_mae: 11.4340\n",
            "Epoch 8/100\n",
            "31/31 [==============================] - 0s 13ms/step - loss: 5.9188 - mae: 6.3968 - val_loss: 10.5249 - val_mae: 11.0128\n",
            "Epoch 9/100\n",
            "31/31 [==============================] - 0s 13ms/step - loss: 5.8647 - mae: 6.3444 - val_loss: 8.8853 - val_mae: 9.3716\n",
            "Epoch 10/100\n",
            "31/31 [==============================] - 1s 14ms/step - loss: 5.7309 - mae: 6.2081 - val_loss: 8.8619 - val_mae: 9.3490\n",
            "Epoch 11/100\n",
            "31/31 [==============================] - 0s 13ms/step - loss: 5.5803 - mae: 6.0555 - val_loss: 7.9215 - val_mae: 8.4082\n",
            "Epoch 12/100\n",
            "31/31 [==============================] - 1s 25ms/step - loss: 5.5558 - mae: 6.0354 - val_loss: 8.5047 - val_mae: 8.9905\n",
            "Epoch 13/100\n",
            "31/31 [==============================] - 1s 21ms/step - loss: 5.4683 - mae: 5.9493 - val_loss: 7.6270 - val_mae: 8.1140\n",
            "Epoch 14/100\n",
            "31/31 [==============================] - 1s 14ms/step - loss: 5.3749 - mae: 5.8541 - val_loss: 8.0266 - val_mae: 8.5134\n",
            "Epoch 15/100\n",
            "31/31 [==============================] - 0s 13ms/step - loss: 5.3732 - mae: 5.8559 - val_loss: 7.4915 - val_mae: 7.9706\n",
            "Epoch 16/100\n",
            "31/31 [==============================] - 0s 13ms/step - loss: 5.2824 - mae: 5.7614 - val_loss: 8.3041 - val_mae: 8.7915\n",
            "Epoch 17/100\n",
            "31/31 [==============================] - 0s 13ms/step - loss: 5.3259 - mae: 5.8062 - val_loss: 7.3066 - val_mae: 7.7862\n",
            "Epoch 18/100\n",
            "31/31 [==============================] - 0s 13ms/step - loss: 5.1734 - mae: 5.6497 - val_loss: 6.9243 - val_mae: 7.4064\n",
            "Epoch 19/100\n",
            "31/31 [==============================] - 1s 15ms/step - loss: 5.1300 - mae: 5.6051 - val_loss: 8.3749 - val_mae: 8.8645\n",
            "Epoch 20/100\n",
            "31/31 [==============================] - 0s 13ms/step - loss: 5.1180 - mae: 5.5947 - val_loss: 6.5229 - val_mae: 7.0077\n",
            "Epoch 21/100\n",
            "31/31 [==============================] - 0s 13ms/step - loss: 5.0907 - mae: 5.5683 - val_loss: 6.7126 - val_mae: 7.1944\n",
            "Epoch 22/100\n",
            "31/31 [==============================] - 0s 13ms/step - loss: 4.9744 - mae: 5.4512 - val_loss: 6.5966 - val_mae: 7.0777\n",
            "Epoch 23/100\n",
            "31/31 [==============================] - 1s 13ms/step - loss: 4.9983 - mae: 5.4724 - val_loss: 6.2933 - val_mae: 6.7768\n",
            "Epoch 24/100\n",
            "31/31 [==============================] - 0s 13ms/step - loss: 4.9549 - mae: 5.4321 - val_loss: 6.3991 - val_mae: 6.8787\n",
            "Epoch 25/100\n",
            "31/31 [==============================] - 1s 15ms/step - loss: 4.9224 - mae: 5.4006 - val_loss: 7.3542 - val_mae: 7.8349\n",
            "Epoch 26/100\n",
            "31/31 [==============================] - 0s 13ms/step - loss: 4.9315 - mae: 5.4093 - val_loss: 8.1264 - val_mae: 8.6145\n",
            "Epoch 27/100\n",
            "31/31 [==============================] - 0s 13ms/step - loss: 4.9776 - mae: 5.4555 - val_loss: 5.8666 - val_mae: 6.3443\n",
            "Epoch 28/100\n",
            "31/31 [==============================] - 1s 13ms/step - loss: 4.9178 - mae: 5.3899 - val_loss: 6.2599 - val_mae: 6.7397\n",
            "Epoch 29/100\n",
            "31/31 [==============================] - 1s 14ms/step - loss: 4.9116 - mae: 5.3890 - val_loss: 6.2751 - val_mae: 6.7542\n",
            "Epoch 30/100\n",
            "31/31 [==============================] - 0s 13ms/step - loss: 4.9536 - mae: 5.4322 - val_loss: 6.8854 - val_mae: 7.3649\n",
            "Epoch 31/100\n",
            "31/31 [==============================] - 1s 20ms/step - loss: 4.9388 - mae: 5.4137 - val_loss: 5.9756 - val_mae: 6.4626\n",
            "Epoch 32/100\n",
            "31/31 [==============================] - 1s 20ms/step - loss: 4.8624 - mae: 5.3401 - val_loss: 5.9029 - val_mae: 6.3898\n",
            "Epoch 33/100\n",
            "31/31 [==============================] - 1s 26ms/step - loss: 4.8221 - mae: 5.2997 - val_loss: 5.6354 - val_mae: 6.1153\n",
            "Epoch 34/100\n",
            "31/31 [==============================] - 0s 13ms/step - loss: 4.8009 - mae: 5.2776 - val_loss: 5.8247 - val_mae: 6.3125\n",
            "Epoch 35/100\n",
            "31/31 [==============================] - 1s 13ms/step - loss: 4.8547 - mae: 5.3297 - val_loss: 6.3318 - val_mae: 6.8112\n",
            "Epoch 36/100\n",
            "31/31 [==============================] - 0s 13ms/step - loss: 4.8285 - mae: 5.3050 - val_loss: 6.3900 - val_mae: 6.8683\n",
            "Epoch 37/100\n",
            "31/31 [==============================] - 1s 14ms/step - loss: 4.8200 - mae: 5.2946 - val_loss: 6.2291 - val_mae: 6.7078\n",
            "Epoch 38/100\n",
            "31/31 [==============================] - 1s 14ms/step - loss: 4.8232 - mae: 5.2986 - val_loss: 6.4454 - val_mae: 6.9247\n",
            "Epoch 39/100\n",
            "31/31 [==============================] - 1s 13ms/step - loss: 4.9169 - mae: 5.3887 - val_loss: 5.5481 - val_mae: 6.0257\n",
            "Epoch 40/100\n",
            "31/31 [==============================] - 1s 14ms/step - loss: 4.8725 - mae: 5.3502 - val_loss: 5.5545 - val_mae: 6.0359\n",
            "Epoch 41/100\n",
            "31/31 [==============================] - 0s 13ms/step - loss: 4.8738 - mae: 5.3508 - val_loss: 6.4878 - val_mae: 6.9670\n",
            "Epoch 42/100\n",
            "31/31 [==============================] - 1s 14ms/step - loss: 4.7553 - mae: 5.2357 - val_loss: 6.8222 - val_mae: 7.3009\n",
            "Epoch 43/100\n",
            "31/31 [==============================] - 0s 13ms/step - loss: 4.7355 - mae: 5.2108 - val_loss: 6.5582 - val_mae: 7.0379\n",
            "Epoch 44/100\n",
            "31/31 [==============================] - 1s 16ms/step - loss: 4.8320 - mae: 5.3081 - val_loss: 6.2065 - val_mae: 6.6850\n",
            "Epoch 45/100\n",
            "31/31 [==============================] - 1s 19ms/step - loss: 4.7766 - mae: 5.2505 - val_loss: 6.0392 - val_mae: 6.5228\n",
            "Epoch 46/100\n",
            "31/31 [==============================] - 0s 13ms/step - loss: 4.6566 - mae: 5.1301 - val_loss: 6.1327 - val_mae: 6.6118\n",
            "Epoch 47/100\n",
            "31/31 [==============================] - 1s 15ms/step - loss: 4.6487 - mae: 5.1279 - val_loss: 5.6404 - val_mae: 6.1264\n",
            "Epoch 48/100\n",
            "31/31 [==============================] - 1s 14ms/step - loss: 4.6572 - mae: 5.1327 - val_loss: 5.6528 - val_mae: 6.1401\n",
            "Epoch 49/100\n",
            "31/31 [==============================] - 1s 14ms/step - loss: 4.6278 - mae: 5.1015 - val_loss: 5.6235 - val_mae: 6.1108\n",
            "Epoch 50/100\n",
            "31/31 [==============================] - 1s 27ms/step - loss: 4.6716 - mae: 5.1484 - val_loss: 5.6751 - val_mae: 6.1606\n",
            "Epoch 51/100\n",
            "31/31 [==============================] - 1s 28ms/step - loss: 4.7124 - mae: 5.1873 - val_loss: 5.3318 - val_mae: 5.8084\n",
            "Epoch 52/100\n",
            "31/31 [==============================] - 1s 18ms/step - loss: 4.8805 - mae: 5.3583 - val_loss: 5.5478 - val_mae: 6.0283\n",
            "Epoch 53/100\n",
            "31/31 [==============================] - 1s 14ms/step - loss: 4.8544 - mae: 5.3326 - val_loss: 5.4092 - val_mae: 5.8861\n",
            "Epoch 54/100\n",
            "31/31 [==============================] - 1s 15ms/step - loss: 4.6576 - mae: 5.1357 - val_loss: 5.6488 - val_mae: 6.1345\n",
            "Epoch 55/100\n",
            "31/31 [==============================] - 1s 15ms/step - loss: 4.6715 - mae: 5.1493 - val_loss: 6.1637 - val_mae: 6.6423\n",
            "Epoch 56/100\n",
            "31/31 [==============================] - 1s 15ms/step - loss: 4.6109 - mae: 5.0836 - val_loss: 6.3480 - val_mae: 6.8283\n",
            "Epoch 57/100\n",
            "31/31 [==============================] - 1s 14ms/step - loss: 4.6419 - mae: 5.1224 - val_loss: 6.0911 - val_mae: 6.5708\n",
            "Epoch 58/100\n",
            "31/31 [==============================] - 1s 16ms/step - loss: 4.6549 - mae: 5.1296 - val_loss: 5.6535 - val_mae: 6.1399\n",
            "Epoch 59/100\n",
            "31/31 [==============================] - 1s 31ms/step - loss: 4.5841 - mae: 5.0607 - val_loss: 5.7216 - val_mae: 6.2064\n",
            "Epoch 60/100\n",
            "31/31 [==============================] - 1s 30ms/step - loss: 4.6398 - mae: 5.1156 - val_loss: 5.3296 - val_mae: 5.8051\n",
            "Epoch 61/100\n",
            "31/31 [==============================] - 1s 28ms/step - loss: 4.5732 - mae: 5.0488 - val_loss: 5.4143 - val_mae: 5.8943\n",
            "Epoch 62/100\n",
            "31/31 [==============================] - 1s 13ms/step - loss: 4.5941 - mae: 5.0701 - val_loss: 5.4172 - val_mae: 5.8987\n",
            "Epoch 63/100\n",
            "31/31 [==============================] - 1s 15ms/step - loss: 4.6680 - mae: 5.1449 - val_loss: 5.4230 - val_mae: 5.9037\n",
            "Epoch 64/100\n",
            "31/31 [==============================] - 1s 14ms/step - loss: 4.5714 - mae: 5.0484 - val_loss: 6.2299 - val_mae: 6.7118\n",
            "Epoch 65/100\n",
            "31/31 [==============================] - 1s 15ms/step - loss: 4.6301 - mae: 5.1062 - val_loss: 5.6168 - val_mae: 6.0968\n",
            "Epoch 66/100\n",
            "31/31 [==============================] - 1s 14ms/step - loss: 4.5786 - mae: 5.0559 - val_loss: 5.7919 - val_mae: 6.2757\n",
            "Epoch 67/100\n",
            "31/31 [==============================] - 1s 25ms/step - loss: 4.6358 - mae: 5.1070 - val_loss: 5.3114 - val_mae: 5.7899\n",
            "Epoch 68/100\n",
            "31/31 [==============================] - 1s 20ms/step - loss: 4.6246 - mae: 5.1051 - val_loss: 6.1663 - val_mae: 6.6462\n",
            "Epoch 69/100\n",
            "31/31 [==============================] - 1s 14ms/step - loss: 4.5707 - mae: 5.0431 - val_loss: 5.4344 - val_mae: 5.9190\n",
            "Epoch 70/100\n",
            "31/31 [==============================] - 1s 14ms/step - loss: 4.5428 - mae: 5.0174 - val_loss: 5.7765 - val_mae: 6.2555\n",
            "Epoch 71/100\n",
            "31/31 [==============================] - 1s 14ms/step - loss: 4.6653 - mae: 5.1397 - val_loss: 5.1781 - val_mae: 5.6570\n",
            "Epoch 72/100\n",
            "31/31 [==============================] - 0s 13ms/step - loss: 4.6946 - mae: 5.1740 - val_loss: 5.3679 - val_mae: 5.8515\n",
            "Epoch 73/100\n",
            "31/31 [==============================] - 1s 14ms/step - loss: 4.5672 - mae: 5.0461 - val_loss: 5.3323 - val_mae: 5.8133\n",
            "Epoch 74/100\n",
            "31/31 [==============================] - 0s 13ms/step - loss: 4.5814 - mae: 5.0551 - val_loss: 5.7592 - val_mae: 6.2403\n",
            "Epoch 75/100\n",
            "31/31 [==============================] - 1s 14ms/step - loss: 4.5120 - mae: 4.9921 - val_loss: 5.1711 - val_mae: 5.6470\n",
            "Epoch 76/100\n",
            "31/31 [==============================] - 0s 13ms/step - loss: 4.4936 - mae: 4.9656 - val_loss: 5.4555 - val_mae: 5.9429\n",
            "Epoch 77/100\n",
            "31/31 [==============================] - 1s 15ms/step - loss: 4.5613 - mae: 5.0358 - val_loss: 5.1105 - val_mae: 5.5840\n",
            "Epoch 78/100\n",
            "31/31 [==============================] - 1s 15ms/step - loss: 4.5560 - mae: 5.0326 - val_loss: 5.8193 - val_mae: 6.2987\n",
            "Epoch 79/100\n",
            "31/31 [==============================] - 1s 14ms/step - loss: 4.4950 - mae: 4.9743 - val_loss: 5.5863 - val_mae: 6.0658\n",
            "Epoch 80/100\n",
            "31/31 [==============================] - 1s 13ms/step - loss: 4.5567 - mae: 5.0323 - val_loss: 5.2501 - val_mae: 5.7386\n",
            "Epoch 81/100\n",
            "31/31 [==============================] - 1s 14ms/step - loss: 4.6213 - mae: 5.0941 - val_loss: 5.1007 - val_mae: 5.5803\n",
            "Epoch 82/100\n",
            "31/31 [==============================] - 1s 14ms/step - loss: 4.5624 - mae: 5.0370 - val_loss: 5.2366 - val_mae: 5.7151\n",
            "Epoch 83/100\n",
            "31/31 [==============================] - 1s 15ms/step - loss: 4.5533 - mae: 5.0289 - val_loss: 5.1755 - val_mae: 5.6661\n",
            "Epoch 84/100\n",
            "31/31 [==============================] - 0s 13ms/step - loss: 4.5154 - mae: 4.9940 - val_loss: 5.5937 - val_mae: 6.0730\n",
            "Epoch 85/100\n",
            "31/31 [==============================] - 1s 15ms/step - loss: 4.5821 - mae: 5.0547 - val_loss: 5.0711 - val_mae: 5.5463\n",
            "Epoch 86/100\n",
            "31/31 [==============================] - 0s 14ms/step - loss: 4.5492 - mae: 5.0227 - val_loss: 5.3291 - val_mae: 5.8082\n",
            "Epoch 87/100\n",
            "31/31 [==============================] - 1s 24ms/step - loss: 4.7342 - mae: 5.2095 - val_loss: 5.0501 - val_mae: 5.5288\n",
            "Epoch 88/100\n",
            "31/31 [==============================] - 1s 17ms/step - loss: 4.5293 - mae: 5.0061 - val_loss: 5.5388 - val_mae: 6.0197\n",
            "Epoch 89/100\n",
            "31/31 [==============================] - 1s 13ms/step - loss: 4.4888 - mae: 4.9627 - val_loss: 5.2322 - val_mae: 5.7082\n",
            "Epoch 90/100\n",
            "31/31 [==============================] - 0s 13ms/step - loss: 4.4970 - mae: 4.9712 - val_loss: 5.0450 - val_mae: 5.5244\n",
            "Epoch 91/100\n",
            "31/31 [==============================] - 0s 13ms/step - loss: 4.4911 - mae: 4.9650 - val_loss: 5.3596 - val_mae: 5.8394\n",
            "Epoch 92/100\n",
            "31/31 [==============================] - 0s 13ms/step - loss: 4.4911 - mae: 4.9649 - val_loss: 5.2911 - val_mae: 5.7690\n",
            "Epoch 93/100\n",
            "31/31 [==============================] - 0s 13ms/step - loss: 4.5186 - mae: 4.9973 - val_loss: 5.4364 - val_mae: 5.9176\n",
            "Epoch 94/100\n",
            "31/31 [==============================] - 0s 13ms/step - loss: 4.5076 - mae: 4.9858 - val_loss: 4.9830 - val_mae: 5.4599\n",
            "Epoch 95/100\n",
            "31/31 [==============================] - 0s 13ms/step - loss: 4.5097 - mae: 4.9879 - val_loss: 5.1665 - val_mae: 5.6396\n",
            "Epoch 96/100\n",
            "31/31 [==============================] - 1s 14ms/step - loss: 4.5043 - mae: 4.9790 - val_loss: 5.3856 - val_mae: 5.8657\n",
            "Epoch 97/100\n",
            "31/31 [==============================] - 0s 13ms/step - loss: 4.5014 - mae: 4.9774 - val_loss: 5.3994 - val_mae: 5.8803\n",
            "Epoch 98/100\n",
            "31/31 [==============================] - 0s 13ms/step - loss: 4.5223 - mae: 4.9994 - val_loss: 6.1285 - val_mae: 6.6103\n",
            "Epoch 99/100\n",
            "31/31 [==============================] - 1s 13ms/step - loss: 4.4839 - mae: 4.9527 - val_loss: 4.9596 - val_mae: 5.4382\n",
            "Epoch 100/100\n",
            "31/31 [==============================] - 1s 15ms/step - loss: 4.6293 - mae: 5.1077 - val_loss: 5.0520 - val_mae: 5.5273\n"
          ]
        }
      ],
      "source": [
        "# Reset states generated by Keras\n",
        "tf.keras.backend.clear_session()\n",
        "\n",
        "# Build the model\n",
        "model = tf.keras.models.Sequential([\n",
        "  tf.keras.layers.Lambda(lambda x: tf.expand_dims(x, axis=-1),\n",
        "                      input_shape=[None]),\n",
        "   tf.keras.layers.Bidirectional(tf.keras.layers.LSTM(32, return_sequences=True)),\n",
        "  tf.keras.layers.Bidirectional(tf.keras.layers.LSTM(32)),\n",
        "  tf.keras.layers.Dense(1),\n",
        "  tf.keras.layers.Lambda(lambda x: x * 100.0)\n",
        "])\n",
        "\n",
        "# Set the learning rate\n",
        "learning_rate = 2e-6\n",
        "\n",
        "# Set the optimizer\n",
        "optimizer = tf.keras.optimizers.SGD(learning_rate=learning_rate, momentum=0.9)\n",
        "\n",
        "# Set the training parameters\n",
        "model.compile(loss=tf.keras.losses.Huber(),\n",
        "              optimizer=optimizer,\n",
        "              metrics=[\"mae\"])\n",
        "\n",
        "# Train the model\n",
        "history = model.fit(dataset,epochs=100, validation_data=val_set)"
      ]
    }
  ],
  "metadata": {
    "accelerator": "GPU",
    "colab": {
      "provenance": [],
      "gpuType": "T4"
    },
    "kernelspec": {
      "display_name": "Python 3",
      "name": "python3"
    },
    "language_info": {
      "codemirror_mode": {
        "name": "ipython",
        "version": 3
      },
      "file_extension": ".py",
      "mimetype": "text/x-python",
      "name": "python",
      "nbconvert_exporter": "python",
      "pygments_lexer": "ipython3",
      "version": "3.9.13"
    }
  },
  "nbformat": 4,
  "nbformat_minor": 0
}